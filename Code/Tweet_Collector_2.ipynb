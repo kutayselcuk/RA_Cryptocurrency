{
 "cells": [
  {
   "cell_type": "code",
   "execution_count": 1,
   "metadata": {},
   "outputs": [],
   "source": [
    "# Import Libraries\n",
    "import tweepy as tw\n",
    "import configparser\n",
    "import pandas as pd\n",
    "import numpy as np\n",
    "import matplotlib.pyplot as plt\n",
    "import seaborn as sns\n",
    "import sklearn\n",
    "import re\n",
    "import nltk\n",
    "import datetime\n",
    "from datetime import datetime as datetime_price\n",
    "import pytz\n",
    "from dateutil.relativedelta import relativedelta\n",
    "import time"
   ]
  },
  {
   "cell_type": "markdown",
   "metadata": {},
   "source": [
    "# Authentication for API"
   ]
  },
  {
   "cell_type": "code",
   "execution_count": 3,
   "metadata": {},
   "outputs": [],
   "source": [
    "keys = pd.read_csv(r\"C:\\Users\\Kutay\\Desktop\\My Docs\\My Docs v2.0\\Data Science\\RA\\Cryptocurrency\\Input\\TW API Keys\\API_2\\apikeys_2.csv\")\n",
    "\n",
    "my_api_key = keys[\"Keys\"][0]\n",
    "my_api_secret = keys[\"Keys\"][1]\n",
    "\n",
    "my_access_token = keys[\"Keys\"][2]\n",
    "my_access_token_secret = keys[\"Keys\"][3]"
   ]
  },
  {
   "cell_type": "code",
   "execution_count": 4,
   "metadata": {},
   "outputs": [],
   "source": [
    "# your Twitter API key ans access token\n",
    "api_key = my_api_key\n",
    "api_secret = my_api_secret\n",
    "\n",
    "access_token = my_access_token\n",
    "access_token_secret = my_access_token_secret"
   ]
  },
  {
   "cell_type": "code",
   "execution_count": 5,
   "metadata": {},
   "outputs": [],
   "source": [
    "# authenticate\n",
    "auth = tw.OAuthHandler(my_api_key, my_api_secret)\n",
    "auth.set_access_token(access_token, access_token_secret)"
   ]
  },
  {
   "cell_type": "code",
   "execution_count": 6,
   "metadata": {},
   "outputs": [],
   "source": [
    "api = tw.API(auth, wait_on_rate_limit=True)"
   ]
  },
  {
   "cell_type": "markdown",
   "metadata": {},
   "source": [
    "# Insert the List of Users"
   ]
  },
  {
   "cell_type": "code",
   "execution_count": 7,
   "metadata": {},
   "outputs": [
    {
     "data": {
      "text/html": [
       "<div>\n",
       "<style scoped>\n",
       "    .dataframe tbody tr th:only-of-type {\n",
       "        vertical-align: middle;\n",
       "    }\n",
       "\n",
       "    .dataframe tbody tr th {\n",
       "        vertical-align: top;\n",
       "    }\n",
       "\n",
       "    .dataframe thead th {\n",
       "        text-align: right;\n",
       "    }\n",
       "</style>\n",
       "<table border=\"1\" class=\"dataframe\">\n",
       "  <thead>\n",
       "    <tr style=\"text-align: right;\">\n",
       "      <th></th>\n",
       "      <th>Coin</th>\n",
       "      <th>ID</th>\n",
       "      <th>Owner/Influence</th>\n",
       "      <th>Name</th>\n",
       "      <th>Screen_name</th>\n",
       "      <th>Status</th>\n",
       "      <th>Why did I choose this person?</th>\n",
       "    </tr>\n",
       "  </thead>\n",
       "  <tbody>\n",
       "    <tr>\n",
       "      <th>0</th>\n",
       "      <td>Ethereum</td>\n",
       "      <td>ethereum</td>\n",
       "      <td>Vitalik Buterin</td>\n",
       "      <td>vitalik.eth</td>\n",
       "      <td>VitalikButerin</td>\n",
       "      <td>co-founder</td>\n",
       "      <td>he is also known in crypto world</td>\n",
       "    </tr>\n",
       "    <tr>\n",
       "      <th>1</th>\n",
       "      <td>BNB</td>\n",
       "      <td>binancecoin</td>\n",
       "      <td>Changpeng Zhao</td>\n",
       "      <td>CZ ??Binance</td>\n",
       "      <td>cz_binance</td>\n",
       "      <td>CEO</td>\n",
       "      <td>NaN</td>\n",
       "    </tr>\n",
       "    <tr>\n",
       "      <th>2</th>\n",
       "      <td>XRP</td>\n",
       "      <td>ripple</td>\n",
       "      <td>Brad Garlinghouse</td>\n",
       "      <td>Brad Garlinghouse</td>\n",
       "      <td>bgarlinghouse</td>\n",
       "      <td>CEO</td>\n",
       "      <td>NaN</td>\n",
       "    </tr>\n",
       "    <tr>\n",
       "      <th>3</th>\n",
       "      <td>ADA(Cardano)</td>\n",
       "      <td>cardano</td>\n",
       "      <td>Charles Hoskinson</td>\n",
       "      <td>Charles Hoskinson</td>\n",
       "      <td>IOHK_Charles</td>\n",
       "      <td>CEO/co-founder</td>\n",
       "      <td>NaN</td>\n",
       "    </tr>\n",
       "    <tr>\n",
       "      <th>4</th>\n",
       "      <td>DOGE</td>\n",
       "      <td>dogecoin</td>\n",
       "      <td>Elon Musk_doge</td>\n",
       "      <td>Elon Musk</td>\n",
       "      <td>elonmusk</td>\n",
       "      <td>influencer</td>\n",
       "      <td>as a popular figure, highly interested in this...</td>\n",
       "    </tr>\n",
       "    <tr>\n",
       "      <th>5</th>\n",
       "      <td>MATIC(Polygon)</td>\n",
       "      <td>matic-network</td>\n",
       "      <td>Sandeep Nailwal</td>\n",
       "      <td>Sandeep | Polygon ????3??</td>\n",
       "      <td>sandeepnailwal</td>\n",
       "      <td>co-founder</td>\n",
       "      <td>he seems more active than other co-founders</td>\n",
       "    </tr>\n",
       "    <tr>\n",
       "      <th>6</th>\n",
       "      <td>DOT(Polkadot)</td>\n",
       "      <td>polkadot</td>\n",
       "      <td>WEB3 Foundation</td>\n",
       "      <td>Web3 Foundation</td>\n",
       "      <td>Web3foundation</td>\n",
       "      <td>foundation</td>\n",
       "      <td>there is no account of CEO or sth</td>\n",
       "    </tr>\n",
       "    <tr>\n",
       "      <th>7</th>\n",
       "      <td>HEX</td>\n",
       "      <td>hex</td>\n",
       "      <td>Richard Heart</td>\n",
       "      <td>Richard Heart</td>\n",
       "      <td>RichardHeartWin</td>\n",
       "      <td>CEO</td>\n",
       "      <td>NaN</td>\n",
       "    </tr>\n",
       "    <tr>\n",
       "      <th>8</th>\n",
       "      <td>SHIB</td>\n",
       "      <td>shiba-inu</td>\n",
       "      <td>Elon Musk_shiba</td>\n",
       "      <td>Elon Musk</td>\n",
       "      <td>elonmusk</td>\n",
       "      <td>influencer</td>\n",
       "      <td>as a popular figure, highly interested in this...</td>\n",
       "    </tr>\n",
       "    <tr>\n",
       "      <th>9</th>\n",
       "      <td>SOL</td>\n",
       "      <td>solana</td>\n",
       "      <td>Solana</td>\n",
       "      <td>Solana</td>\n",
       "      <td>solana</td>\n",
       "      <td>company</td>\n",
       "      <td>there is no account of CEO or sth</td>\n",
       "    </tr>\n",
       "    <tr>\n",
       "      <th>10</th>\n",
       "      <td>TRX</td>\n",
       "      <td>tron</td>\n",
       "      <td>Justin Sun</td>\n",
       "      <td>H.E. Justin Sun</td>\n",
       "      <td>justinsuntron</td>\n",
       "      <td>founder</td>\n",
       "      <td>same with WTRX!</td>\n",
       "    </tr>\n",
       "    <tr>\n",
       "      <th>11</th>\n",
       "      <td>UNI</td>\n",
       "      <td>uniswap</td>\n",
       "      <td>Uniswap</td>\n",
       "      <td>Uniswap Labs ??</td>\n",
       "      <td>Uniswap</td>\n",
       "      <td>company</td>\n",
       "      <td>there is no account of CEO or sth</td>\n",
       "    </tr>\n",
       "    <tr>\n",
       "      <th>12</th>\n",
       "      <td>LTC</td>\n",
       "      <td>litecoin</td>\n",
       "      <td>Charlie Lee</td>\n",
       "      <td>Charlie Lee ?????</td>\n",
       "      <td>SatoshiLite</td>\n",
       "      <td>founder</td>\n",
       "      <td>NaN</td>\n",
       "    </tr>\n",
       "    <tr>\n",
       "      <th>13</th>\n",
       "      <td>AVAX</td>\n",
       "      <td>avalanche-2</td>\n",
       "      <td>Emin Gün Sirer</td>\n",
       "      <td>Emin Gün Sirer??</td>\n",
       "      <td>el33th4xor</td>\n",
       "      <td>CEO</td>\n",
       "      <td>NaN</td>\n",
       "    </tr>\n",
       "    <tr>\n",
       "      <th>14</th>\n",
       "      <td>LINK</td>\n",
       "      <td>chainlink</td>\n",
       "      <td>Sergey Nazarov</td>\n",
       "      <td>Sergey Nazarov</td>\n",
       "      <td>SergeyNazarov</td>\n",
       "      <td>founder</td>\n",
       "      <td>NaN</td>\n",
       "    </tr>\n",
       "    <tr>\n",
       "      <th>15</th>\n",
       "      <td>ATOM</td>\n",
       "      <td>cosmos</td>\n",
       "      <td>Ethan Buchman</td>\n",
       "      <td>Ethan Buchman</td>\n",
       "      <td>buchmanster</td>\n",
       "      <td>co-founder</td>\n",
       "      <td>NaN</td>\n",
       "    </tr>\n",
       "  </tbody>\n",
       "</table>\n",
       "</div>"
      ],
      "text/plain": [
       "              Coin             ID    Owner/Influence  \\\n",
       "0         Ethereum       ethereum    Vitalik Buterin   \n",
       "1              BNB    binancecoin     Changpeng Zhao   \n",
       "2              XRP         ripple  Brad Garlinghouse   \n",
       "3     ADA(Cardano)        cardano  Charles Hoskinson   \n",
       "4             DOGE       dogecoin     Elon Musk_doge   \n",
       "5   MATIC(Polygon)  matic-network    Sandeep Nailwal   \n",
       "6    DOT(Polkadot)       polkadot    WEB3 Foundation   \n",
       "7              HEX            hex      Richard Heart   \n",
       "8             SHIB      shiba-inu    Elon Musk_shiba   \n",
       "9              SOL         solana             Solana   \n",
       "10             TRX           tron         Justin Sun   \n",
       "11             UNI        uniswap            Uniswap   \n",
       "12             LTC       litecoin        Charlie Lee   \n",
       "13            AVAX    avalanche-2     Emin Gün Sirer   \n",
       "14            LINK      chainlink     Sergey Nazarov   \n",
       "15            ATOM         cosmos      Ethan Buchman   \n",
       "\n",
       "                         Name      Screen_name          Status  \\\n",
       "0                 vitalik.eth   VitalikButerin      co-founder   \n",
       "1                CZ ??Binance       cz_binance             CEO   \n",
       "2           Brad Garlinghouse    bgarlinghouse             CEO   \n",
       "3           Charles Hoskinson     IOHK_Charles  CEO/co-founder   \n",
       "4                   Elon Musk         elonmusk      influencer   \n",
       "5   Sandeep | Polygon ????3??   sandeepnailwal      co-founder   \n",
       "6             Web3 Foundation   Web3foundation      foundation   \n",
       "7               Richard Heart  RichardHeartWin             CEO   \n",
       "8                   Elon Musk         elonmusk      influencer   \n",
       "9                      Solana           solana         company   \n",
       "10            H.E. Justin Sun    justinsuntron         founder   \n",
       "11            Uniswap Labs ??          Uniswap         company   \n",
       "12          Charlie Lee ?????      SatoshiLite         founder   \n",
       "13           Emin Gün Sirer??       el33th4xor             CEO   \n",
       "14             Sergey Nazarov    SergeyNazarov         founder   \n",
       "15              Ethan Buchman      buchmanster      co-founder   \n",
       "\n",
       "                        Why did I choose this person?  \n",
       "0                    he is also known in crypto world  \n",
       "1                                                 NaN  \n",
       "2                                                 NaN  \n",
       "3                                                 NaN  \n",
       "4   as a popular figure, highly interested in this...  \n",
       "5         he seems more active than other co-founders  \n",
       "6                  there is no account of CEO or sth   \n",
       "7                                                 NaN  \n",
       "8   as a popular figure, highly interested in this...  \n",
       "9                  there is no account of CEO or sth   \n",
       "10                                    same with WTRX!  \n",
       "11                 there is no account of CEO or sth   \n",
       "12                                                NaN  \n",
       "13                                                NaN  \n",
       "14                                                NaN  \n",
       "15                                                NaN  "
      ]
     },
     "execution_count": 7,
     "metadata": {},
     "output_type": "execute_result"
    }
   ],
   "source": [
    "user_df = pd.read_csv(r\"C:\\Users\\Kutay\\Desktop\\My Docs\\My Docs v2.0\\Data Science\\RA\\Cryptocurrency\\Input\\Top 20 Cryptocurrencies and Related TW Accounts.csv\", encoding= 'unicode_escape')\n",
    "user_df"
   ]
  },
  {
   "cell_type": "markdown",
   "metadata": {},
   "source": [
    "# Taking Tweets of List of Users"
   ]
  },
  {
   "cell_type": "markdown",
   "metadata": {},
   "source": [
    "user = \"el33th4xor\"\n",
    "limit = 300"
   ]
  },
  {
   "cell_type": "code",
   "execution_count": 8,
   "metadata": {},
   "outputs": [],
   "source": [
    "#datetime format -> (year, month, day, hour, minute, second)\n",
    "endDate = datetime.datetime.now()\n",
    "startDate = endDate - relativedelta(years = 7)\n",
    "#endDate = datetime.datetime.now()\n",
    "#startDate = endDate - relativedelta(days = 1) #days, months, years can be used to calculate\n",
    "\n",
    "utc=pytz.UTC\n",
    "\n",
    "startDate = utc.localize(startDate) \n",
    "endDate = utc.localize(endDate)"
   ]
  },
  {
   "cell_type": "code",
   "execution_count": 9,
   "metadata": {},
   "outputs": [
    {
     "data": {
      "text/plain": [
       "datetime.datetime(2016, 2, 12, 19, 13, 10, 500062, tzinfo=<UTC>)"
      ]
     },
     "execution_count": 9,
     "metadata": {},
     "output_type": "execute_result"
    }
   ],
   "source": [
    "startDate"
   ]
  },
  {
   "cell_type": "code",
   "execution_count": 10,
   "metadata": {},
   "outputs": [],
   "source": [
    "columns = [\"Tweet_id\", \"Name\", \"Screen_name\", \"Tweet\", \"Date\", \"Category\", \"N_of_RT\", \"N_of_fav\", \"Related_coin\"]"
   ]
  },
  {
   "cell_type": "markdown",
   "metadata": {},
   "source": [
    "--old version of taking tweets\n",
    "#cursor can be used for just one time, be careful about that, save and use use data frame/s for next steps\n",
    "tweets = tw.Cursor(api.user_timeline, \n",
    "                   screen_name = user, count = 200, \n",
    "                   tweet_mode = \"extended\").items(limit)"
   ]
  },
  {
   "cell_type": "code",
   "execution_count": 11,
   "metadata": {},
   "outputs": [],
   "source": [
    "def take_tweets(sc_name):\n",
    "    tweets = []\n",
    "    tmpTweets = api.user_timeline(screen_name = sc_name)\n",
    "    if(len(tmpTweets) == 0):\n",
    "        print(\"First request for/\", sc_name, \"/is unseccessful\")\n",
    "    for tweet in tmpTweets:\n",
    "        if tweet.created_at < endDate and tweet.created_at > startDate:\n",
    "            tweets.append(tweet)\n",
    "    \n",
    "    while tmpTweets[-1].created_at > startDate:\n",
    "        old_ID = tmpTweets[-1].id\n",
    "        tmpTweets = api.user_timeline(screen_name = sc_name, max_id = old_ID)\n",
    "        while(len(tmpTweets) == 0):\n",
    "            #print(\"empty list, please try again\")\n",
    "            tmpTweets = api.user_timeline(screen_name = sc_name, max_id = old_ID)\n",
    "        #print(\"1: \", {tmpTweets[0].created_at})\n",
    "        #print(\"2: \", {tmpTweets[-1].created_at})\n",
    "        for tweet in tmpTweets:\n",
    "            if tweet.created_at < endDate and tweet.created_at > startDate:\n",
    "                tweets.append(tweet)\n",
    "    return tweets"
   ]
  },
  {
   "cell_type": "code",
   "execution_count": 12,
   "metadata": {},
   "outputs": [],
   "source": [
    "def take_tweets_2(sc_name):\n",
    "    #variables\n",
    "    start = time.time()\n",
    "    tweets = []\n",
    "    num_of_tweets = 0\n",
    "    \n",
    "    #initial request\n",
    "    while True:\n",
    "        try:\n",
    "            tmpTweets = api.user_timeline(screen_name = sc_name)\n",
    "            while(len(tmpTweets) == 0):\n",
    "                print(\"empty list error_1, please try again\")\n",
    "                tmpTweets = api.user_timeline(screen_name = sc_name)\n",
    "            for tweet in tmpTweets:\n",
    "                if tweet.created_at < endDate and tweet.created_at > startDate:\n",
    "                    tweets.append(tweet)\n",
    "                    num_of_tweets += 1\n",
    "            break\n",
    "        except tw.errors.TweepyException as e:\n",
    "            print(\"Going to sleep\")\n",
    "            print(e)\n",
    "            time.sleep(60*15)\n",
    "            continue\n",
    "    \n",
    "    #collection\n",
    "    while True:\n",
    "        try:\n",
    "            while (tmpTweets[-1].created_at > startDate) and (num_of_tweets < 3400) and (len(tmpTweets) != 1):\n",
    "                old_ID = tmpTweets[-1].id\n",
    "                tmpTweets = api.user_timeline(screen_name = sc_name, max_id = old_ID)\n",
    "                while(len(tmpTweets) == 0):\n",
    "                    print(\"empty list error_2, please try again\")\n",
    "                    print(old_ID)\n",
    "                    time.sleep(15)\n",
    "                    tmpTweets = api.user_timeline(screen_name = sc_name, max_id = old_ID)\n",
    "                    #print(\"1: \", {tmpTweets[0].created_at})\n",
    "                for tweet in tmpTweets:\n",
    "                    if tweet.created_at < endDate and tweet.created_at > startDate:\n",
    "                        tweets.append(tweet)\n",
    "                        num_of_tweets += 1\n",
    "            break\n",
    "        except tw.errors.TweepyException as e:\n",
    "            print(e)\n",
    "            print(\"Going to sleep\")\n",
    "            time.sleep(60*15)\n",
    "            continue\n",
    "    \n",
    "    #return        \n",
    "    end = time.time()\n",
    "    print(sc_name)\n",
    "    print(end-start)\n",
    "    return tweets"
   ]
  },
  {
   "cell_type": "code",
   "execution_count": 13,
   "metadata": {},
   "outputs": [],
   "source": [
    "def take_tweets_ID(sc_name, max_ID):\n",
    "    tweets = []\n",
    "     \n",
    "    while True:\n",
    "        try:\n",
    "            tmpTweets = api.user_timeline(screen_name = sc_name, max_id = max_ID)\n",
    "            while(len(tmpTweets) == 0):\n",
    "                #print(\"empty list, please try again\")\n",
    "                tmpTweets = api.user_timeline(screen_name = sc_name, max_id = max_ID)\n",
    "            for tweet in tmpTweets:\n",
    "                if tweet.created_at < endDate and tweet.created_at > startDate:\n",
    "                    tweets.append(tweet)\n",
    "            break\n",
    "        except tw.errors.TweepyException as e:\n",
    "            print(\"Going to sleep\")\n",
    "            print(e)\n",
    "            time.sleep(60*15)\n",
    "            continue\n",
    "    \n",
    "    while True:\n",
    "        try:\n",
    "            while tmpTweets[-1].created_at > startDate:\n",
    "                old_ID = tmpTweets[-1].id\n",
    "                tmpTweets = api.user_timeline(screen_name = sc_name, max_id = old_ID)\n",
    "                while(len(tmpTweets) == 0):\n",
    "                    #print(\"empty list, please try again\")\n",
    "                    tmpTweets = api.user_timeline(screen_name = sc_name, max_id = old_ID)\n",
    "                    #print(\"1: \", {tmpTweets[0].created_at})\n",
    "                for tweet in tmpTweets:\n",
    "                    if tweet.created_at < endDate and tweet.created_at > startDate:\n",
    "                        tweets.append(tweet)\n",
    "            break\n",
    "        except tw.errors.TweepyException as e:\n",
    "            print(e)\n",
    "            time.sleep(60*15)\n",
    "            continue\n",
    "    print(sc_name)    \n",
    "    return tweets"
   ]
  },
  {
   "cell_type": "code",
   "execution_count": 14,
   "metadata": {},
   "outputs": [],
   "source": [
    "def categorize_tweets(tweets):\n",
    "    \n",
    "    data = []\n",
    "    term_rt = \"RT\"\n",
    "    for tweet in tweets:\n",
    "    \n",
    "        #for consecutive tweets, next one is shown primaryly in data frame, I can check with using hours and minutes if necessary\n",
    "        date = tweet.created_at\n",
    "        #date = date.strftime('%Y-%m-%d')\n",
    "    \n",
    "        #retweet and favorite counts\n",
    "        number_of_retweet = tweet.retweet_count\n",
    "        number_of_favorite = tweet.favorite_count\n",
    "    \n",
    "    \n",
    "        #it's gonna be direct tweet if all the checks below fail\n",
    "        category_specified = \"direct\"\n",
    "\n",
    "        #retweet check\n",
    "        if term_rt in tweet.text.split():\n",
    "\n",
    "            category_specified = \"retweet\"\n",
    "\n",
    "        #quote(rt with comment) check\n",
    "        elif tweet.is_quote_status is True:\n",
    "            category_specified = \"quote\"\n",
    "\n",
    "        #reply check\n",
    "        elif tweet.in_reply_to_status_id is not None:\n",
    "            category_specified = \"reply\"\n",
    "\n",
    "        data.append([tweet.id, tweet.user.name, tweet.user.screen_name, tweet.text, date, category_specified, number_of_retweet, number_of_favorite, \"\"])\n",
    "    \n",
    "    df_met = pd.DataFrame(data, columns = columns)\n",
    "    return df_met"
   ]
  },
  {
   "cell_type": "code",
   "execution_count": 15,
   "metadata": {},
   "outputs": [],
   "source": [
    "def tweetCollector(user_df):\n",
    "    df = pd.DataFrame(columns = columns)\n",
    "\n",
    "    index_counter_1 = 0;\n",
    "    for x in user_df.Screen_name:\n",
    "    \n",
    "        taken_tweets = take_tweets_2(x)\n",
    "        df_met_2 = categorize_tweets(taken_tweets)\n",
    "\n",
    "        df_met_2[\"Related_coin\"] = user_df[\"ID\"][index_counter_1]\n",
    "        index_counter_1 += 1\n",
    "\n",
    "        df = df.append(df_met_2)\n",
    "\n",
    "    df = df[[\"Tweet_id\", \"Name\", \"Screen_name\", \"Related_coin\", \"Tweet\", \"Date\", \"Category\", \"N_of_RT\", \"N_of_fav\"]]\n",
    "    \n",
    "    return df"
   ]
  },
  {
   "cell_type": "code",
   "execution_count": 16,
   "metadata": {},
   "outputs": [],
   "source": [
    "def oneCollector(sc_name):\n",
    "    df = pd.DataFrame(columns = columns)\n",
    "    \n",
    "    taken_tweets = take_tweets_2(sc_name)\n",
    "    df_met_2 = categorize_tweets(taken_tweets)\n",
    "\n",
    "    df_met_2[\"Related_coin\"] = sc_name\n",
    "\n",
    "    df = df.append(df_met_2)\n",
    "    df = df[[\"Tweet_id\", \"Name\", \"Screen_name\", \"Related_coin\", \"Tweet\", \"Date\", \"Category\", \"N_of_RT\", \"N_of_fav\"]]\n",
    "    \n",
    "    return df"
   ]
  },
  {
   "cell_type": "code",
   "execution_count": 17,
   "metadata": {},
   "outputs": [],
   "source": [
    "def oneCollector_ID(sc_name, max_ID):\n",
    "    df = pd.DataFrame(columns = columns)\n",
    "    \n",
    "    taken_tweets = take_tweets_ID(sc_name, max_ID)\n",
    "    df_met_2 = categorize_tweets(taken_tweets)\n",
    "\n",
    "    df_met_2[\"Related_coin\"] = sc_name\n",
    "\n",
    "    df = df.append(df_met_2)\n",
    "    df = df[[\"Tweet_id\", \"Name\", \"Screen_name\", \"Related_coin\", \"Tweet\", \"Date\", \"Category\", \"N_of_RT\", \"N_of_fav\"]]\n",
    "    \n",
    "    return df"
   ]
  },
  {
   "cell_type": "code",
   "execution_count": 18,
   "metadata": {
    "scrolled": true
   },
   "outputs": [],
   "source": [
    "#oneCollector example\n",
    "#sc_n = \"cz_binance\"\n",
    "#df_one = oneCollector(sc_n)\n",
    "#df_one"
   ]
  },
  {
   "cell_type": "code",
   "execution_count": 19,
   "metadata": {
    "scrolled": false
   },
   "outputs": [
    {
     "name": "stdout",
     "output_type": "stream",
     "text": [
      "empty list error_2, please try again\n",
      "1599059086141595648\n",
      "empty list error_2, please try again\n",
      "1527076952531644417\n",
      "VitalikButerin\n",
      "100.6792950630188\n",
      "empty list error_2, please try again\n",
      "1609448577767542784\n",
      "empty list error_2, please try again\n",
      "1603106233472385028\n",
      "empty list error_2, please try again\n",
      "1596056452090986496\n",
      "empty list error_2, please try again\n",
      "1592870560039866369\n",
      "empty list error_2, please try again\n",
      "1590375374353215496\n",
      "empty list error_2, please try again\n",
      "1582714641154682880\n",
      "empty list error_2, please try again\n",
      "1572184722255785984\n",
      "empty list error_2, please try again\n",
      "1564856740918722560\n",
      "empty list error_2, please try again\n",
      "1564856740918722560\n",
      "empty list error_2, please try again\n",
      "1556803901596262402\n",
      "cz_binance\n",
      "225.02441501617432\n",
      "bgarlinghouse\n",
      "20.509400844573975\n",
      "IOHK_Charles\n",
      "76.06998777389526\n",
      "elonmusk\n",
      "66.62741088867188\n",
      "empty list error_2, please try again\n",
      "1587338901727113216\n",
      "empty list error_2, please try again\n",
      "1569039289035407364\n"
     ]
    },
    {
     "name": "stderr",
     "output_type": "stream",
     "text": [
      "Rate limit reached. Sleeping for: 304\n"
     ]
    },
    {
     "name": "stdout",
     "output_type": "stream",
     "text": [
      "Failed to send request: ('Connection aborted.', RemoteDisconnected('Remote end closed connection without response'))\n",
      "Going to sleep\n",
      "sandeepnailwal\n",
      "1319.819546699524\n",
      "Web3foundation\n",
      "59.07002305984497\n",
      "RichardHeartWin\n",
      "68.77224349975586\n",
      "elonmusk\n",
      "67.36814570426941\n",
      "empty list error_2, please try again\n",
      "1483551474009481217\n",
      "empty list error_2, please try again\n",
      "1466430455763259392\n",
      "empty list error_2, please try again\n",
      "1433895206412292107\n",
      "solana\n",
      "127.73270273208618\n",
      "justinsuntron\n",
      "81.25381755828857\n",
      "empty list error_2, please try again\n",
      "1471634948209745927\n"
     ]
    },
    {
     "name": "stderr",
     "output_type": "stream",
     "text": [
      "Rate limit reached. Sleeping for: 448\n"
     ]
    },
    {
     "name": "stdout",
     "output_type": "stream",
     "text": [
      "Uniswap\n",
      "503.149861574173\n",
      "SatoshiLite\n",
      "76.32275462150574\n",
      "empty list error_2, please try again\n",
      "1615266540064243714\n",
      "empty list error_2, please try again\n",
      "1472706102311723015\n",
      "el33th4xor\n",
      "109.85149693489075\n",
      "SergeyNazarov\n",
      "7.820849180221558\n",
      "buchmanster\n",
      "73.31823825836182\n",
      "2984.1802520751953\n"
     ]
    }
   ],
   "source": [
    "#tweetCollector example\n",
    "#right now df is used by tweetCollector\n",
    "start = time.time()\n",
    "df = tweetCollector(user_df)\n",
    "end = time.time()\n",
    "print(end - start)"
   ]
  },
  {
   "cell_type": "code",
   "execution_count": 20,
   "metadata": {},
   "outputs": [
    {
     "data": {
      "text/plain": [
       "'#right now df is used by oneCollector\\nsc_n = \"justinsuntron\"\\ndf = oneCollector(sc_n)\\ndf'"
      ]
     },
     "execution_count": 20,
     "metadata": {},
     "output_type": "execute_result"
    }
   ],
   "source": [
    "\"\"\"#right now df is used by oneCollector\n",
    "sc_n = \"justinsuntron\"\n",
    "df = oneCollector(sc_n)\n",
    "df\"\"\""
   ]
  },
  {
   "cell_type": "code",
   "execution_count": 21,
   "metadata": {},
   "outputs": [
    {
     "data": {
      "text/html": [
       "<div>\n",
       "<style scoped>\n",
       "    .dataframe tbody tr th:only-of-type {\n",
       "        vertical-align: middle;\n",
       "    }\n",
       "\n",
       "    .dataframe tbody tr th {\n",
       "        vertical-align: top;\n",
       "    }\n",
       "\n",
       "    .dataframe thead th {\n",
       "        text-align: right;\n",
       "    }\n",
       "</style>\n",
       "<table border=\"1\" class=\"dataframe\">\n",
       "  <thead>\n",
       "    <tr style=\"text-align: right;\">\n",
       "      <th></th>\n",
       "      <th>Tweet_id</th>\n",
       "      <th>Name</th>\n",
       "      <th>Screen_name</th>\n",
       "      <th>Related_coin</th>\n",
       "      <th>Tweet</th>\n",
       "      <th>Date</th>\n",
       "      <th>Category</th>\n",
       "      <th>N_of_RT</th>\n",
       "      <th>N_of_fav</th>\n",
       "    </tr>\n",
       "  </thead>\n",
       "  <tbody>\n",
       "    <tr>\n",
       "      <th>0</th>\n",
       "      <td>1618483820717834240</td>\n",
       "      <td>vitalik.eth</td>\n",
       "      <td>VitalikButerin</td>\n",
       "      <td>ethereum</td>\n",
       "      <td>RT @reflexerfinance: Check out @VitalikButerin...</td>\n",
       "      <td>2023-01-26 05:39:47+00:00</td>\n",
       "      <td>retweet</td>\n",
       "      <td>177</td>\n",
       "      <td>0</td>\n",
       "    </tr>\n",
       "    <tr>\n",
       "      <th>1</th>\n",
       "      <td>1616527030790623233</td>\n",
       "      <td>vitalik.eth</td>\n",
       "      <td>VitalikButerin</td>\n",
       "      <td>ethereum</td>\n",
       "      <td>An incomplete guide to stealth addresses:\\n\\nh...</td>\n",
       "      <td>2023-01-20 20:04:12+00:00</td>\n",
       "      <td>direct</td>\n",
       "      <td>1098</td>\n",
       "      <td>4034</td>\n",
       "    </tr>\n",
       "    <tr>\n",
       "      <th>2</th>\n",
       "      <td>1609386762333478912</td>\n",
       "      <td>vitalik.eth</td>\n",
       "      <td>VitalikButerin</td>\n",
       "      <td>ethereum</td>\n",
       "      <td>RT @GovofCO: This time of year, it is essentia...</td>\n",
       "      <td>2023-01-01 03:11:19+00:00</td>\n",
       "      <td>retweet</td>\n",
       "      <td>381</td>\n",
       "      <td>0</td>\n",
       "    </tr>\n",
       "    <tr>\n",
       "      <th>3</th>\n",
       "      <td>1609345489790730240</td>\n",
       "      <td>vitalik.eth</td>\n",
       "      <td>VitalikButerin</td>\n",
       "      <td>ethereum</td>\n",
       "      <td>RT @JBSchweitzer: As the year of the Merge end...</td>\n",
       "      <td>2023-01-01 00:27:19+00:00</td>\n",
       "      <td>retweet</td>\n",
       "      <td>324</td>\n",
       "      <td>0</td>\n",
       "    </tr>\n",
       "    <tr>\n",
       "      <th>4</th>\n",
       "      <td>1609339278445907968</td>\n",
       "      <td>vitalik.eth</td>\n",
       "      <td>VitalikButerin</td>\n",
       "      <td>ethereum</td>\n",
       "      <td>@mukuroeth @ChenWainuo @zengjiajun_eth @BlockG...</td>\n",
       "      <td>2023-01-01 00:02:38+00:00</td>\n",
       "      <td>reply</td>\n",
       "      <td>27</td>\n",
       "      <td>165</td>\n",
       "    </tr>\n",
       "    <tr>\n",
       "      <th>...</th>\n",
       "      <td>...</td>\n",
       "      <td>...</td>\n",
       "      <td>...</td>\n",
       "      <td>...</td>\n",
       "      <td>...</td>\n",
       "      <td>...</td>\n",
       "      <td>...</td>\n",
       "      <td>...</td>\n",
       "      <td>...</td>\n",
       "    </tr>\n",
       "    <tr>\n",
       "      <th>3412</th>\n",
       "      <td>1472791649826881538</td>\n",
       "      <td>Ethan Buchman (🐝,🦇)</td>\n",
       "      <td>buchmanster</td>\n",
       "      <td>cosmos</td>\n",
       "      <td>@MpeterF @Econgrad5143 @DEhnts @HenricCont @vi...</td>\n",
       "      <td>2021-12-20 04:51:07+00:00</td>\n",
       "      <td>reply</td>\n",
       "      <td>0</td>\n",
       "      <td>0</td>\n",
       "    </tr>\n",
       "    <tr>\n",
       "      <th>3413</th>\n",
       "      <td>1472714294643109892</td>\n",
       "      <td>Ethan Buchman (🐝,🦇)</td>\n",
       "      <td>buchmanster</td>\n",
       "      <td>cosmos</td>\n",
       "      <td>@MpeterF @Econgrad5143 @DEhnts @HenricCont @vi...</td>\n",
       "      <td>2021-12-19 23:43:44+00:00</td>\n",
       "      <td>reply</td>\n",
       "      <td>0</td>\n",
       "      <td>0</td>\n",
       "    </tr>\n",
       "    <tr>\n",
       "      <th>3414</th>\n",
       "      <td>1472713854585126918</td>\n",
       "      <td>Ethan Buchman (🐝,🦇)</td>\n",
       "      <td>buchmanster</td>\n",
       "      <td>cosmos</td>\n",
       "      <td>@TheStalwart @leee_harris I guess generally it...</td>\n",
       "      <td>2021-12-19 23:41:59+00:00</td>\n",
       "      <td>quote</td>\n",
       "      <td>0</td>\n",
       "      <td>0</td>\n",
       "    </tr>\n",
       "    <tr>\n",
       "      <th>3415</th>\n",
       "      <td>1472711376909000704</td>\n",
       "      <td>Ethan Buchman (🐝,🦇)</td>\n",
       "      <td>buchmanster</td>\n",
       "      <td>cosmos</td>\n",
       "      <td>@MpeterF @Econgrad5143 @DEhnts @HenricCont @vi...</td>\n",
       "      <td>2021-12-19 23:32:08+00:00</td>\n",
       "      <td>reply</td>\n",
       "      <td>0</td>\n",
       "      <td>1</td>\n",
       "    </tr>\n",
       "    <tr>\n",
       "      <th>3416</th>\n",
       "      <td>1472709636218363916</td>\n",
       "      <td>Ethan Buchman (🐝,🦇)</td>\n",
       "      <td>buchmanster</td>\n",
       "      <td>cosmos</td>\n",
       "      <td>@MpeterF @Econgrad5143 @DEhnts @HenricCont @vi...</td>\n",
       "      <td>2021-12-19 23:25:13+00:00</td>\n",
       "      <td>reply</td>\n",
       "      <td>0</td>\n",
       "      <td>1</td>\n",
       "    </tr>\n",
       "  </tbody>\n",
       "</table>\n",
       "<p>46391 rows × 9 columns</p>\n",
       "</div>"
      ],
      "text/plain": [
       "                 Tweet_id                 Name     Screen_name Related_coin  \\\n",
       "0     1618483820717834240          vitalik.eth  VitalikButerin     ethereum   \n",
       "1     1616527030790623233          vitalik.eth  VitalikButerin     ethereum   \n",
       "2     1609386762333478912          vitalik.eth  VitalikButerin     ethereum   \n",
       "3     1609345489790730240          vitalik.eth  VitalikButerin     ethereum   \n",
       "4     1609339278445907968          vitalik.eth  VitalikButerin     ethereum   \n",
       "...                   ...                  ...             ...          ...   \n",
       "3412  1472791649826881538  Ethan Buchman (🐝,🦇)     buchmanster       cosmos   \n",
       "3413  1472714294643109892  Ethan Buchman (🐝,🦇)     buchmanster       cosmos   \n",
       "3414  1472713854585126918  Ethan Buchman (🐝,🦇)     buchmanster       cosmos   \n",
       "3415  1472711376909000704  Ethan Buchman (🐝,🦇)     buchmanster       cosmos   \n",
       "3416  1472709636218363916  Ethan Buchman (🐝,🦇)     buchmanster       cosmos   \n",
       "\n",
       "                                                  Tweet  \\\n",
       "0     RT @reflexerfinance: Check out @VitalikButerin...   \n",
       "1     An incomplete guide to stealth addresses:\\n\\nh...   \n",
       "2     RT @GovofCO: This time of year, it is essentia...   \n",
       "3     RT @JBSchweitzer: As the year of the Merge end...   \n",
       "4     @mukuroeth @ChenWainuo @zengjiajun_eth @BlockG...   \n",
       "...                                                 ...   \n",
       "3412  @MpeterF @Econgrad5143 @DEhnts @HenricCont @vi...   \n",
       "3413  @MpeterF @Econgrad5143 @DEhnts @HenricCont @vi...   \n",
       "3414  @TheStalwart @leee_harris I guess generally it...   \n",
       "3415  @MpeterF @Econgrad5143 @DEhnts @HenricCont @vi...   \n",
       "3416  @MpeterF @Econgrad5143 @DEhnts @HenricCont @vi...   \n",
       "\n",
       "                           Date Category N_of_RT N_of_fav  \n",
       "0     2023-01-26 05:39:47+00:00  retweet     177        0  \n",
       "1     2023-01-20 20:04:12+00:00   direct    1098     4034  \n",
       "2     2023-01-01 03:11:19+00:00  retweet     381        0  \n",
       "3     2023-01-01 00:27:19+00:00  retweet     324        0  \n",
       "4     2023-01-01 00:02:38+00:00    reply      27      165  \n",
       "...                         ...      ...     ...      ...  \n",
       "3412  2021-12-20 04:51:07+00:00    reply       0        0  \n",
       "3413  2021-12-19 23:43:44+00:00    reply       0        0  \n",
       "3414  2021-12-19 23:41:59+00:00    quote       0        0  \n",
       "3415  2021-12-19 23:32:08+00:00    reply       0        1  \n",
       "3416  2021-12-19 23:25:13+00:00    reply       0        1  \n",
       "\n",
       "[46391 rows x 9 columns]"
      ]
     },
     "execution_count": 21,
     "metadata": {},
     "output_type": "execute_result"
    }
   ],
   "source": [
    "df"
   ]
  },
  {
   "cell_type": "code",
   "execution_count": 22,
   "metadata": {},
   "outputs": [],
   "source": [
    "#removing duplications, reseting index\n",
    "df.drop_duplicates(inplace = True)\n",
    "df.reset_index(inplace = True, drop = True)"
   ]
  },
  {
   "cell_type": "raw",
   "metadata": {},
   "source": [
    "\"\"\" example code \"\"\"\n",
    "this is the way take tweets with limit which is 200\n",
    "tweets = api.user_timeline(screen_name = user,\n",
    "                           count = limit,\n",
    "                           include_rts = True,\n",
    "                           tweet_mode = \"extended\")\n",
    "\"\"\"                           "
   ]
  },
  {
   "cell_type": "code",
   "execution_count": 23,
   "metadata": {},
   "outputs": [],
   "source": [
    "#seperating dat-month-year\n",
    "df['Day'] = pd.DatetimeIndex(df['Date']).day\n",
    "df['Month'] = pd.DatetimeIndex(df['Date']).month\n",
    "df['Year'] = pd.DatetimeIndex(df['Date']).year"
   ]
  },
  {
   "cell_type": "code",
   "execution_count": 24,
   "metadata": {},
   "outputs": [
    {
     "data": {
      "text/plain": [
       "(44092, 12)"
      ]
     },
     "execution_count": 24,
     "metadata": {},
     "output_type": "execute_result"
    }
   ],
   "source": [
    "df.shape"
   ]
  },
  {
   "cell_type": "code",
   "execution_count": 25,
   "metadata": {},
   "outputs": [
    {
     "data": {
      "text/plain": [
       "False"
      ]
     },
     "execution_count": 25,
     "metadata": {},
     "output_type": "execute_result"
    }
   ],
   "source": [
    "#null check --> if it is \"False\", we all ok\n",
    "df.isna().any().any()"
   ]
  },
  {
   "cell_type": "code",
   "execution_count": 26,
   "metadata": {},
   "outputs": [
    {
     "name": "stdout",
     "output_type": "stream",
     "text": [
      "<class 'pandas.core.frame.DataFrame'>\n",
      "RangeIndex: 44092 entries, 0 to 44091\n",
      "Data columns (total 12 columns):\n",
      " #   Column        Non-Null Count  Dtype \n",
      "---  ------        --------------  ----- \n",
      " 0   Tweet_id      44092 non-null  object\n",
      " 1   Name          44092 non-null  object\n",
      " 2   Screen_name   44092 non-null  object\n",
      " 3   Related_coin  44092 non-null  object\n",
      " 4   Tweet         44092 non-null  object\n",
      " 5   Date          44092 non-null  object\n",
      " 6   Category      44092 non-null  object\n",
      " 7   N_of_RT       44092 non-null  object\n",
      " 8   N_of_fav      44092 non-null  object\n",
      " 9   Day           44092 non-null  int64 \n",
      " 10  Month         44092 non-null  int64 \n",
      " 11  Year          44092 non-null  int64 \n",
      "dtypes: int64(3), object(9)\n",
      "memory usage: 4.0+ MB\n"
     ]
    }
   ],
   "source": [
    "df.info()"
   ]
  },
  {
   "cell_type": "code",
   "execution_count": 27,
   "metadata": {},
   "outputs": [
    {
     "data": {
      "text/plain": [
       "0"
      ]
     },
     "execution_count": 27,
     "metadata": {},
     "output_type": "execute_result"
    }
   ],
   "source": [
    "#duplication check\n",
    "df[df.duplicated(keep=False)].shape[0]"
   ]
  },
  {
   "cell_type": "code",
   "execution_count": 28,
   "metadata": {},
   "outputs": [],
   "source": [
    "df['Date'] = df['Date'].dt.tz_localize(None)"
   ]
  },
  {
   "cell_type": "code",
   "execution_count": 29,
   "metadata": {
    "scrolled": true
   },
   "outputs": [
    {
     "data": {
      "text/html": [
       "<div>\n",
       "<style scoped>\n",
       "    .dataframe tbody tr th:only-of-type {\n",
       "        vertical-align: middle;\n",
       "    }\n",
       "\n",
       "    .dataframe tbody tr th {\n",
       "        vertical-align: top;\n",
       "    }\n",
       "\n",
       "    .dataframe thead th {\n",
       "        text-align: right;\n",
       "    }\n",
       "</style>\n",
       "<table border=\"1\" class=\"dataframe\">\n",
       "  <thead>\n",
       "    <tr style=\"text-align: right;\">\n",
       "      <th></th>\n",
       "      <th>Tweet_id</th>\n",
       "      <th>Name</th>\n",
       "      <th>Screen_name</th>\n",
       "      <th>Related_coin</th>\n",
       "      <th>Tweet</th>\n",
       "      <th>Date</th>\n",
       "      <th>Category</th>\n",
       "      <th>N_of_RT</th>\n",
       "      <th>N_of_fav</th>\n",
       "      <th>Day</th>\n",
       "      <th>Month</th>\n",
       "      <th>Year</th>\n",
       "    </tr>\n",
       "  </thead>\n",
       "  <tbody>\n",
       "    <tr>\n",
       "      <th>0</th>\n",
       "      <td>1618483820717834240</td>\n",
       "      <td>vitalik.eth</td>\n",
       "      <td>VitalikButerin</td>\n",
       "      <td>ethereum</td>\n",
       "      <td>RT @reflexerfinance: Check out @VitalikButerin...</td>\n",
       "      <td>2023-01-26 05:39:47</td>\n",
       "      <td>retweet</td>\n",
       "      <td>177</td>\n",
       "      <td>0</td>\n",
       "      <td>26</td>\n",
       "      <td>1</td>\n",
       "      <td>2023</td>\n",
       "    </tr>\n",
       "    <tr>\n",
       "      <th>1</th>\n",
       "      <td>1616527030790623233</td>\n",
       "      <td>vitalik.eth</td>\n",
       "      <td>VitalikButerin</td>\n",
       "      <td>ethereum</td>\n",
       "      <td>An incomplete guide to stealth addresses:\\n\\nh...</td>\n",
       "      <td>2023-01-20 20:04:12</td>\n",
       "      <td>direct</td>\n",
       "      <td>1098</td>\n",
       "      <td>4034</td>\n",
       "      <td>20</td>\n",
       "      <td>1</td>\n",
       "      <td>2023</td>\n",
       "    </tr>\n",
       "    <tr>\n",
       "      <th>2</th>\n",
       "      <td>1609386762333478912</td>\n",
       "      <td>vitalik.eth</td>\n",
       "      <td>VitalikButerin</td>\n",
       "      <td>ethereum</td>\n",
       "      <td>RT @GovofCO: This time of year, it is essentia...</td>\n",
       "      <td>2023-01-01 03:11:19</td>\n",
       "      <td>retweet</td>\n",
       "      <td>381</td>\n",
       "      <td>0</td>\n",
       "      <td>1</td>\n",
       "      <td>1</td>\n",
       "      <td>2023</td>\n",
       "    </tr>\n",
       "    <tr>\n",
       "      <th>3</th>\n",
       "      <td>1609345489790730240</td>\n",
       "      <td>vitalik.eth</td>\n",
       "      <td>VitalikButerin</td>\n",
       "      <td>ethereum</td>\n",
       "      <td>RT @JBSchweitzer: As the year of the Merge end...</td>\n",
       "      <td>2023-01-01 00:27:19</td>\n",
       "      <td>retweet</td>\n",
       "      <td>324</td>\n",
       "      <td>0</td>\n",
       "      <td>1</td>\n",
       "      <td>1</td>\n",
       "      <td>2023</td>\n",
       "    </tr>\n",
       "    <tr>\n",
       "      <th>4</th>\n",
       "      <td>1609339278445907968</td>\n",
       "      <td>vitalik.eth</td>\n",
       "      <td>VitalikButerin</td>\n",
       "      <td>ethereum</td>\n",
       "      <td>@mukuroeth @ChenWainuo @zengjiajun_eth @BlockG...</td>\n",
       "      <td>2023-01-01 00:02:38</td>\n",
       "      <td>reply</td>\n",
       "      <td>27</td>\n",
       "      <td>165</td>\n",
       "      <td>1</td>\n",
       "      <td>1</td>\n",
       "      <td>2023</td>\n",
       "    </tr>\n",
       "  </tbody>\n",
       "</table>\n",
       "</div>"
      ],
      "text/plain": [
       "              Tweet_id         Name     Screen_name Related_coin  \\\n",
       "0  1618483820717834240  vitalik.eth  VitalikButerin     ethereum   \n",
       "1  1616527030790623233  vitalik.eth  VitalikButerin     ethereum   \n",
       "2  1609386762333478912  vitalik.eth  VitalikButerin     ethereum   \n",
       "3  1609345489790730240  vitalik.eth  VitalikButerin     ethereum   \n",
       "4  1609339278445907968  vitalik.eth  VitalikButerin     ethereum   \n",
       "\n",
       "                                               Tweet                Date  \\\n",
       "0  RT @reflexerfinance: Check out @VitalikButerin... 2023-01-26 05:39:47   \n",
       "1  An incomplete guide to stealth addresses:\\n\\nh... 2023-01-20 20:04:12   \n",
       "2  RT @GovofCO: This time of year, it is essentia... 2023-01-01 03:11:19   \n",
       "3  RT @JBSchweitzer: As the year of the Merge end... 2023-01-01 00:27:19   \n",
       "4  @mukuroeth @ChenWainuo @zengjiajun_eth @BlockG... 2023-01-01 00:02:38   \n",
       "\n",
       "  Category N_of_RT N_of_fav  Day  Month  Year  \n",
       "0  retweet     177        0   26      1  2023  \n",
       "1   direct    1098     4034   20      1  2023  \n",
       "2  retweet     381        0    1      1  2023  \n",
       "3  retweet     324        0    1      1  2023  \n",
       "4    reply      27      165    1      1  2023  "
      ]
     },
     "execution_count": 29,
     "metadata": {},
     "output_type": "execute_result"
    }
   ],
   "source": [
    "#check .xlsx file name\n",
    "pd.set_option(\"max_rows\", None)\n",
    "df.to_excel(r\"C:\\Users\\Kutay\\Desktop\\My Docs\\My Docs v2.0\\Data Science\\RA\\Cryptocurrency\\RA_Cryptocurrency\\Data\\Tweet Data\\tweets_all_7years.xlsx\")\n",
    "df.head()"
   ]
  },
  {
   "cell_type": "code",
   "execution_count": null,
   "metadata": {
    "scrolled": true
   },
   "outputs": [],
   "source": [
    "#seperation according to categories \n",
    "retweet_df = df[df[\"Category\"] == \"retweet\"]\n",
    "retweet_df.reset_index(inplace = True, drop=True)\n",
    "quote_df = df[df[\"Category\"] == \"quote\"]\n",
    "quote_df.reset_index(inplace = True, drop=True)\n",
    "reply_df = df[df[\"Category\"] == \"reply\"]\n",
    "reply_df.reset_index(inplace = True, drop=True)\n",
    "direct_df = df[df[\"Category\"] == \"direct\"]\n",
    "direct_df.reset_index(inplace = True, drop=True)\n",
    "retweet_df.head()"
   ]
  },
  {
   "cell_type": "markdown",
   "metadata": {},
   "source": [
    "# Taking User Object"
   ]
  },
  {
   "cell_type": "code",
   "execution_count": null,
   "metadata": {},
   "outputs": [],
   "source": [
    "user_try = api.get_user(screen_name = \"el33th4xor\")\n",
    "user_try.name"
   ]
  },
  {
   "cell_type": "markdown",
   "metadata": {},
   "source": [
    "# Follower - Followed"
   ]
  },
  {
   "cell_type": "markdown",
   "metadata": {},
   "source": [
    "check this part of code later??????????????? cursor object is not itterable?"
   ]
  },
  {
   "cell_type": "code",
   "execution_count": null,
   "metadata": {},
   "outputs": [],
   "source": [
    "user = \"el33th4xor\"\n",
    "followers = []\n",
    "get_followers = api.get_followers(screen_name = user)\n",
    "#get_followers = tw.Cursor(api.get_followers, id = user)\n",
    "\n",
    "for user in get_followers:\n",
    "    followers.append(user)"
   ]
  },
  {
   "cell_type": "code",
   "execution_count": null,
   "metadata": {},
   "outputs": [],
   "source": [
    "len(followers)"
   ]
  },
  {
   "cell_type": "code",
   "execution_count": null,
   "metadata": {},
   "outputs": [],
   "source": [
    "columns_follower = [\"User_id\", \"Name\", \"Screen_name\", \"Verification_st\", \"Followers_count\", \"Followed_count\"]\n",
    "data_followers = []"
   ]
  },
  {
   "cell_type": "code",
   "execution_count": null,
   "metadata": {},
   "outputs": [],
   "source": [
    "for user in followers:\n",
    "    data_followers.append([user.id, user.name, user.screen_name, user.verified, user.followers_count, user.friends_count])"
   ]
  },
  {
   "cell_type": "code",
   "execution_count": null,
   "metadata": {},
   "outputs": [],
   "source": [
    "df_follower = pd.DataFrame(data_followers, columns = columns_follower)\n",
    "df_follower"
   ]
  },
  {
   "cell_type": "code",
   "execution_count": null,
   "metadata": {},
   "outputs": [],
   "source": [
    "df_follower.drop_duplicates(inplace = True)\n",
    "df_follower.reset_index(inplace = True, drop = True)"
   ]
  },
  {
   "cell_type": "markdown",
   "metadata": {},
   "source": [
    "# Statistics and Visualization"
   ]
  },
  {
   "cell_type": "markdown",
   "metadata": {},
   "source": [
    "Graph should be addepted to new version of df(with lots of users)"
   ]
  },
  {
   "cell_type": "code",
   "execution_count": null,
   "metadata": {},
   "outputs": [],
   "source": [
    "df.corr()"
   ]
  },
  {
   "cell_type": "code",
   "execution_count": null,
   "metadata": {},
   "outputs": [],
   "source": [
    "plot1 = retweet_df.groupby(\"Day\")[\"Tweet_id\"].count()\n",
    "plot2 = quote_df.groupby(\"Day\")[\"Tweet_id\"].count()\n",
    "plot3 = reply_df.groupby(\"Day\")[\"Tweet_id\"].count()\n",
    "plot4 = direct_df.groupby(\"Day\")[\"Tweet_id\"].count()\n",
    "plt.figure(figsize = (14,7))\n",
    "ax= plt.subplot()\n",
    "ax.bar(plot1.index-0.3, plot1.values, width = 0.2, color = \"pink\", align = \"center\", label = \"Retweet\")\n",
    "ax.bar(plot2.index-0.1, plot2.values, width = 0.2, color = \"yellow\", align = \"center\", label = \"Quote\")\n",
    "ax.bar(plot3.index+0.1, plot3.values, width = 0.2, color = \"purple\", align = \"center\", label = \"Reply\")\n",
    "ax.bar(plot4.index+0.3, plot4.values, width = 0.2, color = \"grey\", align = \"center\", label = \"Direct\")\n",
    "plt.title(\"Number of Tweets According to Category per Day\")\n",
    "plt.ylabel(\"Number of Tweets\")\n",
    "plt.xlabel(\"Days\")\n",
    "#they are not sorted from 1 to 30 or 31, last they is today and first day is one month earlier. There is need for a solution also.\n",
    "plt.xticks([1,2,3,4,5,6,7,8,9,10,11,12,13,14,15,16,17,18,19,20,21,22,23,24,25,26,27,28,29,30,31]) #find a solution for changes of number of days in a month\n",
    "plt.legend()\n",
    "plt.show()"
   ]
  },
  {
   "cell_type": "code",
   "execution_count": null,
   "metadata": {},
   "outputs": [],
   "source": []
  }
 ],
 "metadata": {
  "kernelspec": {
   "display_name": "Python 3",
   "language": "python",
   "name": "python3"
  },
  "language_info": {
   "codemirror_mode": {
    "name": "ipython",
    "version": 3
   },
   "file_extension": ".py",
   "mimetype": "text/x-python",
   "name": "python",
   "nbconvert_exporter": "python",
   "pygments_lexer": "ipython3",
   "version": "3.8.3"
  }
 },
 "nbformat": 4,
 "nbformat_minor": 4
}
