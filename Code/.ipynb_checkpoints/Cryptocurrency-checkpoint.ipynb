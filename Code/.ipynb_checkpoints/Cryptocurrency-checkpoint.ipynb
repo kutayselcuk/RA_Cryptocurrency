{
 "cells": [
  {
   "cell_type": "code",
   "execution_count": 1,
   "metadata": {},
   "outputs": [],
   "source": [
    "# Import Libraries\n",
    "import tweepy as tw\n",
    "import configparser\n",
    "import pandas as pd\n",
    "import numpy as np\n",
    "import matplotlib.pyplot as plt\n",
    "import seaborn as sns\n",
    "import sklearn\n",
    "import re\n",
    "import nltk\n",
    "import datetime\n",
    "from datetime import datetime as datetime_price\n",
    "import pytz\n",
    "from dateutil.relativedelta import relativedelta\n",
    "import time"
   ]
  },
  {
   "cell_type": "markdown",
   "metadata": {},
   "source": [
    "# Authentication for API"
   ]
  },
  {
   "cell_type": "code",
   "execution_count": 2,
   "metadata": {},
   "outputs": [],
   "source": [
    "keys = pd.read_csv(r\"C:\\Users\\Kutay\\Desktop\\My Docs\\My Docs v2.0\\Data Science\\RA\\Cryptocurrency\\Input\\TW API Keys\\apikeys.csv\")\n",
    "\n",
    "my_api_key = keys[\"Keys\"][0]\n",
    "my_api_secret = keys[\"Keys\"][1]\n",
    "\n",
    "my_access_token = keys[\"Keys\"][2]\n",
    "my_access_token_secret = keys[\"Keys\"][3]"
   ]
  },
  {
   "cell_type": "code",
   "execution_count": 3,
   "metadata": {},
   "outputs": [],
   "source": [
    "# your Twitter API key ans access token\n",
    "api_key = my_api_key\n",
    "api_secret = my_api_secret\n",
    "\n",
    "access_token = my_access_token\n",
    "access_token_secret = my_access_token_secret"
   ]
  },
  {
   "cell_type": "code",
   "execution_count": 4,
   "metadata": {},
   "outputs": [],
   "source": [
    "# authenticate\n",
    "auth = tw.OAuthHandler(my_api_key, my_api_secret)\n",
    "auth.set_access_token(access_token, access_token_secret)"
   ]
  },
  {
   "cell_type": "code",
   "execution_count": 5,
   "metadata": {},
   "outputs": [],
   "source": [
    "api = tw.API(auth, wait_on_rate_limit=True)"
   ]
  },
  {
   "cell_type": "markdown",
   "metadata": {},
   "source": [
    "# Insert the List of Users"
   ]
  },
  {
   "cell_type": "code",
   "execution_count": 6,
   "metadata": {},
   "outputs": [
    {
     "data": {
      "text/html": [
       "<div>\n",
       "<style scoped>\n",
       "    .dataframe tbody tr th:only-of-type {\n",
       "        vertical-align: middle;\n",
       "    }\n",
       "\n",
       "    .dataframe tbody tr th {\n",
       "        vertical-align: top;\n",
       "    }\n",
       "\n",
       "    .dataframe thead th {\n",
       "        text-align: right;\n",
       "    }\n",
       "</style>\n",
       "<table border=\"1\" class=\"dataframe\">\n",
       "  <thead>\n",
       "    <tr style=\"text-align: right;\">\n",
       "      <th></th>\n",
       "      <th>Coin</th>\n",
       "      <th>ID</th>\n",
       "      <th>Owner/Influence</th>\n",
       "      <th>Name</th>\n",
       "      <th>Screen_name</th>\n",
       "      <th>Status</th>\n",
       "      <th>Why did I choose this person?</th>\n",
       "    </tr>\n",
       "  </thead>\n",
       "  <tbody>\n",
       "    <tr>\n",
       "      <th>0</th>\n",
       "      <td>Ethereum</td>\n",
       "      <td>ethereum</td>\n",
       "      <td>Vitalik Buterin</td>\n",
       "      <td>vitalik.eth</td>\n",
       "      <td>VitalikButerin</td>\n",
       "      <td>co-founder</td>\n",
       "      <td>he is also known in crypto world</td>\n",
       "    </tr>\n",
       "    <tr>\n",
       "      <th>1</th>\n",
       "      <td>BNB</td>\n",
       "      <td>binancecoin</td>\n",
       "      <td>Changpeng Zhao</td>\n",
       "      <td>CZ ??Binance</td>\n",
       "      <td>cz_binance</td>\n",
       "      <td>CEO</td>\n",
       "      <td>NaN</td>\n",
       "    </tr>\n",
       "    <tr>\n",
       "      <th>2</th>\n",
       "      <td>XRP</td>\n",
       "      <td>ripple</td>\n",
       "      <td>Brad Garlinghouse</td>\n",
       "      <td>Brad Garlinghouse</td>\n",
       "      <td>bgarlinghouse</td>\n",
       "      <td>CEO</td>\n",
       "      <td>NaN</td>\n",
       "    </tr>\n",
       "    <tr>\n",
       "      <th>3</th>\n",
       "      <td>ADA(Cardano)</td>\n",
       "      <td>cardano</td>\n",
       "      <td>Charles Hoskinson</td>\n",
       "      <td>Charles Hoskinson</td>\n",
       "      <td>IOHK_Charles</td>\n",
       "      <td>CEO/co-founder</td>\n",
       "      <td>NaN</td>\n",
       "    </tr>\n",
       "    <tr>\n",
       "      <th>4</th>\n",
       "      <td>DOGE</td>\n",
       "      <td>dogecoin</td>\n",
       "      <td>Elon Musk</td>\n",
       "      <td>Elon Musk</td>\n",
       "      <td>elonmusk</td>\n",
       "      <td>influencer</td>\n",
       "      <td>as a popular figure, highly interested in this...</td>\n",
       "    </tr>\n",
       "    <tr>\n",
       "      <th>5</th>\n",
       "      <td>MATIC(Polygon)</td>\n",
       "      <td>matic-network</td>\n",
       "      <td>Sandeep Nailwal</td>\n",
       "      <td>Sandeep | Polygon ????3??</td>\n",
       "      <td>sandeepnailwal</td>\n",
       "      <td>co-founder</td>\n",
       "      <td>he seems more active than other co-founders</td>\n",
       "    </tr>\n",
       "    <tr>\n",
       "      <th>6</th>\n",
       "      <td>DOT(Polkadot)</td>\n",
       "      <td>polkadot</td>\n",
       "      <td>WEB3 Foundation</td>\n",
       "      <td>Web3 Foundation</td>\n",
       "      <td>Web3foundation</td>\n",
       "      <td>foundation</td>\n",
       "      <td>there is no account of CEO or sth</td>\n",
       "    </tr>\n",
       "    <tr>\n",
       "      <th>7</th>\n",
       "      <td>HEX</td>\n",
       "      <td>hex</td>\n",
       "      <td>Richard Heart</td>\n",
       "      <td>Richard Heart</td>\n",
       "      <td>RichardHeartWin</td>\n",
       "      <td>CEO</td>\n",
       "      <td>NaN</td>\n",
       "    </tr>\n",
       "    <tr>\n",
       "      <th>8</th>\n",
       "      <td>WTRX</td>\n",
       "      <td>wrapped-tron</td>\n",
       "      <td>Justin Sun</td>\n",
       "      <td>H.E. Justin Sun</td>\n",
       "      <td>justinsuntron</td>\n",
       "      <td>founder</td>\n",
       "      <td>same with TRX!</td>\n",
       "    </tr>\n",
       "    <tr>\n",
       "      <th>9</th>\n",
       "      <td>SHIB</td>\n",
       "      <td>shiba-inu</td>\n",
       "      <td>Elon Musk</td>\n",
       "      <td>Elon Musk</td>\n",
       "      <td>elonmusk</td>\n",
       "      <td>influencer</td>\n",
       "      <td>as a popular figure, highly interested in this...</td>\n",
       "    </tr>\n",
       "    <tr>\n",
       "      <th>10</th>\n",
       "      <td>SOL</td>\n",
       "      <td>solana</td>\n",
       "      <td>Solana</td>\n",
       "      <td>Solana</td>\n",
       "      <td>solana</td>\n",
       "      <td>company</td>\n",
       "      <td>there is no account of CEO or sth</td>\n",
       "    </tr>\n",
       "    <tr>\n",
       "      <th>11</th>\n",
       "      <td>TRX</td>\n",
       "      <td>tron</td>\n",
       "      <td>Justin Sun</td>\n",
       "      <td>H.E. Justin Sun</td>\n",
       "      <td>justinsuntron</td>\n",
       "      <td>founder</td>\n",
       "      <td>same with WTRX!</td>\n",
       "    </tr>\n",
       "    <tr>\n",
       "      <th>12</th>\n",
       "      <td>UNI</td>\n",
       "      <td>uniswap</td>\n",
       "      <td>Uniswap</td>\n",
       "      <td>Uniswap Labs ??</td>\n",
       "      <td>Uniswap</td>\n",
       "      <td>company</td>\n",
       "      <td>there is no account of CEO or sth</td>\n",
       "    </tr>\n",
       "    <tr>\n",
       "      <th>13</th>\n",
       "      <td>LTC</td>\n",
       "      <td>litecoin</td>\n",
       "      <td>Charlie Lee</td>\n",
       "      <td>Charlie Lee ?????</td>\n",
       "      <td>SatoshiLite</td>\n",
       "      <td>founder</td>\n",
       "      <td>NaN</td>\n",
       "    </tr>\n",
       "    <tr>\n",
       "      <th>14</th>\n",
       "      <td>AVAX</td>\n",
       "      <td>avalanche-2</td>\n",
       "      <td>Emin Gün Sirer</td>\n",
       "      <td>Emin Gün Sirer??</td>\n",
       "      <td>el33th4xor</td>\n",
       "      <td>CEO</td>\n",
       "      <td>NaN</td>\n",
       "    </tr>\n",
       "    <tr>\n",
       "      <th>15</th>\n",
       "      <td>LINK</td>\n",
       "      <td>chainlink</td>\n",
       "      <td>Sergey Nazarov</td>\n",
       "      <td>Sergey Nazarov</td>\n",
       "      <td>SergeyNazarov</td>\n",
       "      <td>founder</td>\n",
       "      <td>NaN</td>\n",
       "    </tr>\n",
       "    <tr>\n",
       "      <th>16</th>\n",
       "      <td>ATOM</td>\n",
       "      <td>cosmos</td>\n",
       "      <td>Ethan Buchman</td>\n",
       "      <td>Ethan Buchman</td>\n",
       "      <td>buchmanster</td>\n",
       "      <td>co-founder</td>\n",
       "      <td>NaN</td>\n",
       "    </tr>\n",
       "  </tbody>\n",
       "</table>\n",
       "</div>"
      ],
      "text/plain": [
       "              Coin             ID    Owner/Influence  \\\n",
       "0         Ethereum       ethereum    Vitalik Buterin   \n",
       "1              BNB    binancecoin     Changpeng Zhao   \n",
       "2              XRP         ripple  Brad Garlinghouse   \n",
       "3     ADA(Cardano)        cardano  Charles Hoskinson   \n",
       "4             DOGE       dogecoin          Elon Musk   \n",
       "5   MATIC(Polygon)  matic-network    Sandeep Nailwal   \n",
       "6    DOT(Polkadot)       polkadot    WEB3 Foundation   \n",
       "7              HEX            hex      Richard Heart   \n",
       "8             WTRX   wrapped-tron         Justin Sun   \n",
       "9             SHIB      shiba-inu          Elon Musk   \n",
       "10             SOL         solana             Solana   \n",
       "11             TRX           tron         Justin Sun   \n",
       "12             UNI        uniswap            Uniswap   \n",
       "13             LTC       litecoin        Charlie Lee   \n",
       "14            AVAX    avalanche-2     Emin Gün Sirer   \n",
       "15            LINK      chainlink     Sergey Nazarov   \n",
       "16            ATOM         cosmos      Ethan Buchman   \n",
       "\n",
       "                         Name      Screen_name          Status  \\\n",
       "0                 vitalik.eth   VitalikButerin      co-founder   \n",
       "1                CZ ??Binance       cz_binance             CEO   \n",
       "2           Brad Garlinghouse    bgarlinghouse             CEO   \n",
       "3           Charles Hoskinson     IOHK_Charles  CEO/co-founder   \n",
       "4                   Elon Musk         elonmusk      influencer   \n",
       "5   Sandeep | Polygon ????3??   sandeepnailwal      co-founder   \n",
       "6             Web3 Foundation   Web3foundation      foundation   \n",
       "7               Richard Heart  RichardHeartWin             CEO   \n",
       "8             H.E. Justin Sun    justinsuntron         founder   \n",
       "9                   Elon Musk         elonmusk      influencer   \n",
       "10                     Solana           solana         company   \n",
       "11            H.E. Justin Sun    justinsuntron         founder   \n",
       "12            Uniswap Labs ??          Uniswap         company   \n",
       "13          Charlie Lee ?????      SatoshiLite         founder   \n",
       "14           Emin Gün Sirer??       el33th4xor             CEO   \n",
       "15             Sergey Nazarov    SergeyNazarov         founder   \n",
       "16              Ethan Buchman      buchmanster      co-founder   \n",
       "\n",
       "                        Why did I choose this person?  \n",
       "0                    he is also known in crypto world  \n",
       "1                                                 NaN  \n",
       "2                                                 NaN  \n",
       "3                                                 NaN  \n",
       "4   as a popular figure, highly interested in this...  \n",
       "5         he seems more active than other co-founders  \n",
       "6                  there is no account of CEO or sth   \n",
       "7                                                 NaN  \n",
       "8                                      same with TRX!  \n",
       "9   as a popular figure, highly interested in this...  \n",
       "10                 there is no account of CEO or sth   \n",
       "11                                    same with WTRX!  \n",
       "12                 there is no account of CEO or sth   \n",
       "13                                                NaN  \n",
       "14                                                NaN  \n",
       "15                                                NaN  \n",
       "16                                                NaN  "
      ]
     },
     "execution_count": 6,
     "metadata": {},
     "output_type": "execute_result"
    }
   ],
   "source": [
    "user_df = pd.read_csv(r\"C:\\Users\\Kutay\\Desktop\\My Docs\\My Docs v2.0\\Data Science\\RA\\Cryptocurrency\\Input\\Top 20 Cryptocurrencies and Related TW Accounts.csv\", encoding= 'unicode_escape')\n",
    "user_df"
   ]
  },
  {
   "cell_type": "markdown",
   "metadata": {},
   "source": [
    "# Taking Tweets of List of Users"
   ]
  },
  {
   "cell_type": "markdown",
   "metadata": {},
   "source": [
    "user = \"el33th4xor\"\n",
    "limit = 300"
   ]
  },
  {
   "cell_type": "code",
   "execution_count": 7,
   "metadata": {},
   "outputs": [
    {
     "data": {
      "text/plain": [
       "datetime.datetime(2023, 1, 2, 22, 14, 19, 983187)"
      ]
     },
     "execution_count": 7,
     "metadata": {},
     "output_type": "execute_result"
    }
   ],
   "source": [
    "datetime.datetime.now()"
   ]
  },
  {
   "cell_type": "code",
   "execution_count": 8,
   "metadata": {},
   "outputs": [
    {
     "name": "stdout",
     "output_type": "stream",
     "text": [
      "2023-01-02 22:14:20.018827\n",
      "2023-01-01 22:14:20.018827\n"
     ]
    }
   ],
   "source": [
    "a = datetime.datetime.now()\n",
    "print(a)\n",
    "b = a - relativedelta(days = 1)\n",
    "print(b)"
   ]
  },
  {
   "cell_type": "code",
   "execution_count": 9,
   "metadata": {},
   "outputs": [],
   "source": [
    "#datetime format -> (year, month, day, hour, minute, second)\n",
    "endDate = datetime.datetime(2022, 11, 30, 23, 59, 59)\n",
    "startDate = datetime.datetime(2022, 11, 27, 0, 0, 0)\n",
    "#endDate = datetime.datetime.now()\n",
    "#startDate = endDate - relativedelta(days = 1) #days, months, years can be used to calculate\n",
    "\n",
    "utc=pytz.UTC\n",
    "\n",
    "startDate = utc.localize(startDate) \n",
    "endDate = utc.localize(endDate)"
   ]
  },
  {
   "cell_type": "code",
   "execution_count": 10,
   "metadata": {},
   "outputs": [],
   "source": [
    "columns = [\"Tweet_id\", \"Name\", \"Screen_name\", \"Tweet\", \"Date\", \"Category\", \"N_of_RT\", \"N_of_fav\", \"Related_coin\"]"
   ]
  },
  {
   "cell_type": "markdown",
   "metadata": {},
   "source": [
    "--old version of taking tweets\n",
    "#cursor can be used for just one time, be careful about that, save and use use data frame/s for next steps\n",
    "tweets = tw.Cursor(api.user_timeline, \n",
    "                   screen_name = user, count = 200, \n",
    "                   tweet_mode = \"extended\").items(limit)"
   ]
  },
  {
   "cell_type": "code",
   "execution_count": 11,
   "metadata": {},
   "outputs": [],
   "source": [
    "def take_tweets(sc_name):\n",
    "    tweets = []\n",
    "    tmpTweets = api.user_timeline(screen_name = sc_name)\n",
    "    for tweet in tmpTweets:\n",
    "        if tweet.created_at < endDate and tweet.created_at > startDate:\n",
    "            tweets.append(tweet)\n",
    "\n",
    "        \n",
    "    while (tmpTweets[-1].created_at > startDate):\n",
    "        tmpTweets = api.user_timeline(screen_name = sc_name, max_id = tmpTweets[-1].id)\n",
    "        for tweet in tmpTweets:\n",
    "            if tweet.created_at < endDate and tweet.created_at > startDate:\n",
    "                tweets.append(tweet)\n",
    "    return tweets"
   ]
  },
  {
   "cell_type": "code",
   "execution_count": 12,
   "metadata": {},
   "outputs": [],
   "source": [
    "def categorize_tweets(tweets):\n",
    "    \n",
    "    data = []\n",
    "    term_rt = \"RT\"\n",
    "    for tweet in tweets:\n",
    "    \n",
    "        #for consecutive tweets, next one is shown primaryly in data frame, I can check with using hours and minutes if necessary\n",
    "        date = tweet.created_at\n",
    "        #date = date.astimezone(pytz.timezone('Europe/Istanbul'))\n",
    "        #date = date.strftime(\"%Y-%m-%d %H:%M:%S\")\n",
    "    \n",
    "        #retweet and favorite counts\n",
    "        number_of_retweet = tweet.retweet_count\n",
    "        number_of_favorite = tweet.favorite_count\n",
    "    \n",
    "    \n",
    "        #it's gonna be direct tweet if all the checks below fail\n",
    "        category_specified = \"direct\"\n",
    "\n",
    "        #retweet check\n",
    "        if term_rt in tweet.text.split():\n",
    "\n",
    "            category_specified = \"retweet\"\n",
    "\n",
    "        #quote(rt with comment) check\n",
    "        elif tweet.is_quote_status is True:\n",
    "            category_specified = \"quote\"\n",
    "\n",
    "        #reply check\n",
    "        elif tweet.in_reply_to_status_id is not None:\n",
    "            category_specified = \"reply\"\n",
    "\n",
    "        data.append([tweet.id, tweet.user.name, tweet.user.screen_name, tweet.text, date, category_specified, number_of_retweet, number_of_favorite, \"\"])\n",
    "    \n",
    "    df_met = pd.DataFrame(data, columns = columns)\n",
    "    return df_met"
   ]
  },
  {
   "cell_type": "code",
   "execution_count": 13,
   "metadata": {},
   "outputs": [],
   "source": [
    "df = pd.DataFrame(columns = columns)\n",
    "\n",
    "index_counter_1 = 0;\n",
    "for x in user_df.Screen_name:\n",
    "    \n",
    "    taken_tweets = take_tweets(x)\n",
    "    df_met_2 = categorize_tweets(taken_tweets)\n",
    "    \n",
    "    df_met_2[\"Related_coin\"] = user_df[\"ID\"][index_counter_1]\n",
    "    index_counter_1 += 1\n",
    "    \n",
    "    df = df.append(df_met_2)\n",
    "\n",
    "df = df[[\"Tweet_id\", \"Name\", \"Screen_name\", \"Related_coin\", \"Tweet\", \"Date\", \"Category\", \"N_of_RT\", \"N_of_fav\"]]"
   ]
  },
  {
   "cell_type": "code",
   "execution_count": 17,
   "metadata": {},
   "outputs": [
    {
     "data": {
      "text/html": [
       "<div>\n",
       "<style scoped>\n",
       "    .dataframe tbody tr th:only-of-type {\n",
       "        vertical-align: middle;\n",
       "    }\n",
       "\n",
       "    .dataframe tbody tr th {\n",
       "        vertical-align: top;\n",
       "    }\n",
       "\n",
       "    .dataframe thead th {\n",
       "        text-align: right;\n",
       "    }\n",
       "</style>\n",
       "<table border=\"1\" class=\"dataframe\">\n",
       "  <thead>\n",
       "    <tr style=\"text-align: right;\">\n",
       "      <th></th>\n",
       "      <th>Tweet_id</th>\n",
       "      <th>Name</th>\n",
       "      <th>Screen_name</th>\n",
       "      <th>Related_coin</th>\n",
       "      <th>Tweet</th>\n",
       "      <th>Date</th>\n",
       "      <th>Category</th>\n",
       "      <th>N_of_RT</th>\n",
       "      <th>N_of_fav</th>\n",
       "    </tr>\n",
       "  </thead>\n",
       "  <tbody>\n",
       "    <tr>\n",
       "      <th>0</th>\n",
       "      <td>1598024288116019200</td>\n",
       "      <td>vitalik.eth</td>\n",
       "      <td>VitalikButerin</td>\n",
       "      <td>ethereum</td>\n",
       "      <td>@EpsilonTheory (I should say I have sympathy f...</td>\n",
       "      <td>2022-11-30 18:40:54+00:00</td>\n",
       "      <td>reply</td>\n",
       "      <td>14</td>\n",
       "      <td>52</td>\n",
       "    </tr>\n",
       "    <tr>\n",
       "      <th>1</th>\n",
       "      <td>1598023096535244801</td>\n",
       "      <td>vitalik.eth</td>\n",
       "      <td>VitalikButerin</td>\n",
       "      <td>ethereum</td>\n",
       "      <td>@kostascrypto What do you see as the advantage...</td>\n",
       "      <td>2022-11-30 18:36:10+00:00</td>\n",
       "      <td>reply</td>\n",
       "      <td>4</td>\n",
       "      <td>52</td>\n",
       "    </tr>\n",
       "    <tr>\n",
       "      <th>2</th>\n",
       "      <td>1598022151013306368</td>\n",
       "      <td>vitalik.eth</td>\n",
       "      <td>VitalikButerin</td>\n",
       "      <td>ethereum</td>\n",
       "      <td>@EpsilonTheory I continue to be perplexed that...</td>\n",
       "      <td>2022-11-30 18:32:25+00:00</td>\n",
       "      <td>reply</td>\n",
       "      <td>20</td>\n",
       "      <td>162</td>\n",
       "    </tr>\n",
       "    <tr>\n",
       "      <th>3</th>\n",
       "      <td>1598019698045890560</td>\n",
       "      <td>vitalik.eth</td>\n",
       "      <td>VitalikButerin</td>\n",
       "      <td>ethereum</td>\n",
       "      <td>@el33th4xor So unfortunately I think it's just...</td>\n",
       "      <td>2022-11-30 18:22:40+00:00</td>\n",
       "      <td>reply</td>\n",
       "      <td>10</td>\n",
       "      <td>21</td>\n",
       "    </tr>\n",
       "    <tr>\n",
       "      <th>4</th>\n",
       "      <td>1598019344973594624</td>\n",
       "      <td>vitalik.eth</td>\n",
       "      <td>VitalikButerin</td>\n",
       "      <td>ethereum</td>\n",
       "      <td>@el33th4xor (Arrow's theorem is overrated, I m...</td>\n",
       "      <td>2022-11-30 18:21:16+00:00</td>\n",
       "      <td>reply</td>\n",
       "      <td>15</td>\n",
       "      <td>27</td>\n",
       "    </tr>\n",
       "    <tr>\n",
       "      <th>...</th>\n",
       "      <td>...</td>\n",
       "      <td>...</td>\n",
       "      <td>...</td>\n",
       "      <td>...</td>\n",
       "      <td>...</td>\n",
       "      <td>...</td>\n",
       "      <td>...</td>\n",
       "      <td>...</td>\n",
       "      <td>...</td>\n",
       "    </tr>\n",
       "    <tr>\n",
       "      <th>19</th>\n",
       "      <td>1597223851645341698</td>\n",
       "      <td>Ethan Buchman (🐝,🦇)</td>\n",
       "      <td>buchmanster</td>\n",
       "      <td>cosmos</td>\n",
       "      <td>@patfitzgerald01 so they ultimately work at di...</td>\n",
       "      <td>2022-11-28 13:40:15+00:00</td>\n",
       "      <td>reply</td>\n",
       "      <td>0</td>\n",
       "      <td>6</td>\n",
       "    </tr>\n",
       "    <tr>\n",
       "      <th>20</th>\n",
       "      <td>1597223722272043009</td>\n",
       "      <td>Ethan Buchman (🐝,🦇)</td>\n",
       "      <td>buchmanster</td>\n",
       "      <td>cosmos</td>\n",
       "      <td>@patfitzgerald01 .. grounded in the thermodyna...</td>\n",
       "      <td>2022-11-28 13:39:45+00:00</td>\n",
       "      <td>reply</td>\n",
       "      <td>0</td>\n",
       "      <td>9</td>\n",
       "    </tr>\n",
       "    <tr>\n",
       "      <th>21</th>\n",
       "      <td>1597223475382738944</td>\n",
       "      <td>Ethan Buchman (🐝,🦇)</td>\n",
       "      <td>buchmanster</td>\n",
       "      <td>cosmos</td>\n",
       "      <td>@patfitzgerald01 Bitcoin initiated this entire...</td>\n",
       "      <td>2022-11-28 13:38:46+00:00</td>\n",
       "      <td>reply</td>\n",
       "      <td>0</td>\n",
       "      <td>9</td>\n",
       "    </tr>\n",
       "    <tr>\n",
       "      <th>22</th>\n",
       "      <td>1597223154937516037</td>\n",
       "      <td>Ethan Buchman (🐝,🦇)</td>\n",
       "      <td>buchmanster</td>\n",
       "      <td>cosmos</td>\n",
       "      <td>@patfitzgerald01 I don't subscribe to \"schools...</td>\n",
       "      <td>2022-11-28 13:37:29+00:00</td>\n",
       "      <td>reply</td>\n",
       "      <td>0</td>\n",
       "      <td>13</td>\n",
       "    </tr>\n",
       "    <tr>\n",
       "      <th>23</th>\n",
       "      <td>1597222524085219332</td>\n",
       "      <td>Ethan Buchman (🐝,🦇)</td>\n",
       "      <td>buchmanster</td>\n",
       "      <td>cosmos</td>\n",
       "      <td>RT @CirclesUBI: What is important is closing t...</td>\n",
       "      <td>2022-11-28 13:34:59+00:00</td>\n",
       "      <td>retweet</td>\n",
       "      <td>5</td>\n",
       "      <td>0</td>\n",
       "    </tr>\n",
       "  </tbody>\n",
       "</table>\n",
       "<p>756 rows × 9 columns</p>\n",
       "</div>"
      ],
      "text/plain": [
       "               Tweet_id                 Name     Screen_name Related_coin  \\\n",
       "0   1598024288116019200          vitalik.eth  VitalikButerin     ethereum   \n",
       "1   1598023096535244801          vitalik.eth  VitalikButerin     ethereum   \n",
       "2   1598022151013306368          vitalik.eth  VitalikButerin     ethereum   \n",
       "3   1598019698045890560          vitalik.eth  VitalikButerin     ethereum   \n",
       "4   1598019344973594624          vitalik.eth  VitalikButerin     ethereum   \n",
       "..                  ...                  ...             ...          ...   \n",
       "19  1597223851645341698  Ethan Buchman (🐝,🦇)     buchmanster       cosmos   \n",
       "20  1597223722272043009  Ethan Buchman (🐝,🦇)     buchmanster       cosmos   \n",
       "21  1597223475382738944  Ethan Buchman (🐝,🦇)     buchmanster       cosmos   \n",
       "22  1597223154937516037  Ethan Buchman (🐝,🦇)     buchmanster       cosmos   \n",
       "23  1597222524085219332  Ethan Buchman (🐝,🦇)     buchmanster       cosmos   \n",
       "\n",
       "                                                Tweet  \\\n",
       "0   @EpsilonTheory (I should say I have sympathy f...   \n",
       "1   @kostascrypto What do you see as the advantage...   \n",
       "2   @EpsilonTheory I continue to be perplexed that...   \n",
       "3   @el33th4xor So unfortunately I think it's just...   \n",
       "4   @el33th4xor (Arrow's theorem is overrated, I m...   \n",
       "..                                                ...   \n",
       "19  @patfitzgerald01 so they ultimately work at di...   \n",
       "20  @patfitzgerald01 .. grounded in the thermodyna...   \n",
       "21  @patfitzgerald01 Bitcoin initiated this entire...   \n",
       "22  @patfitzgerald01 I don't subscribe to \"schools...   \n",
       "23  RT @CirclesUBI: What is important is closing t...   \n",
       "\n",
       "                         Date Category N_of_RT N_of_fav  \n",
       "0   2022-11-30 18:40:54+00:00    reply      14       52  \n",
       "1   2022-11-30 18:36:10+00:00    reply       4       52  \n",
       "2   2022-11-30 18:32:25+00:00    reply      20      162  \n",
       "3   2022-11-30 18:22:40+00:00    reply      10       21  \n",
       "4   2022-11-30 18:21:16+00:00    reply      15       27  \n",
       "..                        ...      ...     ...      ...  \n",
       "19  2022-11-28 13:40:15+00:00    reply       0        6  \n",
       "20  2022-11-28 13:39:45+00:00    reply       0        9  \n",
       "21  2022-11-28 13:38:46+00:00    reply       0        9  \n",
       "22  2022-11-28 13:37:29+00:00    reply       0       13  \n",
       "23  2022-11-28 13:34:59+00:00  retweet       5        0  \n",
       "\n",
       "[756 rows x 9 columns]"
      ]
     },
     "execution_count": 17,
     "metadata": {},
     "output_type": "execute_result"
    }
   ],
   "source": [
    "df"
   ]
  },
  {
   "cell_type": "code",
   "execution_count": 15,
   "metadata": {},
   "outputs": [
    {
     "ename": "AttributeError",
     "evalue": "'DatetimeProperties' object has no attribute 'astimezone'",
     "output_type": "error",
     "traceback": [
      "\u001b[1;31m---------------------------------------------------------------------------\u001b[0m",
      "\u001b[1;31mAttributeError\u001b[0m                            Traceback (most recent call last)",
      "\u001b[1;32m<ipython-input-15-f4de1e807ddc>\u001b[0m in \u001b[0;36m<module>\u001b[1;34m\u001b[0m\n\u001b[1;32m----> 1\u001b[1;33m \u001b[0mdf\u001b[0m\u001b[1;33m[\u001b[0m\u001b[1;34m\"Date\"\u001b[0m\u001b[1;33m]\u001b[0m \u001b[1;33m=\u001b[0m \u001b[0mfloat\u001b[0m\u001b[1;33m(\u001b[0m\u001b[0mdf\u001b[0m\u001b[1;33m[\u001b[0m\u001b[1;34m'Date'\u001b[0m\u001b[1;33m]\u001b[0m\u001b[1;33m.\u001b[0m\u001b[0mdt\u001b[0m\u001b[1;33m.\u001b[0m\u001b[0mastimezone\u001b[0m\u001b[1;33m(\u001b[0m\u001b[0mpytz\u001b[0m\u001b[1;33m.\u001b[0m\u001b[0mtimezone\u001b[0m\u001b[1;33m(\u001b[0m\u001b[1;34m'Europe/Istanbul'\u001b[0m\u001b[1;33m)\u001b[0m\u001b[1;33m)\u001b[0m\u001b[1;33m)\u001b[0m\u001b[1;33m\u001b[0m\u001b[1;33m\u001b[0m\u001b[0m\n\u001b[0m\u001b[0;32m      2\u001b[0m \u001b[1;31m#df[\"Date\"] = float(df['Date'].dt.astimezone(pytz.timezone('Europe/Istanbul')))\u001b[0m\u001b[1;33m\u001b[0m\u001b[1;33m\u001b[0m\u001b[1;33m\u001b[0m\u001b[0m\n",
      "\u001b[1;31mAttributeError\u001b[0m: 'DatetimeProperties' object has no attribute 'astimezone'"
     ]
    }
   ],
   "source": [
    "df[\"Date\"] = float(df['Date'].dt.astimezone(pytz.timezone('Europe/Istanbul')))\n",
    "#df[\"Date\"] = float(df['Date'].dt.astimezone(pytz.timezone('Europe/Istanbul')))"
   ]
  },
  {
   "cell_type": "code",
   "execution_count": 16,
   "metadata": {},
   "outputs": [
    {
     "ename": "AttributeError",
     "evalue": "'Series' object has no attribute 'astimezone'",
     "output_type": "error",
     "traceback": [
      "\u001b[1;31m---------------------------------------------------------------------------\u001b[0m",
      "\u001b[1;31mAttributeError\u001b[0m                            Traceback (most recent call last)",
      "\u001b[1;32m<ipython-input-16-bd58dcb83419>\u001b[0m in \u001b[0;36m<module>\u001b[1;34m\u001b[0m\n\u001b[0;32m      1\u001b[0m \u001b[1;31m#localizing time\u001b[0m\u001b[1;33m\u001b[0m\u001b[1;33m\u001b[0m\u001b[1;33m\u001b[0m\u001b[0m\n\u001b[1;32m----> 2\u001b[1;33m \u001b[0mdf\u001b[0m\u001b[1;33m[\u001b[0m\u001b[1;34m\"Date\"\u001b[0m\u001b[1;33m]\u001b[0m \u001b[1;33m=\u001b[0m \u001b[0mfloat\u001b[0m\u001b[1;33m(\u001b[0m\u001b[0mdf\u001b[0m\u001b[1;33m[\u001b[0m\u001b[1;34m'Date'\u001b[0m\u001b[1;33m]\u001b[0m\u001b[1;33m.\u001b[0m\u001b[0mastimezone\u001b[0m\u001b[1;33m(\u001b[0m\u001b[0mpytz\u001b[0m\u001b[1;33m.\u001b[0m\u001b[0mtimezone\u001b[0m\u001b[1;33m(\u001b[0m\u001b[1;34m'Europe/Istanbul'\u001b[0m\u001b[1;33m)\u001b[0m\u001b[1;33m)\u001b[0m\u001b[1;33m)\u001b[0m\u001b[1;33m\u001b[0m\u001b[1;33m\u001b[0m\u001b[0m\n\u001b[0m\u001b[0;32m      3\u001b[0m \u001b[0mdf\u001b[0m\u001b[1;33m[\u001b[0m\u001b[1;34m\"Date\"\u001b[0m\u001b[1;33m]\u001b[0m \u001b[1;33m=\u001b[0m \u001b[0mdf\u001b[0m\u001b[1;33m[\u001b[0m\u001b[1;34m\"Date\"\u001b[0m\u001b[1;33m]\u001b[0m\u001b[1;33m.\u001b[0m\u001b[0mastimezone\u001b[0m\u001b[1;33m(\u001b[0m\u001b[0mpytz\u001b[0m\u001b[1;33m.\u001b[0m\u001b[0mtimezone\u001b[0m\u001b[1;33m(\u001b[0m\u001b[1;34m'Europe/Istanbul'\u001b[0m\u001b[1;33m)\u001b[0m\u001b[1;33m)\u001b[0m\u001b[1;33m\u001b[0m\u001b[1;33m\u001b[0m\u001b[0m\n\u001b[0;32m      4\u001b[0m \u001b[0mdf\u001b[0m\u001b[1;33m[\u001b[0m\u001b[1;34m\"Date\"\u001b[0m\u001b[1;33m]\u001b[0m \u001b[1;33m=\u001b[0m \u001b[0mdf\u001b[0m\u001b[1;33m[\u001b[0m\u001b[1;34m\"Date\"\u001b[0m\u001b[1;33m]\u001b[0m\u001b[1;33m.\u001b[0m\u001b[0mstrftime\u001b[0m\u001b[1;33m(\u001b[0m\u001b[1;34m\"%Y-%m-%d %H:%M:%S\"\u001b[0m\u001b[1;33m)\u001b[0m\u001b[1;33m\u001b[0m\u001b[1;33m\u001b[0m\u001b[0m\n",
      "\u001b[1;32m~\\anaconda3\\lib\\site-packages\\pandas\\core\\generic.py\u001b[0m in \u001b[0;36m__getattr__\u001b[1;34m(self, name)\u001b[0m\n\u001b[0;32m   5272\u001b[0m             \u001b[1;32mif\u001b[0m \u001b[0mself\u001b[0m\u001b[1;33m.\u001b[0m\u001b[0m_info_axis\u001b[0m\u001b[1;33m.\u001b[0m\u001b[0m_can_hold_identifiers_and_holds_name\u001b[0m\u001b[1;33m(\u001b[0m\u001b[0mname\u001b[0m\u001b[1;33m)\u001b[0m\u001b[1;33m:\u001b[0m\u001b[1;33m\u001b[0m\u001b[1;33m\u001b[0m\u001b[0m\n\u001b[0;32m   5273\u001b[0m                 \u001b[1;32mreturn\u001b[0m \u001b[0mself\u001b[0m\u001b[1;33m[\u001b[0m\u001b[0mname\u001b[0m\u001b[1;33m]\u001b[0m\u001b[1;33m\u001b[0m\u001b[1;33m\u001b[0m\u001b[0m\n\u001b[1;32m-> 5274\u001b[1;33m             \u001b[1;32mreturn\u001b[0m \u001b[0mobject\u001b[0m\u001b[1;33m.\u001b[0m\u001b[0m__getattribute__\u001b[0m\u001b[1;33m(\u001b[0m\u001b[0mself\u001b[0m\u001b[1;33m,\u001b[0m \u001b[0mname\u001b[0m\u001b[1;33m)\u001b[0m\u001b[1;33m\u001b[0m\u001b[1;33m\u001b[0m\u001b[0m\n\u001b[0m\u001b[0;32m   5275\u001b[0m \u001b[1;33m\u001b[0m\u001b[0m\n\u001b[0;32m   5276\u001b[0m     \u001b[1;32mdef\u001b[0m \u001b[0m__setattr__\u001b[0m\u001b[1;33m(\u001b[0m\u001b[0mself\u001b[0m\u001b[1;33m,\u001b[0m \u001b[0mname\u001b[0m\u001b[1;33m:\u001b[0m \u001b[0mstr\u001b[0m\u001b[1;33m,\u001b[0m \u001b[0mvalue\u001b[0m\u001b[1;33m)\u001b[0m \u001b[1;33m->\u001b[0m \u001b[1;32mNone\u001b[0m\u001b[1;33m:\u001b[0m\u001b[1;33m\u001b[0m\u001b[1;33m\u001b[0m\u001b[0m\n",
      "\u001b[1;31mAttributeError\u001b[0m: 'Series' object has no attribute 'astimezone'"
     ]
    }
   ],
   "source": [
    "#localizing time\n",
    "df[\"Date\"] = float(df['Date'].astimezone(pytz.timezone('Europe/Istanbul')))\n",
    "df[\"Date\"] = df[\"Date\"].astimezone(pytz.timezone('Europe/Istanbul'))\n",
    "df[\"Date\"] = df[\"Date\"].strftime(\"%Y-%m-%d %H:%M:%S\")"
   ]
  },
  {
   "cell_type": "code",
   "execution_count": 18,
   "metadata": {},
   "outputs": [],
   "source": [
    "#removing duplications, reseting index\n",
    "df.drop_duplicates(inplace = True)\n",
    "df.reset_index(inplace = True, drop = True)"
   ]
  },
  {
   "cell_type": "raw",
   "metadata": {},
   "source": [
    "\"\"\" example code \"\"\"\n",
    "this is the way take tweets with limit which is 200\n",
    "tweets = api.user_timeline(screen_name = user,\n",
    "                           count = limit,\n",
    "                           include_rts = True,\n",
    "                           tweet_mode = \"extended\")\n",
    "\"\"\"                           "
   ]
  },
  {
   "cell_type": "code",
   "execution_count": 19,
   "metadata": {},
   "outputs": [],
   "source": [
    "#seperating dat-month-year\n",
    "df['Day'] = pd.DatetimeIndex(df['Date']).day\n",
    "df['Month'] = pd.DatetimeIndex(df['Date']).month\n",
    "df['Year'] = pd.DatetimeIndex(df['Date']).year"
   ]
  },
  {
   "cell_type": "code",
   "execution_count": 20,
   "metadata": {},
   "outputs": [
    {
     "data": {
      "text/plain": [
       "(717, 12)"
      ]
     },
     "execution_count": 20,
     "metadata": {},
     "output_type": "execute_result"
    }
   ],
   "source": [
    "df.shape"
   ]
  },
  {
   "cell_type": "code",
   "execution_count": 21,
   "metadata": {},
   "outputs": [
    {
     "data": {
      "text/plain": [
       "False"
      ]
     },
     "execution_count": 21,
     "metadata": {},
     "output_type": "execute_result"
    }
   ],
   "source": [
    "#null check --> if it is \"False\", we all ok\n",
    "df.isna().any().any()"
   ]
  },
  {
   "cell_type": "code",
   "execution_count": 22,
   "metadata": {},
   "outputs": [
    {
     "name": "stdout",
     "output_type": "stream",
     "text": [
      "<class 'pandas.core.frame.DataFrame'>\n",
      "RangeIndex: 717 entries, 0 to 716\n",
      "Data columns (total 12 columns):\n",
      " #   Column        Non-Null Count  Dtype \n",
      "---  ------        --------------  ----- \n",
      " 0   Tweet_id      717 non-null    object\n",
      " 1   Name          717 non-null    object\n",
      " 2   Screen_name   717 non-null    object\n",
      " 3   Related_coin  717 non-null    object\n",
      " 4   Tweet         717 non-null    object\n",
      " 5   Date          717 non-null    object\n",
      " 6   Category      717 non-null    object\n",
      " 7   N_of_RT       717 non-null    object\n",
      " 8   N_of_fav      717 non-null    object\n",
      " 9   Day           717 non-null    int64 \n",
      " 10  Month         717 non-null    int64 \n",
      " 11  Year          717 non-null    int64 \n",
      "dtypes: int64(3), object(9)\n",
      "memory usage: 67.3+ KB\n"
     ]
    }
   ],
   "source": [
    "df.info()"
   ]
  },
  {
   "cell_type": "code",
   "execution_count": 23,
   "metadata": {},
   "outputs": [
    {
     "name": "stdout",
     "output_type": "stream",
     "text": [
      "<class 'pandas.core.frame.DataFrame'>\n",
      "RangeIndex: 717 entries, 0 to 716\n",
      "Data columns (total 12 columns):\n",
      " #   Column        Non-Null Count  Dtype \n",
      "---  ------        --------------  ----- \n",
      " 0   Tweet_id      717 non-null    object\n",
      " 1   Name          717 non-null    object\n",
      " 2   Screen_name   717 non-null    object\n",
      " 3   Related_coin  717 non-null    object\n",
      " 4   Tweet         717 non-null    object\n",
      " 5   Date          717 non-null    object\n",
      " 6   Category      717 non-null    object\n",
      " 7   N_of_RT       717 non-null    object\n",
      " 8   N_of_fav      717 non-null    object\n",
      " 9   Day           717 non-null    int64 \n",
      " 10  Month         717 non-null    int64 \n",
      " 11  Year          717 non-null    int64 \n",
      "dtypes: int64(3), object(9)\n",
      "memory usage: 67.3+ KB\n"
     ]
    }
   ],
   "source": [
    "df.info()"
   ]
  },
  {
   "cell_type": "code",
   "execution_count": 24,
   "metadata": {
    "scrolled": false
   },
   "outputs": [
    {
     "ename": "ValueError",
     "evalue": "Excel does not support datetimes with timezones. Please ensure that datetimes are timezone unaware before writing to Excel.",
     "output_type": "error",
     "traceback": [
      "\u001b[1;31m---------------------------------------------------------------------------\u001b[0m",
      "\u001b[1;31mValueError\u001b[0m                                Traceback (most recent call last)",
      "\u001b[1;32m<ipython-input-24-e3e5203bf998>\u001b[0m in \u001b[0;36m<module>\u001b[1;34m\u001b[0m\n\u001b[0;32m      1\u001b[0m \u001b[0mpd\u001b[0m\u001b[1;33m.\u001b[0m\u001b[0mset_option\u001b[0m\u001b[1;33m(\u001b[0m\u001b[1;34m\"max_rows\"\u001b[0m\u001b[1;33m,\u001b[0m \u001b[1;32mNone\u001b[0m\u001b[1;33m)\u001b[0m\u001b[1;33m\u001b[0m\u001b[1;33m\u001b[0m\u001b[0m\n\u001b[1;32m----> 2\u001b[1;33m \u001b[0mdf\u001b[0m\u001b[1;33m.\u001b[0m\u001b[0mto_excel\u001b[0m\u001b[1;33m(\u001b[0m\u001b[1;34mr\"C:\\Users\\Kutay\\Desktop\\My Docs\\My Docs v2.0\\Data Science\\RA\\Cryptocurrency\\Project\\Data\\tweets.xlsx\"\u001b[0m\u001b[1;33m)\u001b[0m\u001b[1;33m\u001b[0m\u001b[1;33m\u001b[0m\u001b[0m\n\u001b[0m\u001b[0;32m      3\u001b[0m \u001b[0mdf\u001b[0m\u001b[1;33m.\u001b[0m\u001b[0mhead\u001b[0m\u001b[1;33m(\u001b[0m\u001b[1;33m)\u001b[0m\u001b[1;33m\u001b[0m\u001b[1;33m\u001b[0m\u001b[0m\n",
      "\u001b[1;32m~\\anaconda3\\lib\\site-packages\\pandas\\core\\generic.py\u001b[0m in \u001b[0;36mto_excel\u001b[1;34m(self, excel_writer, sheet_name, na_rep, float_format, columns, header, index, index_label, startrow, startcol, engine, merge_cells, encoding, inf_rep, verbose, freeze_panes)\u001b[0m\n\u001b[0;32m   2173\u001b[0m             \u001b[0minf_rep\u001b[0m\u001b[1;33m=\u001b[0m\u001b[0minf_rep\u001b[0m\u001b[1;33m,\u001b[0m\u001b[1;33m\u001b[0m\u001b[1;33m\u001b[0m\u001b[0m\n\u001b[0;32m   2174\u001b[0m         )\n\u001b[1;32m-> 2175\u001b[1;33m         formatter.write(\n\u001b[0m\u001b[0;32m   2176\u001b[0m             \u001b[0mexcel_writer\u001b[0m\u001b[1;33m,\u001b[0m\u001b[1;33m\u001b[0m\u001b[1;33m\u001b[0m\u001b[0m\n\u001b[0;32m   2177\u001b[0m             \u001b[0msheet_name\u001b[0m\u001b[1;33m=\u001b[0m\u001b[0msheet_name\u001b[0m\u001b[1;33m,\u001b[0m\u001b[1;33m\u001b[0m\u001b[1;33m\u001b[0m\u001b[0m\n",
      "\u001b[1;32m~\\anaconda3\\lib\\site-packages\\pandas\\io\\formats\\excel.py\u001b[0m in \u001b[0;36mwrite\u001b[1;34m(self, writer, sheet_name, startrow, startcol, freeze_panes, engine)\u001b[0m\n\u001b[0;32m    728\u001b[0m \u001b[1;33m\u001b[0m\u001b[0m\n\u001b[0;32m    729\u001b[0m         \u001b[0mformatted_cells\u001b[0m \u001b[1;33m=\u001b[0m \u001b[0mself\u001b[0m\u001b[1;33m.\u001b[0m\u001b[0mget_formatted_cells\u001b[0m\u001b[1;33m(\u001b[0m\u001b[1;33m)\u001b[0m\u001b[1;33m\u001b[0m\u001b[1;33m\u001b[0m\u001b[0m\n\u001b[1;32m--> 730\u001b[1;33m         writer.write_cells(\n\u001b[0m\u001b[0;32m    731\u001b[0m             \u001b[0mformatted_cells\u001b[0m\u001b[1;33m,\u001b[0m\u001b[1;33m\u001b[0m\u001b[1;33m\u001b[0m\u001b[0m\n\u001b[0;32m    732\u001b[0m             \u001b[0msheet_name\u001b[0m\u001b[1;33m,\u001b[0m\u001b[1;33m\u001b[0m\u001b[1;33m\u001b[0m\u001b[0m\n",
      "\u001b[1;32m~\\anaconda3\\lib\\site-packages\\pandas\\io\\excel\\_xlsxwriter.py\u001b[0m in \u001b[0;36mwrite_cells\u001b[1;34m(self, cells, sheet_name, startrow, startcol, freeze_panes)\u001b[0m\n\u001b[0;32m    212\u001b[0m             \u001b[0mwks\u001b[0m\u001b[1;33m.\u001b[0m\u001b[0mfreeze_panes\u001b[0m\u001b[1;33m(\u001b[0m\u001b[1;33m*\u001b[0m\u001b[1;33m(\u001b[0m\u001b[0mfreeze_panes\u001b[0m\u001b[1;33m)\u001b[0m\u001b[1;33m)\u001b[0m\u001b[1;33m\u001b[0m\u001b[1;33m\u001b[0m\u001b[0m\n\u001b[0;32m    213\u001b[0m \u001b[1;33m\u001b[0m\u001b[0m\n\u001b[1;32m--> 214\u001b[1;33m         \u001b[1;32mfor\u001b[0m \u001b[0mcell\u001b[0m \u001b[1;32min\u001b[0m \u001b[0mcells\u001b[0m\u001b[1;33m:\u001b[0m\u001b[1;33m\u001b[0m\u001b[1;33m\u001b[0m\u001b[0m\n\u001b[0m\u001b[0;32m    215\u001b[0m             \u001b[0mval\u001b[0m\u001b[1;33m,\u001b[0m \u001b[0mfmt\u001b[0m \u001b[1;33m=\u001b[0m \u001b[0mself\u001b[0m\u001b[1;33m.\u001b[0m\u001b[0m_value_with_fmt\u001b[0m\u001b[1;33m(\u001b[0m\u001b[0mcell\u001b[0m\u001b[1;33m.\u001b[0m\u001b[0mval\u001b[0m\u001b[1;33m)\u001b[0m\u001b[1;33m\u001b[0m\u001b[1;33m\u001b[0m\u001b[0m\n\u001b[0;32m    216\u001b[0m \u001b[1;33m\u001b[0m\u001b[0m\n",
      "\u001b[1;32m~\\anaconda3\\lib\\site-packages\\pandas\\io\\formats\\excel.py\u001b[0m in \u001b[0;36mget_formatted_cells\u001b[1;34m(self)\u001b[0m\n\u001b[0;32m    683\u001b[0m     \u001b[1;32mdef\u001b[0m \u001b[0mget_formatted_cells\u001b[0m\u001b[1;33m(\u001b[0m\u001b[0mself\u001b[0m\u001b[1;33m)\u001b[0m\u001b[1;33m:\u001b[0m\u001b[1;33m\u001b[0m\u001b[1;33m\u001b[0m\u001b[0m\n\u001b[0;32m    684\u001b[0m         \u001b[1;32mfor\u001b[0m \u001b[0mcell\u001b[0m \u001b[1;32min\u001b[0m \u001b[0mitertools\u001b[0m\u001b[1;33m.\u001b[0m\u001b[0mchain\u001b[0m\u001b[1;33m(\u001b[0m\u001b[0mself\u001b[0m\u001b[1;33m.\u001b[0m\u001b[0m_format_header\u001b[0m\u001b[1;33m(\u001b[0m\u001b[1;33m)\u001b[0m\u001b[1;33m,\u001b[0m \u001b[0mself\u001b[0m\u001b[1;33m.\u001b[0m\u001b[0m_format_body\u001b[0m\u001b[1;33m(\u001b[0m\u001b[1;33m)\u001b[0m\u001b[1;33m)\u001b[0m\u001b[1;33m:\u001b[0m\u001b[1;33m\u001b[0m\u001b[1;33m\u001b[0m\u001b[0m\n\u001b[1;32m--> 685\u001b[1;33m             \u001b[0mcell\u001b[0m\u001b[1;33m.\u001b[0m\u001b[0mval\u001b[0m \u001b[1;33m=\u001b[0m \u001b[0mself\u001b[0m\u001b[1;33m.\u001b[0m\u001b[0m_format_value\u001b[0m\u001b[1;33m(\u001b[0m\u001b[0mcell\u001b[0m\u001b[1;33m.\u001b[0m\u001b[0mval\u001b[0m\u001b[1;33m)\u001b[0m\u001b[1;33m\u001b[0m\u001b[1;33m\u001b[0m\u001b[0m\n\u001b[0m\u001b[0;32m    686\u001b[0m             \u001b[1;32myield\u001b[0m \u001b[0mcell\u001b[0m\u001b[1;33m\u001b[0m\u001b[1;33m\u001b[0m\u001b[0m\n\u001b[0;32m    687\u001b[0m \u001b[1;33m\u001b[0m\u001b[0m\n",
      "\u001b[1;32m~\\anaconda3\\lib\\site-packages\\pandas\\io\\formats\\excel.py\u001b[0m in \u001b[0;36m_format_value\u001b[1;34m(self, val)\u001b[0m\n\u001b[0;32m    435\u001b[0m                 \u001b[0mval\u001b[0m \u001b[1;33m=\u001b[0m \u001b[0mfloat\u001b[0m\u001b[1;33m(\u001b[0m\u001b[0mself\u001b[0m\u001b[1;33m.\u001b[0m\u001b[0mfloat_format\u001b[0m \u001b[1;33m%\u001b[0m \u001b[0mval\u001b[0m\u001b[1;33m)\u001b[0m\u001b[1;33m\u001b[0m\u001b[1;33m\u001b[0m\u001b[0m\n\u001b[0;32m    436\u001b[0m         \u001b[1;32mif\u001b[0m \u001b[0mgetattr\u001b[0m\u001b[1;33m(\u001b[0m\u001b[0mval\u001b[0m\u001b[1;33m,\u001b[0m \u001b[1;34m\"tzinfo\"\u001b[0m\u001b[1;33m,\u001b[0m \u001b[1;32mNone\u001b[0m\u001b[1;33m)\u001b[0m \u001b[1;32mis\u001b[0m \u001b[1;32mnot\u001b[0m \u001b[1;32mNone\u001b[0m\u001b[1;33m:\u001b[0m\u001b[1;33m\u001b[0m\u001b[1;33m\u001b[0m\u001b[0m\n\u001b[1;32m--> 437\u001b[1;33m             raise ValueError(\n\u001b[0m\u001b[0;32m    438\u001b[0m                 \u001b[1;34m\"Excel does not support datetimes with \"\u001b[0m\u001b[1;33m\u001b[0m\u001b[1;33m\u001b[0m\u001b[0m\n\u001b[0;32m    439\u001b[0m                 \u001b[1;34m\"timezones. Please ensure that datetimes \"\u001b[0m\u001b[1;33m\u001b[0m\u001b[1;33m\u001b[0m\u001b[0m\n",
      "\u001b[1;31mValueError\u001b[0m: Excel does not support datetimes with timezones. Please ensure that datetimes are timezone unaware before writing to Excel."
     ]
    }
   ],
   "source": [
    "pd.set_option(\"max_rows\", None)\n",
    "df.to_excel(r\"C:\\Users\\Kutay\\Desktop\\My Docs\\My Docs v2.0\\Data Science\\RA\\Cryptocurrency\\Project\\Data\\tweets.xlsx\")\n",
    "df.head()"
   ]
  },
  {
   "cell_type": "code",
   "execution_count": 25,
   "metadata": {
    "scrolled": true
   },
   "outputs": [
    {
     "data": {
      "text/html": [
       "<div>\n",
       "<style scoped>\n",
       "    .dataframe tbody tr th:only-of-type {\n",
       "        vertical-align: middle;\n",
       "    }\n",
       "\n",
       "    .dataframe tbody tr th {\n",
       "        vertical-align: top;\n",
       "    }\n",
       "\n",
       "    .dataframe thead th {\n",
       "        text-align: right;\n",
       "    }\n",
       "</style>\n",
       "<table border=\"1\" class=\"dataframe\">\n",
       "  <thead>\n",
       "    <tr style=\"text-align: right;\">\n",
       "      <th></th>\n",
       "      <th>Tweet_id</th>\n",
       "      <th>Name</th>\n",
       "      <th>Screen_name</th>\n",
       "      <th>Related_coin</th>\n",
       "      <th>Tweet</th>\n",
       "      <th>Date</th>\n",
       "      <th>Category</th>\n",
       "      <th>N_of_RT</th>\n",
       "      <th>N_of_fav</th>\n",
       "      <th>Day</th>\n",
       "      <th>Month</th>\n",
       "      <th>Year</th>\n",
       "    </tr>\n",
       "  </thead>\n",
       "  <tbody>\n",
       "    <tr>\n",
       "      <th>0</th>\n",
       "      <td>1597945214219739141</td>\n",
       "      <td>vitalik.eth</td>\n",
       "      <td>VitalikButerin</td>\n",
       "      <td>ethereum</td>\n",
       "      <td>RT @hasufl: Say hello to two more players in t...</td>\n",
       "      <td>2022-11-30 13:26:42+00:00</td>\n",
       "      <td>retweet</td>\n",
       "      <td>103</td>\n",
       "      <td>0</td>\n",
       "      <td>30</td>\n",
       "      <td>11</td>\n",
       "      <td>2022</td>\n",
       "    </tr>\n",
       "    <tr>\n",
       "      <th>1</th>\n",
       "      <td>1597944810236616704</td>\n",
       "      <td>vitalik.eth</td>\n",
       "      <td>VitalikButerin</td>\n",
       "      <td>ethereum</td>\n",
       "      <td>RT @ultrasoundmoney: big day for relay diversi...</td>\n",
       "      <td>2022-11-30 13:25:05+00:00</td>\n",
       "      <td>retweet</td>\n",
       "      <td>169</td>\n",
       "      <td>0</td>\n",
       "      <td>30</td>\n",
       "      <td>11</td>\n",
       "      <td>2022</td>\n",
       "    </tr>\n",
       "    <tr>\n",
       "      <th>2</th>\n",
       "      <td>1597911724971413509</td>\n",
       "      <td>vitalik.eth</td>\n",
       "      <td>VitalikButerin</td>\n",
       "      <td>ethereum</td>\n",
       "      <td>RT @ErikVoorhees: We needn’t assume a central ...</td>\n",
       "      <td>2022-11-30 11:13:37+00:00</td>\n",
       "      <td>retweet</td>\n",
       "      <td>195</td>\n",
       "      <td>0</td>\n",
       "      <td>30</td>\n",
       "      <td>11</td>\n",
       "      <td>2022</td>\n",
       "    </tr>\n",
       "    <tr>\n",
       "      <th>3</th>\n",
       "      <td>1597200530585292801</td>\n",
       "      <td>vitalik.eth</td>\n",
       "      <td>VitalikButerin</td>\n",
       "      <td>ethereum</td>\n",
       "      <td>RT @koeppelmann: To make it crystal clear: WET...</td>\n",
       "      <td>2022-11-28 12:07:35+00:00</td>\n",
       "      <td>retweet</td>\n",
       "      <td>254</td>\n",
       "      <td>0</td>\n",
       "      <td>28</td>\n",
       "      <td>11</td>\n",
       "      <td>2022</td>\n",
       "    </tr>\n",
       "    <tr>\n",
       "      <th>4</th>\n",
       "      <td>1596870886594064385</td>\n",
       "      <td>vitalik.eth</td>\n",
       "      <td>VitalikButerin</td>\n",
       "      <td>ethereum</td>\n",
       "      <td>RT @dankrad: A lot of people making jokes abou...</td>\n",
       "      <td>2022-11-27 14:17:42+00:00</td>\n",
       "      <td>retweet</td>\n",
       "      <td>153</td>\n",
       "      <td>0</td>\n",
       "      <td>27</td>\n",
       "      <td>11</td>\n",
       "      <td>2022</td>\n",
       "    </tr>\n",
       "  </tbody>\n",
       "</table>\n",
       "</div>"
      ],
      "text/plain": [
       "              Tweet_id         Name     Screen_name Related_coin  \\\n",
       "0  1597945214219739141  vitalik.eth  VitalikButerin     ethereum   \n",
       "1  1597944810236616704  vitalik.eth  VitalikButerin     ethereum   \n",
       "2  1597911724971413509  vitalik.eth  VitalikButerin     ethereum   \n",
       "3  1597200530585292801  vitalik.eth  VitalikButerin     ethereum   \n",
       "4  1596870886594064385  vitalik.eth  VitalikButerin     ethereum   \n",
       "\n",
       "                                               Tweet  \\\n",
       "0  RT @hasufl: Say hello to two more players in t...   \n",
       "1  RT @ultrasoundmoney: big day for relay diversi...   \n",
       "2  RT @ErikVoorhees: We needn’t assume a central ...   \n",
       "3  RT @koeppelmann: To make it crystal clear: WET...   \n",
       "4  RT @dankrad: A lot of people making jokes abou...   \n",
       "\n",
       "                        Date Category N_of_RT N_of_fav  Day  Month  Year  \n",
       "0  2022-11-30 13:26:42+00:00  retweet     103        0   30     11  2022  \n",
       "1  2022-11-30 13:25:05+00:00  retweet     169        0   30     11  2022  \n",
       "2  2022-11-30 11:13:37+00:00  retweet     195        0   30     11  2022  \n",
       "3  2022-11-28 12:07:35+00:00  retweet     254        0   28     11  2022  \n",
       "4  2022-11-27 14:17:42+00:00  retweet     153        0   27     11  2022  "
      ]
     },
     "execution_count": 25,
     "metadata": {},
     "output_type": "execute_result"
    }
   ],
   "source": [
    "#seperation according to categories, it's used in visualization segment\n",
    "retweet_df = df[df[\"Category\"] == \"retweet\"]\n",
    "retweet_df.reset_index(inplace = True, drop=True)\n",
    "quote_df = df[df[\"Category\"] == \"quote\"]\n",
    "quote_df.reset_index(inplace = True, drop=True)\n",
    "reply_df = df[df[\"Category\"] == \"reply\"]\n",
    "reply_df.reset_index(inplace = True, drop=True)\n",
    "direct_df = df[df[\"Category\"] == \"direct\"]\n",
    "direct_df.reset_index(inplace = True, drop=True)\n",
    "retweet_df.head()"
   ]
  },
  {
   "cell_type": "markdown",
   "metadata": {},
   "source": [
    "# Taking User Object"
   ]
  },
  {
   "cell_type": "code",
   "execution_count": 26,
   "metadata": {},
   "outputs": [
    {
     "data": {
      "text/plain": [
       "'Emin Gün Sirer🔺'"
      ]
     },
     "execution_count": 26,
     "metadata": {},
     "output_type": "execute_result"
    }
   ],
   "source": [
    "user_try = api.get_user(screen_name = \"el33th4xor\")\n",
    "user_try.name"
   ]
  },
  {
   "cell_type": "markdown",
   "metadata": {},
   "source": [
    "# Follower - Followed"
   ]
  },
  {
   "cell_type": "markdown",
   "metadata": {},
   "source": [
    "check this part of code later??????????????? cursor object is not itterable?"
   ]
  },
  {
   "cell_type": "code",
   "execution_count": 27,
   "metadata": {},
   "outputs": [],
   "source": [
    "user = \"el33th4xor\"\n",
    "followers = []\n",
    "get_followers = api.get_followers(screen_name = user)\n",
    "#get_followers = tw.Cursor(api.get_followers, id = user)\n",
    "\n",
    "for user in get_followers:\n",
    "    followers.append(user)"
   ]
  },
  {
   "cell_type": "code",
   "execution_count": 28,
   "metadata": {},
   "outputs": [
    {
     "data": {
      "text/plain": [
       "20"
      ]
     },
     "execution_count": 28,
     "metadata": {},
     "output_type": "execute_result"
    }
   ],
   "source": [
    "len(followers)"
   ]
  },
  {
   "cell_type": "code",
   "execution_count": 29,
   "metadata": {},
   "outputs": [],
   "source": [
    "columns_follower = [\"User_id\", \"Name\", \"Screen_name\", \"Verification_st\", \"Followers_count\", \"Followed_count\"]\n",
    "data_followers = []"
   ]
  },
  {
   "cell_type": "code",
   "execution_count": 30,
   "metadata": {},
   "outputs": [],
   "source": [
    "for user in followers:\n",
    "    data_followers.append([user.id, user.name, user.screen_name, user.verified, user.followers_count, user.friends_count])"
   ]
  },
  {
   "cell_type": "code",
   "execution_count": 31,
   "metadata": {},
   "outputs": [
    {
     "data": {
      "text/html": [
       "<div>\n",
       "<style scoped>\n",
       "    .dataframe tbody tr th:only-of-type {\n",
       "        vertical-align: middle;\n",
       "    }\n",
       "\n",
       "    .dataframe tbody tr th {\n",
       "        vertical-align: top;\n",
       "    }\n",
       "\n",
       "    .dataframe thead th {\n",
       "        text-align: right;\n",
       "    }\n",
       "</style>\n",
       "<table border=\"1\" class=\"dataframe\">\n",
       "  <thead>\n",
       "    <tr style=\"text-align: right;\">\n",
       "      <th></th>\n",
       "      <th>User_id</th>\n",
       "      <th>Name</th>\n",
       "      <th>Screen_name</th>\n",
       "      <th>Verification_st</th>\n",
       "      <th>Followers_count</th>\n",
       "      <th>Followed_count</th>\n",
       "    </tr>\n",
       "  </thead>\n",
       "  <tbody>\n",
       "    <tr>\n",
       "      <th>0</th>\n",
       "      <td>1393485916329627648</td>\n",
       "      <td>Muammer</td>\n",
       "      <td>Muammer556121</td>\n",
       "      <td>False</td>\n",
       "      <td>5</td>\n",
       "      <td>110</td>\n",
       "    </tr>\n",
       "    <tr>\n",
       "      <th>1</th>\n",
       "      <td>1243239210594848769</td>\n",
       "      <td>ImWeltraumVerloren</td>\n",
       "      <td>schwarzes_Loch_</td>\n",
       "      <td>False</td>\n",
       "      <td>63</td>\n",
       "      <td>341</td>\n",
       "    </tr>\n",
       "    <tr>\n",
       "      <th>2</th>\n",
       "      <td>3000015578</td>\n",
       "      <td>Emree</td>\n",
       "      <td>topalogluemre12</td>\n",
       "      <td>False</td>\n",
       "      <td>212</td>\n",
       "      <td>228</td>\n",
       "    </tr>\n",
       "    <tr>\n",
       "      <th>3</th>\n",
       "      <td>3309675525</td>\n",
       "      <td>Ramazan Dogan</td>\n",
       "      <td>DoganRamazann92</td>\n",
       "      <td>False</td>\n",
       "      <td>10</td>\n",
       "      <td>99</td>\n",
       "    </tr>\n",
       "    <tr>\n",
       "      <th>4</th>\n",
       "      <td>921795924380340225</td>\n",
       "      <td>JadedBanker</td>\n",
       "      <td>jadedbanker</td>\n",
       "      <td>False</td>\n",
       "      <td>109</td>\n",
       "      <td>433</td>\n",
       "    </tr>\n",
       "    <tr>\n",
       "      <th>5</th>\n",
       "      <td>1592837207316115457</td>\n",
       "      <td>loki</td>\n",
       "      <td>deep_lurk</td>\n",
       "      <td>False</td>\n",
       "      <td>15</td>\n",
       "      <td>24</td>\n",
       "    </tr>\n",
       "    <tr>\n",
       "      <th>6</th>\n",
       "      <td>334804720</td>\n",
       "      <td>n0zk</td>\n",
       "      <td>n0zk_nazmi</td>\n",
       "      <td>False</td>\n",
       "      <td>70</td>\n",
       "      <td>873</td>\n",
       "    </tr>\n",
       "    <tr>\n",
       "      <th>7</th>\n",
       "      <td>2851441745</td>\n",
       "      <td>Eyvallah 🔺</td>\n",
       "      <td>Nefer1299</td>\n",
       "      <td>False</td>\n",
       "      <td>44</td>\n",
       "      <td>32</td>\n",
       "    </tr>\n",
       "    <tr>\n",
       "      <th>8</th>\n",
       "      <td>1426336271924961282</td>\n",
       "      <td>NFT YN Vm</td>\n",
       "      <td>TheNftYouNeed</td>\n",
       "      <td>False</td>\n",
       "      <td>8</td>\n",
       "      <td>102</td>\n",
       "    </tr>\n",
       "    <tr>\n",
       "      <th>9</th>\n",
       "      <td>3176234818</td>\n",
       "      <td>AA</td>\n",
       "      <td>aandamlak</td>\n",
       "      <td>False</td>\n",
       "      <td>5</td>\n",
       "      <td>9</td>\n",
       "    </tr>\n",
       "    <tr>\n",
       "      <th>10</th>\n",
       "      <td>1604517869731168261</td>\n",
       "      <td>idilsumer</td>\n",
       "      <td>idilsumer1</td>\n",
       "      <td>False</td>\n",
       "      <td>1</td>\n",
       "      <td>34</td>\n",
       "    </tr>\n",
       "    <tr>\n",
       "      <th>11</th>\n",
       "      <td>1605695416372273165</td>\n",
       "      <td>Leon</td>\n",
       "      <td>leonmartensoff</td>\n",
       "      <td>False</td>\n",
       "      <td>0</td>\n",
       "      <td>8</td>\n",
       "    </tr>\n",
       "    <tr>\n",
       "      <th>12</th>\n",
       "      <td>1609919010690179072</td>\n",
       "      <td>Hank Scorpio</td>\n",
       "      <td>nobodysaysitaly</td>\n",
       "      <td>False</td>\n",
       "      <td>4</td>\n",
       "      <td>284</td>\n",
       "    </tr>\n",
       "    <tr>\n",
       "      <th>13</th>\n",
       "      <td>947098577540657152</td>\n",
       "      <td>JJ𝕔𝕪𝕔𝕝𝕖𝕤 🔄</td>\n",
       "      <td>JJcycles</td>\n",
       "      <td>False</td>\n",
       "      <td>126905</td>\n",
       "      <td>1133</td>\n",
       "    </tr>\n",
       "    <tr>\n",
       "      <th>14</th>\n",
       "      <td>422735632</td>\n",
       "      <td>Onur MAVİGUL</td>\n",
       "      <td>10mav</td>\n",
       "      <td>False</td>\n",
       "      <td>24</td>\n",
       "      <td>1469</td>\n",
       "    </tr>\n",
       "    <tr>\n",
       "      <th>15</th>\n",
       "      <td>1603754458898436097</td>\n",
       "      <td>KrakenBenz</td>\n",
       "      <td>BenzKraken</td>\n",
       "      <td>False</td>\n",
       "      <td>31</td>\n",
       "      <td>239</td>\n",
       "    </tr>\n",
       "    <tr>\n",
       "      <th>16</th>\n",
       "      <td>1518927873016360962</td>\n",
       "      <td>yel</td>\n",
       "      <td>mauikim07</td>\n",
       "      <td>False</td>\n",
       "      <td>17445</td>\n",
       "      <td>836</td>\n",
       "    </tr>\n",
       "    <tr>\n",
       "      <th>17</th>\n",
       "      <td>2220803254</td>\n",
       "      <td>Agileus</td>\n",
       "      <td>agileussworld</td>\n",
       "      <td>False</td>\n",
       "      <td>1</td>\n",
       "      <td>66</td>\n",
       "    </tr>\n",
       "    <tr>\n",
       "      <th>18</th>\n",
       "      <td>1505276667148881930</td>\n",
       "      <td>froggy🐻⛓️⚛️</td>\n",
       "      <td>bogy_froggy</td>\n",
       "      <td>False</td>\n",
       "      <td>20</td>\n",
       "      <td>479</td>\n",
       "    </tr>\n",
       "    <tr>\n",
       "      <th>19</th>\n",
       "      <td>1547803591167320066</td>\n",
       "      <td>Blockchain Buzz TV</td>\n",
       "      <td>BC_BuzzTV</td>\n",
       "      <td>False</td>\n",
       "      <td>19</td>\n",
       "      <td>293</td>\n",
       "    </tr>\n",
       "  </tbody>\n",
       "</table>\n",
       "</div>"
      ],
      "text/plain": [
       "                User_id                Name      Screen_name  Verification_st  \\\n",
       "0   1393485916329627648             Muammer    Muammer556121            False   \n",
       "1   1243239210594848769  ImWeltraumVerloren  schwarzes_Loch_            False   \n",
       "2            3000015578               Emree  topalogluemre12            False   \n",
       "3            3309675525       Ramazan Dogan  DoganRamazann92            False   \n",
       "4    921795924380340225         JadedBanker      jadedbanker            False   \n",
       "5   1592837207316115457                loki        deep_lurk            False   \n",
       "6             334804720                n0zk       n0zk_nazmi            False   \n",
       "7            2851441745          Eyvallah 🔺        Nefer1299            False   \n",
       "8   1426336271924961282           NFT YN Vm    TheNftYouNeed            False   \n",
       "9            3176234818                  AA        aandamlak            False   \n",
       "10  1604517869731168261           idilsumer       idilsumer1            False   \n",
       "11  1605695416372273165                Leon   leonmartensoff            False   \n",
       "12  1609919010690179072        Hank Scorpio  nobodysaysitaly            False   \n",
       "13   947098577540657152          JJ𝕔𝕪𝕔𝕝𝕖𝕤 🔄         JJcycles            False   \n",
       "14            422735632        Onur MAVİGUL            10mav            False   \n",
       "15  1603754458898436097          KrakenBenz       BenzKraken            False   \n",
       "16  1518927873016360962                 yel        mauikim07            False   \n",
       "17           2220803254             Agileus    agileussworld            False   \n",
       "18  1505276667148881930         froggy🐻⛓️⚛️      bogy_froggy            False   \n",
       "19  1547803591167320066  Blockchain Buzz TV        BC_BuzzTV            False   \n",
       "\n",
       "    Followers_count  Followed_count  \n",
       "0                 5             110  \n",
       "1                63             341  \n",
       "2               212             228  \n",
       "3                10              99  \n",
       "4               109             433  \n",
       "5                15              24  \n",
       "6                70             873  \n",
       "7                44              32  \n",
       "8                 8             102  \n",
       "9                 5               9  \n",
       "10                1              34  \n",
       "11                0               8  \n",
       "12                4             284  \n",
       "13           126905            1133  \n",
       "14               24            1469  \n",
       "15               31             239  \n",
       "16            17445             836  \n",
       "17                1              66  \n",
       "18               20             479  \n",
       "19               19             293  "
      ]
     },
     "execution_count": 31,
     "metadata": {},
     "output_type": "execute_result"
    }
   ],
   "source": [
    "df_follower = pd.DataFrame(data_followers, columns = columns_follower)\n",
    "df_follower"
   ]
  },
  {
   "cell_type": "code",
   "execution_count": 32,
   "metadata": {},
   "outputs": [],
   "source": [
    "df_follower.drop_duplicates(inplace = True)\n",
    "df_follower.reset_index(inplace = True, drop = True)"
   ]
  },
  {
   "cell_type": "markdown",
   "metadata": {},
   "source": [
    "# Statistics and Visualization"
   ]
  },
  {
   "cell_type": "markdown",
   "metadata": {},
   "source": [
    "Graph should be addepted to new version of df(with lots of users)"
   ]
  },
  {
   "cell_type": "code",
   "execution_count": 33,
   "metadata": {},
   "outputs": [
    {
     "data": {
      "text/html": [
       "<div>\n",
       "<style scoped>\n",
       "    .dataframe tbody tr th:only-of-type {\n",
       "        vertical-align: middle;\n",
       "    }\n",
       "\n",
       "    .dataframe tbody tr th {\n",
       "        vertical-align: top;\n",
       "    }\n",
       "\n",
       "    .dataframe thead th {\n",
       "        text-align: right;\n",
       "    }\n",
       "</style>\n",
       "<table border=\"1\" class=\"dataframe\">\n",
       "  <thead>\n",
       "    <tr style=\"text-align: right;\">\n",
       "      <th></th>\n",
       "      <th>Day</th>\n",
       "      <th>Month</th>\n",
       "      <th>Year</th>\n",
       "    </tr>\n",
       "  </thead>\n",
       "  <tbody>\n",
       "    <tr>\n",
       "      <th>Day</th>\n",
       "      <td>1.0</td>\n",
       "      <td>NaN</td>\n",
       "      <td>NaN</td>\n",
       "    </tr>\n",
       "    <tr>\n",
       "      <th>Month</th>\n",
       "      <td>NaN</td>\n",
       "      <td>NaN</td>\n",
       "      <td>NaN</td>\n",
       "    </tr>\n",
       "    <tr>\n",
       "      <th>Year</th>\n",
       "      <td>NaN</td>\n",
       "      <td>NaN</td>\n",
       "      <td>NaN</td>\n",
       "    </tr>\n",
       "  </tbody>\n",
       "</table>\n",
       "</div>"
      ],
      "text/plain": [
       "       Day  Month  Year\n",
       "Day    1.0    NaN   NaN\n",
       "Month  NaN    NaN   NaN\n",
       "Year   NaN    NaN   NaN"
      ]
     },
     "execution_count": 33,
     "metadata": {},
     "output_type": "execute_result"
    }
   ],
   "source": [
    "df.corr()"
   ]
  },
  {
   "cell_type": "code",
   "execution_count": 34,
   "metadata": {},
   "outputs": [
    {
     "data": {
      "image/png": "[encoded data removed]",
      "text/plain": [
       "<Figure size 1008x504 with 1 Axes>"
      ]
     },
     "metadata": {
      "needs_background": "light"
     },
     "output_type": "display_data"
    }
   ],
   "source": [
    "plot1 = retweet_df.groupby(\"Day\")[\"Tweet_id\"].count()\n",
    "plot2 = quote_df.groupby(\"Day\")[\"Tweet_id\"].count()\n",
    "plot3 = reply_df.groupby(\"Day\")[\"Tweet_id\"].count()\n",
    "plot4 = direct_df.groupby(\"Day\")[\"Tweet_id\"].count()\n",
    "plt.figure(figsize = (14,7))\n",
    "ax= plt.subplot()\n",
    "ax.bar(plot1.index-0.3, plot1.values, width = 0.2, color = \"pink\", align = \"center\", label = \"Retweet\")\n",
    "ax.bar(plot2.index-0.1, plot2.values, width = 0.2, color = \"yellow\", align = \"center\", label = \"Quote\")\n",
    "ax.bar(plot3.index+0.1, plot3.values, width = 0.2, color = \"purple\", align = \"center\", label = \"Reply\")\n",
    "ax.bar(plot4.index+0.3, plot4.values, width = 0.2, color = \"grey\", align = \"center\", label = \"Direct\")\n",
    "plt.title(\"Number of Tweets According to Category per Day\")\n",
    "plt.ylabel(\"Number of Tweets\")\n",
    "plt.xlabel(\"Days\")\n",
    "#they are not sorted from 1 to 30 or 31, last they is today and first day is one month earlier. There is need for a solution also.\n",
    "plt.xticks([1,2,3,4,5,6,7,8,9,10,11,12,13,14,15,16,17,18,19,20,21,22,23,24,25,26,27,28,29,30,31]) #find a solution for changes of number of days in a month\n",
    "plt.legend()\n",
    "plt.show()"
   ]
  },
  {
   "cell_type": "markdown",
   "metadata": {},
   "source": [
    "# Coin Data"
   ]
  },
  {
   "cell_type": "markdown",
   "metadata": {},
   "source": [
    "## example of getting price data"
   ]
  },
  {
   "cell_type": "code",
   "execution_count": 7,
   "metadata": {},
   "outputs": [],
   "source": [
    "from pycoingecko import CoinGeckoAPI\n",
    "cg = CoinGeckoAPI()"
   ]
  },
  {
   "cell_type": "code",
   "execution_count": 8,
   "metadata": {},
   "outputs": [
    {
     "data": {
      "text/plain": [
       "{'bitcoin': {'usd': 16645.7}}"
      ]
     },
     "execution_count": 8,
     "metadata": {},
     "output_type": "execute_result"
    }
   ],
   "source": [
    "cg.get_price(ids = \"bitcoin\", vs_currencies = \"usd\")"
   ]
  },
  {
   "cell_type": "code",
   "execution_count": 9,
   "metadata": {},
   "outputs": [
    {
     "data": {
      "text/plain": [
       "{'prices': [[1672777448000, 16645.14862130005]],\n",
       " 'market_caps': [[1672777448000, 320453203145.3436]],\n",
       " 'total_volumes': [[1672777448000, 15292394778.65775]]}"
      ]
     },
     "execution_count": 9,
     "metadata": {},
     "output_type": "execute_result"
    }
   ],
   "source": [
    "deneme = cg.get_coin_market_chart_by_id(id = \"bitcoin\", vs_currency = \"usd\", days = 0)\n",
    "deneme"
   ]
  },
  {
   "cell_type": "code",
   "execution_count": 10,
   "metadata": {},
   "outputs": [
    {
     "name": "stdout",
     "output_type": "stream",
     "text": [
      "1672777448000\n"
     ]
    }
   ],
   "source": [
    "deneme2 = deneme[\"prices\"][0][0]\n",
    "print(deneme2)"
   ]
  },
  {
   "cell_type": "code",
   "execution_count": 11,
   "metadata": {},
   "outputs": [
    {
     "name": "stdout",
     "output_type": "stream",
     "text": [
      "2023-01-03 23:24:08\n"
     ]
    }
   ],
   "source": [
    "deneme3 = datetime_price.fromtimestamp(deneme2/1000)\n",
    "print(deneme3)"
   ]
  },
  {
   "cell_type": "markdown",
   "metadata": {},
   "source": [
    "## example of getting historical data"
   ]
  },
  {
   "cell_type": "markdown",
   "metadata": {},
   "source": [
    "#by date\n",
    "cg.get_coin_history_by_id(id='bitcoin',date='10-11-2020', localization='false')"
   ]
  },
  {
   "cell_type": "markdown",
   "metadata": {},
   "source": [
    "price_data = cg.get_coin_market_chart_by_id(id='bitcoin',vs_currency='usd',days= 0)\n",
    "price_data"
   ]
  },
  {
   "cell_type": "markdown",
   "metadata": {},
   "source": [
    "price_df_columns = [\"timestamps\", \"price\" ]\n",
    "df_price = pd.DataFrame(price_data[\"prices\"], columns = price_df_columns)\n",
    "#df_price[\"timestamps\"] = df_price[\"timestamps\"]\n",
    "df_price"
   ]
  },
  {
   "cell_type": "markdown",
   "metadata": {},
   "source": [
    "#use it because of UNIX time format: unit='s'\n",
    "df_price['Datetime'] = pd.to_datetime(df_price['timestamps']/1000, unit='s')\n",
    "df_price = df_price[[\"timestamps\", \"Datetime\", \"price\"]]\n",
    "df_price"
   ]
  },
  {
   "cell_type": "markdown",
   "metadata": {},
   "source": [
    "#getting by timespant interval\n",
    "a = cg.get_coin_market_chart_range_by_id(id='bitcoin',vs_currency='usd',from_timestamp='1605096000',to_timestamp='1605099600')\n",
    "a"
   ]
  },
  {
   "cell_type": "markdown",
   "metadata": {},
   "source": [
    "# Getting Historical Price Data"
   ]
  },
  {
   "cell_type": "code",
   "execution_count": 51,
   "metadata": {},
   "outputs": [],
   "source": [
    "\"\"\"\n",
    "coingecko api will give price data like:\n",
    "Get historical market data include price, market cap, and 24h volume within a range of timestamp (granularity auto) \n",
    "<b>Minutely data will be used for duration within 1 day, Hourly data will be used for duration between 1 day and 90 days,\n",
    "Daily data will be used for duration above 90 days.</b>\n",
    "\"\"\"\n",
    "\n",
    "#datetime format -> (year, month, day, hour, minute, second)\n",
    "endDate_price = datetime.datetime(2023, 1, 1, 23, 59, 59)\n",
    "startDate_price = datetime.datetime(2021, 12, 31, 0, 0, 0)\n",
    "\n",
    "#endDate_price = datetime.datetime.now()\n",
    "#startDate_price = endDate_price- datetime.timedelta(minutes = 10)\n",
    "\n",
    "#startDate_price = endDate_price - relativedelta(days = 1) #days, months, years can be used to calculate\n",
    "\n",
    "\n",
    "ts_endDate_price = datetime_price.timestamp(endDate_price)\n",
    "ts_startDate_price = datetime_price.timestamp(startDate_price)"
   ]
  },
  {
   "cell_type": "code",
   "execution_count": 52,
   "metadata": {},
   "outputs": [
    {
     "data": {
      "text/plain": [
       "1672520399.0"
      ]
     },
     "execution_count": 52,
     "metadata": {},
     "output_type": "execute_result"
    }
   ],
   "source": [
    "ts_endDate_price"
   ]
  },
  {
   "cell_type": "code",
   "execution_count": 53,
   "metadata": {},
   "outputs": [
    {
     "data": {
      "text/plain": [
       "datetime.datetime(2022, 12, 31, 23, 59, 59)"
      ]
     },
     "execution_count": 53,
     "metadata": {},
     "output_type": "execute_result"
    }
   ],
   "source": [
    "datetime_price.fromtimestamp(ts_endDate_price)"
   ]
  },
  {
   "cell_type": "code",
   "execution_count": 54,
   "metadata": {},
   "outputs": [],
   "source": [
    "def get_price(coin_ids):\n",
    "    \n",
    "    result = pd.DataFrame(columns = [\"ID\", \"timestamps\", \"date_time\", \"price\", \"market_caps\", \"volumes\"])\n",
    "    for x in coin_ids:\n",
    "        \n",
    "        current_coin_data = cg.get_coin_market_chart_range_by_id(id = x, vs_currency = 'usd', from_timestamp = ts_startDate_price, to_timestamp = ts_endDate_price)\n",
    "        \n",
    "        dummy_df = pd.DataFrame(current_coin_data[\"prices\"], columns = [\"timestamps\", \"price\" ])\n",
    "        dummy_marketcaps = pd.DataFrame(current_coin_data[\"market_caps\"], columns = [\"timestamps\", \"market_caps\" ])\n",
    "        dummy_volumes = pd.DataFrame(current_coin_data[\"total_volumes\"], columns = [\"timestamps\", \"volumes\" ])\n",
    "        \n",
    "        dummy_df = dummy_df.join(dummy_marketcaps[\"market_caps\"])\n",
    "        dummy_df = dummy_df.join(dummy_volumes[\"volumes\"])\n",
    "        \n",
    "        dummy_df[\"ID\"] = x\n",
    "        dummy_df[\"date_time\"] = pd.to_datetime(dummy_df['timestamps']/1000, unit='s')\n",
    "        \n",
    "        dummy_df = dummy_df[[\"ID\", \"timestamps\", \"date_time\", \"price\", \"market_caps\", \"volumes\"]]\n",
    "        \n",
    "        result = result.append(dummy_df)\n",
    "        \n",
    "    return result"
   ]
  },
  {
   "cell_type": "code",
   "execution_count": 55,
   "metadata": {
    "scrolled": true
   },
   "outputs": [],
   "source": [
    "price_data = get_price(user_df[\"ID\"])"
   ]
  },
  {
   "cell_type": "code",
   "execution_count": 56,
   "metadata": {},
   "outputs": [
    {
     "name": "stdout",
     "output_type": "stream",
     "text": [
      "<class 'pandas.core.frame.DataFrame'>\n",
      "Int64Index: 6124 entries, 0 to 365\n",
      "Data columns (total 6 columns):\n",
      " #   Column       Non-Null Count  Dtype         \n",
      "---  ------       --------------  -----         \n",
      " 0   ID           6124 non-null   object        \n",
      " 1   timestamps   6124 non-null   object        \n",
      " 2   date_time    6124 non-null   datetime64[ns]\n",
      " 3   price        6124 non-null   float64       \n",
      " 4   market_caps  6124 non-null   float64       \n",
      " 5   volumes      6124 non-null   float64       \n",
      "dtypes: datetime64[ns](1), float64(3), object(2)\n",
      "memory usage: 334.9+ KB\n"
     ]
    }
   ],
   "source": [
    "price_data.info()"
   ]
  },
  {
   "cell_type": "code",
   "execution_count": 57,
   "metadata": {},
   "outputs": [
    {
     "data": {
      "text/plain": [
       "(6124, 6)"
      ]
     },
     "execution_count": 57,
     "metadata": {},
     "output_type": "execute_result"
    }
   ],
   "source": [
    "price_data.shape"
   ]
  },
  {
   "cell_type": "code",
   "execution_count": 58,
   "metadata": {},
   "outputs": [
    {
     "data": {
      "text/plain": [
       "False"
      ]
     },
     "execution_count": 58,
     "metadata": {},
     "output_type": "execute_result"
    }
   ],
   "source": [
    "price_data.isna().any().any()"
   ]
  },
  {
   "cell_type": "code",
   "execution_count": 59,
   "metadata": {},
   "outputs": [
    {
     "data": {
      "text/plain": [
       "0"
      ]
     },
     "execution_count": 59,
     "metadata": {},
     "output_type": "execute_result"
    }
   ],
   "source": [
    "price_data[price_data.duplicated(keep=False)].shape[0]"
   ]
  },
  {
   "cell_type": "code",
   "execution_count": 60,
   "metadata": {
    "scrolled": true
   },
   "outputs": [
    {
     "data": {
      "text/html": [
       "<div>\n",
       "<style scoped>\n",
       "    .dataframe tbody tr th:only-of-type {\n",
       "        vertical-align: middle;\n",
       "    }\n",
       "\n",
       "    .dataframe tbody tr th {\n",
       "        vertical-align: top;\n",
       "    }\n",
       "\n",
       "    .dataframe thead th {\n",
       "        text-align: right;\n",
       "    }\n",
       "</style>\n",
       "<table border=\"1\" class=\"dataframe\">\n",
       "  <thead>\n",
       "    <tr style=\"text-align: right;\">\n",
       "      <th></th>\n",
       "      <th>ID</th>\n",
       "      <th>timestamps</th>\n",
       "      <th>date_time</th>\n",
       "      <th>price</th>\n",
       "      <th>market_caps</th>\n",
       "      <th>volumes</th>\n",
       "    </tr>\n",
       "  </thead>\n",
       "  <tbody>\n",
       "    <tr>\n",
       "      <th>0</th>\n",
       "      <td>ethereum</td>\n",
       "      <td>1640908800000</td>\n",
       "      <td>2021-12-31</td>\n",
       "      <td>3714.945456</td>\n",
       "      <td>4.416544e+11</td>\n",
       "      <td>1.344525e+10</td>\n",
       "    </tr>\n",
       "    <tr>\n",
       "      <th>1</th>\n",
       "      <td>ethereum</td>\n",
       "      <td>1640995200000</td>\n",
       "      <td>2022-01-01</td>\n",
       "      <td>3686.402542</td>\n",
       "      <td>4.397909e+11</td>\n",
       "      <td>1.429838e+10</td>\n",
       "    </tr>\n",
       "    <tr>\n",
       "      <th>2</th>\n",
       "      <td>ethereum</td>\n",
       "      <td>1641081600000</td>\n",
       "      <td>2022-01-02</td>\n",
       "      <td>3780.315874</td>\n",
       "      <td>4.498047e+11</td>\n",
       "      <td>9.948121e+09</td>\n",
       "    </tr>\n",
       "    <tr>\n",
       "      <th>3</th>\n",
       "      <td>ethereum</td>\n",
       "      <td>1641168000000</td>\n",
       "      <td>2022-01-03</td>\n",
       "      <td>3835.395991</td>\n",
       "      <td>4.568524e+11</td>\n",
       "      <td>1.006969e+10</td>\n",
       "    </tr>\n",
       "    <tr>\n",
       "      <th>4</th>\n",
       "      <td>ethereum</td>\n",
       "      <td>1641254400000</td>\n",
       "      <td>2022-01-04</td>\n",
       "      <td>3769.404940</td>\n",
       "      <td>4.486096e+11</td>\n",
       "      <td>1.246287e+10</td>\n",
       "    </tr>\n",
       "  </tbody>\n",
       "</table>\n",
       "</div>"
      ],
      "text/plain": [
       "         ID     timestamps  date_time        price   market_caps       volumes\n",
       "0  ethereum  1640908800000 2021-12-31  3714.945456  4.416544e+11  1.344525e+10\n",
       "1  ethereum  1640995200000 2022-01-01  3686.402542  4.397909e+11  1.429838e+10\n",
       "2  ethereum  1641081600000 2022-01-02  3780.315874  4.498047e+11  9.948121e+09\n",
       "3  ethereum  1641168000000 2022-01-03  3835.395991  4.568524e+11  1.006969e+10\n",
       "4  ethereum  1641254400000 2022-01-04  3769.404940  4.486096e+11  1.246287e+10"
      ]
     },
     "execution_count": 60,
     "metadata": {},
     "output_type": "execute_result"
    }
   ],
   "source": [
    "price_data.head()"
   ]
  },
  {
   "cell_type": "code",
   "execution_count": 62,
   "metadata": {},
   "outputs": [],
   "source": [
    "price_data.to_excel(r\"C:\\Users\\Kutay\\Desktop\\My Docs\\My Docs v2.0\\Data Science\\RA\\Cryptocurrency\\Project\\Data\\price_data.xlsx\")\n",
    "price_data.to_csv(r\"C:\\Users\\Kutay\\Desktop\\My Docs\\My Docs v2.0\\Data Science\\RA\\Cryptocurrency\\Project\\Data\\Input Data\\price_data.csv\");"
   ]
  }
 ],
 "metadata": {
  "kernelspec": {
   "display_name": "Python 3",
   "language": "python",
   "name": "python3"
  },
  "language_info": {
   "codemirror_mode": {
    "name": "ipython",
    "version": 3
   },
   "file_extension": ".py",
   "mimetype": "text/x-python",
   "name": "python",
   "nbconvert_exporter": "python",
   "pygments_lexer": "ipython3",
   "version": "3.8.3"
  }
 },
 "nbformat": 4,
 "nbformat_minor": 4
}
