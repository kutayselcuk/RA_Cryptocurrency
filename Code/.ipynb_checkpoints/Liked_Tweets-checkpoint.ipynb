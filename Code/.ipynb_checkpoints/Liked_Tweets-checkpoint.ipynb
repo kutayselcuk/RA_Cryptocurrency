{
 "cells": [
  {
   "cell_type": "code",
   "execution_count": 1,
   "metadata": {},
   "outputs": [],
   "source": [
    "# Import Libraries\n",
    "import tweepy as tw\n",
    "import configparser\n",
    "import pandas as pd\n",
    "import numpy as np\n",
    "import matplotlib.pyplot as plt\n",
    "import seaborn as sns\n",
    "import sklearn\n",
    "import re\n",
    "import nltk\n",
    "import datetime\n",
    "import pytz\n",
    "from dateutil.relativedelta import relativedelta"
   ]
  },
  {
   "cell_type": "markdown",
   "metadata": {},
   "source": [
    "# Authentication"
   ]
  },
  {
   "cell_type": "code",
   "execution_count": 29,
   "metadata": {},
   "outputs": [],
   "source": [
    "keys = pd.read_csv(r\"C:\\Users\\Kutay\\Desktop\\My Docs\\My Docs v2.0\\Data Science\\RA\\Cryptocurrency\\Input\\TW API Keys\\apikeys.csv\")\n",
    "\n",
    "my_api_key = keys[\"Keys\"][0]\n",
    "my_api_secret = keys[\"Keys\"][1]\n",
    "\n",
    "my_access_token = keys[\"Keys\"][2]\n",
    "my_access_token_secret = keys[\"Keys\"][3]"
   ]
  },
  {
   "cell_type": "code",
   "execution_count": 30,
   "metadata": {},
   "outputs": [],
   "source": [
    "# your Twitter API key ans access token\n",
    "api_key = my_api_key\n",
    "api_secret = my_api_secret\n",
    "\n",
    "access_token = my_access_token\n",
    "access_token_secret = my_access_token_secret"
   ]
  },
  {
   "cell_type": "code",
   "execution_count": 31,
   "metadata": {},
   "outputs": [],
   "source": [
    "# authenticate\n",
    "auth = tw.OAuthHandler(my_api_key, my_api_secret)\n",
    "auth.set_access_token(access_token, access_token_secret)"
   ]
  },
  {
   "cell_type": "code",
   "execution_count": 32,
   "metadata": {},
   "outputs": [],
   "source": [
    "api = tw.API(auth, wait_on_rate_limit=True)"
   ]
  },
  {
   "cell_type": "markdown",
   "metadata": {},
   "source": [
    "## Variables"
   ]
  },
  {
   "cell_type": "markdown",
   "metadata": {},
   "source": [
    "sc_name = \"el33th4xor\""
   ]
  },
  {
   "cell_type": "code",
   "execution_count": 33,
   "metadata": {},
   "outputs": [
    {
     "data": {
      "text/html": [
       "<div>\n",
       "<style scoped>\n",
       "    .dataframe tbody tr th:only-of-type {\n",
       "        vertical-align: middle;\n",
       "    }\n",
       "\n",
       "    .dataframe tbody tr th {\n",
       "        vertical-align: top;\n",
       "    }\n",
       "\n",
       "    .dataframe thead th {\n",
       "        text-align: right;\n",
       "    }\n",
       "</style>\n",
       "<table border=\"1\" class=\"dataframe\">\n",
       "  <thead>\n",
       "    <tr style=\"text-align: right;\">\n",
       "      <th></th>\n",
       "      <th>Coin</th>\n",
       "      <th>ID</th>\n",
       "      <th>Owner/Influence</th>\n",
       "      <th>Name</th>\n",
       "      <th>Screen_name</th>\n",
       "      <th>Status</th>\n",
       "      <th>Why did I choose this person?</th>\n",
       "    </tr>\n",
       "  </thead>\n",
       "  <tbody>\n",
       "    <tr>\n",
       "      <th>0</th>\n",
       "      <td>Ethereum</td>\n",
       "      <td>ethereum</td>\n",
       "      <td>Vitalik Buterin</td>\n",
       "      <td>vitalik.eth</td>\n",
       "      <td>VitalikButerin</td>\n",
       "      <td>co-founder</td>\n",
       "      <td>he is also known in crypto world</td>\n",
       "    </tr>\n",
       "    <tr>\n",
       "      <th>1</th>\n",
       "      <td>BNB</td>\n",
       "      <td>binancecoin</td>\n",
       "      <td>Changpeng Zhao</td>\n",
       "      <td>CZ ??Binance</td>\n",
       "      <td>cz_binance</td>\n",
       "      <td>CEO</td>\n",
       "      <td>NaN</td>\n",
       "    </tr>\n",
       "    <tr>\n",
       "      <th>2</th>\n",
       "      <td>XRP</td>\n",
       "      <td>ripple</td>\n",
       "      <td>Brad Garlinghouse</td>\n",
       "      <td>Brad Garlinghouse</td>\n",
       "      <td>bgarlinghouse</td>\n",
       "      <td>CEO</td>\n",
       "      <td>NaN</td>\n",
       "    </tr>\n",
       "    <tr>\n",
       "      <th>3</th>\n",
       "      <td>ADA(Cardano)</td>\n",
       "      <td>cardano</td>\n",
       "      <td>Charles Hoskinson</td>\n",
       "      <td>Charles Hoskinson</td>\n",
       "      <td>IOHK_Charles</td>\n",
       "      <td>CEO/co-founder</td>\n",
       "      <td>NaN</td>\n",
       "    </tr>\n",
       "    <tr>\n",
       "      <th>4</th>\n",
       "      <td>DOGE</td>\n",
       "      <td>dogecoin</td>\n",
       "      <td>Elon Musk</td>\n",
       "      <td>Elon Musk</td>\n",
       "      <td>elonmusk</td>\n",
       "      <td>influencer</td>\n",
       "      <td>as a popular figure, highly interested in this...</td>\n",
       "    </tr>\n",
       "    <tr>\n",
       "      <th>5</th>\n",
       "      <td>MATIC(Polygon)</td>\n",
       "      <td>matic-network</td>\n",
       "      <td>Sandeep Nailwal</td>\n",
       "      <td>Sandeep | Polygon ????3??</td>\n",
       "      <td>sandeepnailwal</td>\n",
       "      <td>co-founder</td>\n",
       "      <td>he seems more active than other co-founders</td>\n",
       "    </tr>\n",
       "    <tr>\n",
       "      <th>6</th>\n",
       "      <td>DOT(Polkadot)</td>\n",
       "      <td>polkadot</td>\n",
       "      <td>WEB3 Foundation</td>\n",
       "      <td>Web3 Foundation</td>\n",
       "      <td>Web3foundation</td>\n",
       "      <td>foundation</td>\n",
       "      <td>there is no account of CEO or sth</td>\n",
       "    </tr>\n",
       "    <tr>\n",
       "      <th>7</th>\n",
       "      <td>HEX</td>\n",
       "      <td>hex</td>\n",
       "      <td>Richard Heart</td>\n",
       "      <td>Richard Heart</td>\n",
       "      <td>RichardHeartWin</td>\n",
       "      <td>CEO</td>\n",
       "      <td>NaN</td>\n",
       "    </tr>\n",
       "    <tr>\n",
       "      <th>8</th>\n",
       "      <td>WTRX</td>\n",
       "      <td>wrapped-tron</td>\n",
       "      <td>Justin Sun</td>\n",
       "      <td>H.E. Justin Sun</td>\n",
       "      <td>justinsuntron</td>\n",
       "      <td>founder</td>\n",
       "      <td>same with TRX!</td>\n",
       "    </tr>\n",
       "    <tr>\n",
       "      <th>9</th>\n",
       "      <td>SHIB</td>\n",
       "      <td>shiba-inu</td>\n",
       "      <td>Elon Musk</td>\n",
       "      <td>Elon Musk</td>\n",
       "      <td>elonmusk</td>\n",
       "      <td>influencer</td>\n",
       "      <td>as a popular figure, highly interested in this...</td>\n",
       "    </tr>\n",
       "    <tr>\n",
       "      <th>10</th>\n",
       "      <td>SOL</td>\n",
       "      <td>solana</td>\n",
       "      <td>Solana</td>\n",
       "      <td>Solana</td>\n",
       "      <td>solana</td>\n",
       "      <td>company</td>\n",
       "      <td>there is no account of CEO or sth</td>\n",
       "    </tr>\n",
       "    <tr>\n",
       "      <th>11</th>\n",
       "      <td>TRX</td>\n",
       "      <td>tron</td>\n",
       "      <td>Justin Sun</td>\n",
       "      <td>H.E. Justin Sun</td>\n",
       "      <td>justinsuntron</td>\n",
       "      <td>founder</td>\n",
       "      <td>same with WTRX!</td>\n",
       "    </tr>\n",
       "    <tr>\n",
       "      <th>12</th>\n",
       "      <td>UNI</td>\n",
       "      <td>uniswap</td>\n",
       "      <td>Uniswap</td>\n",
       "      <td>Uniswap Labs ??</td>\n",
       "      <td>Uniswap</td>\n",
       "      <td>company</td>\n",
       "      <td>there is no account of CEO or sth</td>\n",
       "    </tr>\n",
       "    <tr>\n",
       "      <th>13</th>\n",
       "      <td>LTC</td>\n",
       "      <td>litecoin</td>\n",
       "      <td>Charlie Lee</td>\n",
       "      <td>Charlie Lee ?????</td>\n",
       "      <td>SatoshiLite</td>\n",
       "      <td>founder</td>\n",
       "      <td>NaN</td>\n",
       "    </tr>\n",
       "    <tr>\n",
       "      <th>14</th>\n",
       "      <td>AVAX</td>\n",
       "      <td>avalanche-2</td>\n",
       "      <td>Emin Gün Sirer</td>\n",
       "      <td>Emin Gün Sirer??</td>\n",
       "      <td>el33th4xor</td>\n",
       "      <td>CEO</td>\n",
       "      <td>NaN</td>\n",
       "    </tr>\n",
       "    <tr>\n",
       "      <th>15</th>\n",
       "      <td>LINK</td>\n",
       "      <td>chainlink</td>\n",
       "      <td>Sergey Nazarov</td>\n",
       "      <td>Sergey Nazarov</td>\n",
       "      <td>SergeyNazarov</td>\n",
       "      <td>founder</td>\n",
       "      <td>NaN</td>\n",
       "    </tr>\n",
       "    <tr>\n",
       "      <th>16</th>\n",
       "      <td>ATOM</td>\n",
       "      <td>cosmos</td>\n",
       "      <td>Ethan Buchman</td>\n",
       "      <td>Ethan Buchman</td>\n",
       "      <td>buchmanster</td>\n",
       "      <td>co-founder</td>\n",
       "      <td>NaN</td>\n",
       "    </tr>\n",
       "  </tbody>\n",
       "</table>\n",
       "</div>"
      ],
      "text/plain": [
       "              Coin             ID    Owner/Influence  \\\n",
       "0         Ethereum       ethereum    Vitalik Buterin   \n",
       "1              BNB    binancecoin     Changpeng Zhao   \n",
       "2              XRP         ripple  Brad Garlinghouse   \n",
       "3     ADA(Cardano)        cardano  Charles Hoskinson   \n",
       "4             DOGE       dogecoin          Elon Musk   \n",
       "5   MATIC(Polygon)  matic-network    Sandeep Nailwal   \n",
       "6    DOT(Polkadot)       polkadot    WEB3 Foundation   \n",
       "7              HEX            hex      Richard Heart   \n",
       "8             WTRX   wrapped-tron         Justin Sun   \n",
       "9             SHIB      shiba-inu          Elon Musk   \n",
       "10             SOL         solana             Solana   \n",
       "11             TRX           tron         Justin Sun   \n",
       "12             UNI        uniswap            Uniswap   \n",
       "13             LTC       litecoin        Charlie Lee   \n",
       "14            AVAX    avalanche-2     Emin Gün Sirer   \n",
       "15            LINK      chainlink     Sergey Nazarov   \n",
       "16            ATOM         cosmos      Ethan Buchman   \n",
       "\n",
       "                         Name      Screen_name          Status  \\\n",
       "0                 vitalik.eth   VitalikButerin      co-founder   \n",
       "1                CZ ??Binance       cz_binance             CEO   \n",
       "2           Brad Garlinghouse    bgarlinghouse             CEO   \n",
       "3           Charles Hoskinson     IOHK_Charles  CEO/co-founder   \n",
       "4                   Elon Musk         elonmusk      influencer   \n",
       "5   Sandeep | Polygon ????3??   sandeepnailwal      co-founder   \n",
       "6             Web3 Foundation   Web3foundation      foundation   \n",
       "7               Richard Heart  RichardHeartWin             CEO   \n",
       "8             H.E. Justin Sun    justinsuntron         founder   \n",
       "9                   Elon Musk         elonmusk      influencer   \n",
       "10                     Solana           solana         company   \n",
       "11            H.E. Justin Sun    justinsuntron         founder   \n",
       "12            Uniswap Labs ??          Uniswap         company   \n",
       "13          Charlie Lee ?????      SatoshiLite         founder   \n",
       "14           Emin Gün Sirer??       el33th4xor             CEO   \n",
       "15             Sergey Nazarov    SergeyNazarov         founder   \n",
       "16              Ethan Buchman      buchmanster      co-founder   \n",
       "\n",
       "                        Why did I choose this person?  \n",
       "0                    he is also known in crypto world  \n",
       "1                                                 NaN  \n",
       "2                                                 NaN  \n",
       "3                                                 NaN  \n",
       "4   as a popular figure, highly interested in this...  \n",
       "5         he seems more active than other co-founders  \n",
       "6                  there is no account of CEO or sth   \n",
       "7                                                 NaN  \n",
       "8                                      same with TRX!  \n",
       "9   as a popular figure, highly interested in this...  \n",
       "10                 there is no account of CEO or sth   \n",
       "11                                    same with WTRX!  \n",
       "12                 there is no account of CEO or sth   \n",
       "13                                                NaN  \n",
       "14                                                NaN  \n",
       "15                                                NaN  \n",
       "16                                                NaN  "
      ]
     },
     "execution_count": 33,
     "metadata": {},
     "output_type": "execute_result"
    }
   ],
   "source": [
    "user_df = pd.read_csv(r\"C:\\Users\\Kutay\\Desktop\\My Docs\\My Docs v2.0\\Data Science\\RA\\Cryptocurrency\\Input/Top 20 Cryptocurrencies and Related TW Accounts.csv\", encoding= 'unicode_escape')\n",
    "user_df"
   ]
  },
  {
   "cell_type": "code",
   "execution_count": 34,
   "metadata": {},
   "outputs": [],
   "source": [
    "endDate = datetime.datetime.now()\n",
    "startDate = endDate - relativedelta(days = 3) #days, months, years can be used to calculate\n",
    "\n",
    "utc=pytz.UTC\n",
    "\n",
    "startDate = utc.localize(startDate) \n",
    "endDate = utc.localize(endDate)"
   ]
  },
  {
   "cell_type": "code",
   "execution_count": 35,
   "metadata": {},
   "outputs": [],
   "source": [
    "limit = 200"
   ]
  },
  {
   "cell_type": "markdown",
   "metadata": {},
   "source": [
    "# Getting Liked Tweets"
   ]
  },
  {
   "cell_type": "code",
   "execution_count": 36,
   "metadata": {},
   "outputs": [],
   "source": [
    "def get_liked_tweets(sc_name):\n",
    "    \n",
    "    liked_tweets = []\n",
    "    get_liked_tweets = api.get_favorites(screen_name = sc_name)\n",
    "    for tweet in get_liked_tweets:\n",
    "        if tweet.created_at < endDate and tweet.created_at > startDate:\n",
    "            liked_tweets.append(tweet)\n",
    "\n",
    "\n",
    "    while (get_liked_tweets[-1].created_at > startDate):\n",
    "        get_liked_tweets = api.get_favorites(screen_name = sc_name, max_id = get_liked_tweets[-1].id)\n",
    "        for tweet in get_liked_tweets:\n",
    "            if tweet.created_at < endDate and tweet.created_at > startDate:\n",
    "                liked_tweets.append(tweet)\n",
    "    return liked_tweets"
   ]
  },
  {
   "cell_type": "code",
   "execution_count": 37,
   "metadata": {},
   "outputs": [],
   "source": [
    "columns = [\"Tweet_id\", \"Name\", \"Screen_name\", \"Tweet\", \"Date\", \"Category\", \"N_of_RT\", \"N_of_fav\"]"
   ]
  },
  {
   "cell_type": "code",
   "execution_count": 38,
   "metadata": {},
   "outputs": [],
   "source": [
    "def categorize_liked_tweets(liked_tweets):\n",
    "\n",
    "    data = []\n",
    "    term_rt = \"RT\"\n",
    "    for tweet in liked_tweets:\n",
    "\n",
    "        #for consecutive tweets, next one is shown primaryly in data frame, I can check with using hours and minutes if necessary\n",
    "        date = tweet.created_at\n",
    "        date = date.strftime('%Y-%m-%d')\n",
    "\n",
    "        #retweet and favorite counts\n",
    "        number_of_retweet = tweet.retweet_count\n",
    "        number_of_favorite = tweet.favorite_count\n",
    "\n",
    "\n",
    "        #it's gonna be direct tweet if all the checks below fail\n",
    "        category_specified = \"direct\"\n",
    "\n",
    "        #retweet check\n",
    "        if term_rt in tweet.text.split():\n",
    "\n",
    "            category_specified = \"retweet\"\n",
    "\n",
    "        #quote(rt with comment) check\n",
    "        elif tweet.is_quote_status is True:\n",
    "            category_specified = \"quote\"\n",
    "\n",
    "        #reply check\n",
    "        elif tweet.in_reply_to_status_id is not None:\n",
    "            category_specified = \"reply\"\n",
    "\n",
    "        data.append([tweet.id, tweet.user.name, tweet.user.screen_name, tweet.text, date, category_specified, number_of_retweet, number_of_favorite])\n",
    "    \n",
    "    df_met = pd.DataFrame(data, columns = columns)\n",
    "    return df_met "
   ]
  },
  {
   "cell_type": "code",
   "execution_count": 39,
   "metadata": {},
   "outputs": [],
   "source": [
    "df = pd.DataFrame(columns = columns)\n",
    "for x in user_df.Screen_name:\n",
    "    \n",
    "    taken_liked_tweets = get_liked_tweets(x)\n",
    "    df_met_2 = categorize_liked_tweets(taken_liked_tweets)\n",
    "    df = df.append(df_met_2)"
   ]
  },
  {
   "cell_type": "code",
   "execution_count": 40,
   "metadata": {},
   "outputs": [],
   "source": [
    "df.drop_duplicates(inplace = True)\n",
    "df.reset_index(inplace = True, drop = True)"
   ]
  },
  {
   "cell_type": "code",
   "execution_count": 41,
   "metadata": {},
   "outputs": [
    {
     "data": {
      "text/plain": [
       "(503, 8)"
      ]
     },
     "execution_count": 41,
     "metadata": {},
     "output_type": "execute_result"
    }
   ],
   "source": [
    "df.shape"
   ]
  },
  {
   "cell_type": "code",
   "execution_count": 42,
   "metadata": {},
   "outputs": [
    {
     "data": {
      "text/plain": [
       "False"
      ]
     },
     "execution_count": 42,
     "metadata": {},
     "output_type": "execute_result"
    }
   ],
   "source": [
    "#null check --> if it is \"False\", we all ok\n",
    "df.isna().any().any()"
   ]
  },
  {
   "cell_type": "code",
   "execution_count": 43,
   "metadata": {},
   "outputs": [
    {
     "name": "stdout",
     "output_type": "stream",
     "text": [
      "<class 'pandas.core.frame.DataFrame'>\n",
      "RangeIndex: 503 entries, 0 to 502\n",
      "Data columns (total 8 columns):\n",
      " #   Column       Non-Null Count  Dtype \n",
      "---  ------       --------------  ----- \n",
      " 0   Tweet_id     503 non-null    object\n",
      " 1   Name         503 non-null    object\n",
      " 2   Screen_name  503 non-null    object\n",
      " 3   Tweet        503 non-null    object\n",
      " 4   Date         503 non-null    object\n",
      " 5   Category     503 non-null    object\n",
      " 6   N_of_RT      503 non-null    object\n",
      " 7   N_of_fav     503 non-null    object\n",
      "dtypes: object(8)\n",
      "memory usage: 31.6+ KB\n"
     ]
    }
   ],
   "source": [
    "df.info()"
   ]
  },
  {
   "cell_type": "code",
   "execution_count": 44,
   "metadata": {},
   "outputs": [
    {
     "data": {
      "text/plain": [
       "0"
      ]
     },
     "execution_count": 44,
     "metadata": {},
     "output_type": "execute_result"
    }
   ],
   "source": [
    "#duplication check\n",
    "df[df.duplicated(keep=False)].shape[0]"
   ]
  },
  {
   "cell_type": "code",
   "execution_count": 45,
   "metadata": {},
   "outputs": [
    {
     "data": {
      "text/html": [
       "<div>\n",
       "<style scoped>\n",
       "    .dataframe tbody tr th:only-of-type {\n",
       "        vertical-align: middle;\n",
       "    }\n",
       "\n",
       "    .dataframe tbody tr th {\n",
       "        vertical-align: top;\n",
       "    }\n",
       "\n",
       "    .dataframe thead th {\n",
       "        text-align: right;\n",
       "    }\n",
       "</style>\n",
       "<table border=\"1\" class=\"dataframe\">\n",
       "  <thead>\n",
       "    <tr style=\"text-align: right;\">\n",
       "      <th></th>\n",
       "      <th>Tweet_id</th>\n",
       "      <th>Name</th>\n",
       "      <th>Screen_name</th>\n",
       "      <th>Tweet</th>\n",
       "      <th>Date</th>\n",
       "      <th>Category</th>\n",
       "      <th>N_of_RT</th>\n",
       "      <th>N_of_fav</th>\n",
       "    </tr>\n",
       "  </thead>\n",
       "  <tbody>\n",
       "    <tr>\n",
       "      <th>0</th>\n",
       "      <td>1603434498460307461</td>\n",
       "      <td>Bryan Caplan</td>\n",
       "      <td>bryan_caplan</td>\n",
       "      <td>\"You seem much more worried about Swedes losin...</td>\n",
       "      <td>2022-12-15</td>\n",
       "      <td>direct</td>\n",
       "      <td>0</td>\n",
       "      <td>22</td>\n",
       "    </tr>\n",
       "    <tr>\n",
       "      <th>1</th>\n",
       "      <td>1603430930315550728</td>\n",
       "      <td>S.J.F.</td>\n",
       "      <td>S_J_Foelsing</td>\n",
       "      <td>@XiXiDu @robinhanson No system of governance h...</td>\n",
       "      <td>2022-12-15</td>\n",
       "      <td>reply</td>\n",
       "      <td>0</td>\n",
       "      <td>2</td>\n",
       "    </tr>\n",
       "    <tr>\n",
       "      <th>2</th>\n",
       "      <td>1603405631385468930</td>\n",
       "      <td>S.J.F.</td>\n",
       "      <td>S_J_Foelsing</td>\n",
       "      <td>@robinhanson stable governance</td>\n",
       "      <td>2022-12-15</td>\n",
       "      <td>reply</td>\n",
       "      <td>0</td>\n",
       "      <td>6</td>\n",
       "    </tr>\n",
       "    <tr>\n",
       "      <th>3</th>\n",
       "      <td>1603364102595829762</td>\n",
       "      <td>Alex Godofsky</td>\n",
       "      <td>AlexGodofsky</td>\n",
       "      <td>This is a very common left-wing argument but s...</td>\n",
       "      <td>2022-12-15</td>\n",
       "      <td>direct</td>\n",
       "      <td>7</td>\n",
       "      <td>194</td>\n",
       "    </tr>\n",
       "    <tr>\n",
       "      <th>4</th>\n",
       "      <td>1603153716500013056</td>\n",
       "      <td>suzuha ⚡🌙</td>\n",
       "      <td>dystopiabreaker</td>\n",
       "      <td>@VitalikButerin note that the recovery mechani...</td>\n",
       "      <td>2022-12-14</td>\n",
       "      <td>reply</td>\n",
       "      <td>1</td>\n",
       "      <td>51</td>\n",
       "    </tr>\n",
       "  </tbody>\n",
       "</table>\n",
       "</div>"
      ],
      "text/plain": [
       "              Tweet_id           Name      Screen_name  \\\n",
       "0  1603434498460307461   Bryan Caplan     bryan_caplan   \n",
       "1  1603430930315550728         S.J.F.     S_J_Foelsing   \n",
       "2  1603405631385468930         S.J.F.     S_J_Foelsing   \n",
       "3  1603364102595829762  Alex Godofsky     AlexGodofsky   \n",
       "4  1603153716500013056      suzuha ⚡🌙  dystopiabreaker   \n",
       "\n",
       "                                               Tweet        Date Category  \\\n",
       "0  \"You seem much more worried about Swedes losin...  2022-12-15   direct   \n",
       "1  @XiXiDu @robinhanson No system of governance h...  2022-12-15    reply   \n",
       "2                     @robinhanson stable governance  2022-12-15    reply   \n",
       "3  This is a very common left-wing argument but s...  2022-12-15   direct   \n",
       "4  @VitalikButerin note that the recovery mechani...  2022-12-14    reply   \n",
       "\n",
       "  N_of_RT N_of_fav  \n",
       "0       0       22  \n",
       "1       0        2  \n",
       "2       0        6  \n",
       "3       7      194  \n",
       "4       1       51  "
      ]
     },
     "execution_count": 45,
     "metadata": {},
     "output_type": "execute_result"
    }
   ],
   "source": [
    "pd.set_option(\"max_rows\", None)\n",
    "df.to_excel(r\"C:\\Users\\Kutay\\Desktop\\My Docs\\My Docs v2.0\\Data Science\\RA\\Cryptocurrency\\RA_Cryptocurrency\\Data\\liked_tweets.xlsx\")\n",
    "df.head()"
   ]
  },
  {
   "cell_type": "code",
   "execution_count": null,
   "metadata": {},
   "outputs": [],
   "source": []
  }
 ],
 "metadata": {
  "kernelspec": {
   "display_name": "Python 3",
   "language": "python",
   "name": "python3"
  },
  "language_info": {
   "codemirror_mode": {
    "name": "ipython",
    "version": 3
   },
   "file_extension": ".py",
   "mimetype": "text/x-python",
   "name": "python",
   "nbconvert_exporter": "python",
   "pygments_lexer": "ipython3",
   "version": "3.8.3"
  }
 },
 "nbformat": 4,
 "nbformat_minor": 4
}
