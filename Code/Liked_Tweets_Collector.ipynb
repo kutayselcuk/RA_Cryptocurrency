{
 "cells": [
  {
   "cell_type": "code",
   "execution_count": 1,
   "metadata": {},
   "outputs": [],
   "source": [
    "# Import Libraries\n",
    "import tweepy as tw\n",
    "import pandas as pd\n",
    "import numpy as np\n",
    "import datetime\n",
    "import pytz\n",
    "from dateutil.relativedelta import relativedelta\n",
    "import time"
   ]
  },
  {
   "cell_type": "markdown",
   "metadata": {},
   "source": [
    "# Authentication"
   ]
  },
  {
   "cell_type": "code",
   "execution_count": 2,
   "metadata": {},
   "outputs": [],
   "source": [
    "keys = pd.read_csv(r\"C:\\Users\\Kutay\\Desktop\\My Docs\\My Docs v2.0\\Data Science\\RA\\Cryptocurrency\\Input\\TW API Keys\\API_3\\apikeys_3.csv\")\n",
    "\n",
    "my_api_key = keys[\"Keys\"][0]\n",
    "my_api_secret = keys[\"Keys\"][1]\n",
    "\n",
    "my_access_token = keys[\"Keys\"][2]\n",
    "my_access_token_secret = keys[\"Keys\"][3]"
   ]
  },
  {
   "cell_type": "code",
   "execution_count": 3,
   "metadata": {},
   "outputs": [],
   "source": [
    "# your Twitter API key ans access token\n",
    "api_key = my_api_key\n",
    "api_secret = my_api_secret\n",
    "\n",
    "access_token = my_access_token\n",
    "access_token_secret = my_access_token_secret"
   ]
  },
  {
   "cell_type": "code",
   "execution_count": 4,
   "metadata": {},
   "outputs": [],
   "source": [
    "# authenticate\n",
    "auth = tw.OAuthHandler(my_api_key, my_api_secret)\n",
    "auth.set_access_token(access_token, access_token_secret)"
   ]
  },
  {
   "cell_type": "code",
   "execution_count": 5,
   "metadata": {},
   "outputs": [],
   "source": [
    "api = tw.API(auth, wait_on_rate_limit = True)"
   ]
  },
  {
   "cell_type": "markdown",
   "metadata": {},
   "source": [
    "## Variables"
   ]
  },
  {
   "cell_type": "markdown",
   "metadata": {},
   "source": [
    "sc_name = \"el33th4xor\""
   ]
  },
  {
   "cell_type": "code",
   "execution_count": 6,
   "metadata": {},
   "outputs": [
    {
     "data": {
      "text/html": [
       "<div>\n",
       "<style scoped>\n",
       "    .dataframe tbody tr th:only-of-type {\n",
       "        vertical-align: middle;\n",
       "    }\n",
       "\n",
       "    .dataframe tbody tr th {\n",
       "        vertical-align: top;\n",
       "    }\n",
       "\n",
       "    .dataframe thead th {\n",
       "        text-align: right;\n",
       "    }\n",
       "</style>\n",
       "<table border=\"1\" class=\"dataframe\">\n",
       "  <thead>\n",
       "    <tr style=\"text-align: right;\">\n",
       "      <th></th>\n",
       "      <th>Coin</th>\n",
       "      <th>ID</th>\n",
       "      <th>Owner/Influence</th>\n",
       "      <th>Name</th>\n",
       "      <th>Screen_name</th>\n",
       "      <th>Status</th>\n",
       "      <th>Why did I choose this person?</th>\n",
       "    </tr>\n",
       "  </thead>\n",
       "  <tbody>\n",
       "    <tr>\n",
       "      <th>0</th>\n",
       "      <td>Ethereum</td>\n",
       "      <td>ethereum</td>\n",
       "      <td>Vitalik Buterin</td>\n",
       "      <td>vitalik.eth</td>\n",
       "      <td>VitalikButerin</td>\n",
       "      <td>co-founder</td>\n",
       "      <td>he is also known in crypto world</td>\n",
       "    </tr>\n",
       "    <tr>\n",
       "      <th>1</th>\n",
       "      <td>BNB</td>\n",
       "      <td>binancecoin</td>\n",
       "      <td>Changpeng Zhao</td>\n",
       "      <td>CZ ??Binance</td>\n",
       "      <td>cz_binance</td>\n",
       "      <td>CEO</td>\n",
       "      <td>NaN</td>\n",
       "    </tr>\n",
       "    <tr>\n",
       "      <th>2</th>\n",
       "      <td>XRP</td>\n",
       "      <td>ripple</td>\n",
       "      <td>Brad Garlinghouse</td>\n",
       "      <td>Brad Garlinghouse</td>\n",
       "      <td>bgarlinghouse</td>\n",
       "      <td>CEO</td>\n",
       "      <td>NaN</td>\n",
       "    </tr>\n",
       "    <tr>\n",
       "      <th>3</th>\n",
       "      <td>ADA(Cardano)</td>\n",
       "      <td>cardano</td>\n",
       "      <td>Charles Hoskinson</td>\n",
       "      <td>Charles Hoskinson</td>\n",
       "      <td>IOHK_Charles</td>\n",
       "      <td>CEO/co-founder</td>\n",
       "      <td>NaN</td>\n",
       "    </tr>\n",
       "    <tr>\n",
       "      <th>4</th>\n",
       "      <td>DOGE</td>\n",
       "      <td>dogecoin</td>\n",
       "      <td>Elon Musk_doge</td>\n",
       "      <td>Elon Musk</td>\n",
       "      <td>elonmusk</td>\n",
       "      <td>influencer</td>\n",
       "      <td>as a popular figure, highly interested in this...</td>\n",
       "    </tr>\n",
       "    <tr>\n",
       "      <th>5</th>\n",
       "      <td>MATIC(Polygon)</td>\n",
       "      <td>matic-network</td>\n",
       "      <td>Sandeep Nailwal</td>\n",
       "      <td>Sandeep | Polygon ????3??</td>\n",
       "      <td>sandeepnailwal</td>\n",
       "      <td>co-founder</td>\n",
       "      <td>he seems more active than other co-founders</td>\n",
       "    </tr>\n",
       "    <tr>\n",
       "      <th>6</th>\n",
       "      <td>DOT(Polkadot)</td>\n",
       "      <td>polkadot</td>\n",
       "      <td>WEB3 Foundation</td>\n",
       "      <td>Web3 Foundation</td>\n",
       "      <td>Web3foundation</td>\n",
       "      <td>foundation</td>\n",
       "      <td>there is no account of CEO or sth</td>\n",
       "    </tr>\n",
       "    <tr>\n",
       "      <th>7</th>\n",
       "      <td>HEX</td>\n",
       "      <td>hex</td>\n",
       "      <td>Richard Heart</td>\n",
       "      <td>Richard Heart</td>\n",
       "      <td>RichardHeartWin</td>\n",
       "      <td>CEO</td>\n",
       "      <td>NaN</td>\n",
       "    </tr>\n",
       "    <tr>\n",
       "      <th>8</th>\n",
       "      <td>SOL</td>\n",
       "      <td>solana</td>\n",
       "      <td>Solana</td>\n",
       "      <td>Solana</td>\n",
       "      <td>solana</td>\n",
       "      <td>company</td>\n",
       "      <td>there is no account of CEO or sth</td>\n",
       "    </tr>\n",
       "    <tr>\n",
       "      <th>9</th>\n",
       "      <td>TRX</td>\n",
       "      <td>tron</td>\n",
       "      <td>Justin Sun</td>\n",
       "      <td>H.E. Justin Sun</td>\n",
       "      <td>justinsuntron</td>\n",
       "      <td>founder</td>\n",
       "      <td>same with WTRX!</td>\n",
       "    </tr>\n",
       "    <tr>\n",
       "      <th>10</th>\n",
       "      <td>UNI</td>\n",
       "      <td>uniswap</td>\n",
       "      <td>Uniswap</td>\n",
       "      <td>Uniswap Labs ??</td>\n",
       "      <td>Uniswap</td>\n",
       "      <td>company</td>\n",
       "      <td>there is no account of CEO or sth</td>\n",
       "    </tr>\n",
       "    <tr>\n",
       "      <th>11</th>\n",
       "      <td>LTC</td>\n",
       "      <td>litecoin</td>\n",
       "      <td>Charlie Lee</td>\n",
       "      <td>Charlie Lee ?????</td>\n",
       "      <td>SatoshiLite</td>\n",
       "      <td>founder</td>\n",
       "      <td>NaN</td>\n",
       "    </tr>\n",
       "    <tr>\n",
       "      <th>12</th>\n",
       "      <td>AVAX</td>\n",
       "      <td>avalanche-2</td>\n",
       "      <td>Emin Gün Sirer</td>\n",
       "      <td>Emin Gün Sirer??</td>\n",
       "      <td>el33th4xor</td>\n",
       "      <td>CEO</td>\n",
       "      <td>NaN</td>\n",
       "    </tr>\n",
       "    <tr>\n",
       "      <th>13</th>\n",
       "      <td>LINK</td>\n",
       "      <td>chainlink</td>\n",
       "      <td>Sergey Nazarov</td>\n",
       "      <td>Sergey Nazarov</td>\n",
       "      <td>SergeyNazarov</td>\n",
       "      <td>founder</td>\n",
       "      <td>NaN</td>\n",
       "    </tr>\n",
       "    <tr>\n",
       "      <th>14</th>\n",
       "      <td>ATOM</td>\n",
       "      <td>cosmos</td>\n",
       "      <td>Ethan Buchman</td>\n",
       "      <td>Ethan Buchman</td>\n",
       "      <td>buchmanster</td>\n",
       "      <td>co-founder</td>\n",
       "      <td>NaN</td>\n",
       "    </tr>\n",
       "  </tbody>\n",
       "</table>\n",
       "</div>"
      ],
      "text/plain": [
       "              Coin             ID    Owner/Influence  \\\n",
       "0         Ethereum       ethereum    Vitalik Buterin   \n",
       "1              BNB    binancecoin     Changpeng Zhao   \n",
       "2              XRP         ripple  Brad Garlinghouse   \n",
       "3     ADA(Cardano)        cardano  Charles Hoskinson   \n",
       "4             DOGE       dogecoin     Elon Musk_doge   \n",
       "5   MATIC(Polygon)  matic-network    Sandeep Nailwal   \n",
       "6    DOT(Polkadot)       polkadot    WEB3 Foundation   \n",
       "7              HEX            hex      Richard Heart   \n",
       "8              SOL         solana             Solana   \n",
       "9              TRX           tron         Justin Sun   \n",
       "10             UNI        uniswap            Uniswap   \n",
       "11             LTC       litecoin        Charlie Lee   \n",
       "12            AVAX    avalanche-2     Emin Gün Sirer   \n",
       "13            LINK      chainlink     Sergey Nazarov   \n",
       "14            ATOM         cosmos      Ethan Buchman   \n",
       "\n",
       "                         Name      Screen_name          Status  \\\n",
       "0                 vitalik.eth   VitalikButerin      co-founder   \n",
       "1                CZ ??Binance       cz_binance             CEO   \n",
       "2           Brad Garlinghouse    bgarlinghouse             CEO   \n",
       "3           Charles Hoskinson     IOHK_Charles  CEO/co-founder   \n",
       "4                   Elon Musk         elonmusk      influencer   \n",
       "5   Sandeep | Polygon ????3??   sandeepnailwal      co-founder   \n",
       "6             Web3 Foundation   Web3foundation      foundation   \n",
       "7               Richard Heart  RichardHeartWin             CEO   \n",
       "8                      Solana           solana         company   \n",
       "9             H.E. Justin Sun    justinsuntron         founder   \n",
       "10            Uniswap Labs ??          Uniswap         company   \n",
       "11          Charlie Lee ?????      SatoshiLite         founder   \n",
       "12           Emin Gün Sirer??       el33th4xor             CEO   \n",
       "13             Sergey Nazarov    SergeyNazarov         founder   \n",
       "14              Ethan Buchman      buchmanster      co-founder   \n",
       "\n",
       "                        Why did I choose this person?  \n",
       "0                    he is also known in crypto world  \n",
       "1                                                 NaN  \n",
       "2                                                 NaN  \n",
       "3                                                 NaN  \n",
       "4   as a popular figure, highly interested in this...  \n",
       "5         he seems more active than other co-founders  \n",
       "6                  there is no account of CEO or sth   \n",
       "7                                                 NaN  \n",
       "8                  there is no account of CEO or sth   \n",
       "9                                     same with WTRX!  \n",
       "10                 there is no account of CEO or sth   \n",
       "11                                                NaN  \n",
       "12                                                NaN  \n",
       "13                                                NaN  \n",
       "14                                                NaN  "
      ]
     },
     "execution_count": 6,
     "metadata": {},
     "output_type": "execute_result"
    }
   ],
   "source": [
    "user_df = pd.read_csv(r\"C:\\Users\\Kutay\\Desktop\\My Docs\\My Docs v2.0\\Data Science\\RA\\Cryptocurrency\\Input\\Top 20 Cryptocurrencies and Related TW Accounts_reduced.csv\", encoding= 'unicode_escape')\n",
    "user_df"
   ]
  },
  {
   "cell_type": "markdown",
   "metadata": {},
   "source": [
    "# Date and Limit"
   ]
  },
  {
   "cell_type": "code",
   "execution_count": 7,
   "metadata": {},
   "outputs": [],
   "source": [
    "#datetime format -> (year, month, day, hour, minute, second)\n",
    "endDate = datetime.datetime.now()\n",
    "startDate = endDate - relativedelta(years = 2)\n",
    "#endDate = datetime.datetime.now()\n",
    "#startDate = endDate - relativedelta(days = 1) #days, months, years can be used to calculate\n",
    "\n",
    "utc=pytz.UTC\n",
    "\n",
    "startDate = utc.localize(startDate) \n",
    "endDate = utc.localize(endDate)"
   ]
  },
  {
   "cell_type": "code",
   "execution_count": 8,
   "metadata": {},
   "outputs": [],
   "source": [
    "limit = 200"
   ]
  },
  {
   "cell_type": "markdown",
   "metadata": {},
   "source": [
    "# Getting Liked Tweets"
   ]
  },
  {
   "cell_type": "code",
   "execution_count": 9,
   "metadata": {},
   "outputs": [],
   "source": [
    "def get_liked_tweets(sc_name):\n",
    "    \n",
    "    liked_tweets = []\n",
    "    get_liked_tweets = api.get_favorites(screen_name = sc_name)\n",
    "    for tweet in get_liked_tweets:\n",
    "        if tweet.created_at < endDate and tweet.created_at > startDate:\n",
    "            liked_tweets.append(tweet)\n",
    "\n",
    "\n",
    "    while (get_liked_tweets[-1].created_at > startDate):\n",
    "        get_liked_tweets = api.get_favorites(screen_name = sc_name, max_id = get_liked_tweets[-1].id)\n",
    "        for tweet in get_liked_tweets:\n",
    "            if tweet.created_at < endDate and tweet.created_at > startDate:\n",
    "                liked_tweets.append(tweet)\n",
    "    return liked_tweets"
   ]
  },
  {
   "cell_type": "code",
   "execution_count": 10,
   "metadata": {},
   "outputs": [],
   "source": [
    "def get_liked_tweets_2(sc_name):\n",
    "    #variables\n",
    "    start = time.time()\n",
    "    tweets = []\n",
    "    num_of_tweets = 0\n",
    "    \n",
    "    #initial request\n",
    "    while True:\n",
    "        try:\n",
    "            tmpTweets = api.get_favorites(screen_name = sc_name)\n",
    "            while(len(tmpTweets) == 0):\n",
    "                print(\"empty list error_1, please try again\")\n",
    "                tmpTweets = api.get_favorites(screen_name = sc_name)\n",
    "            for tweet in tmpTweets:\n",
    "                if tweet.created_at < endDate and tweet.created_at > startDate:\n",
    "                    tweets.append(tweet)\n",
    "                    num_of_tweets += 1\n",
    "            break\n",
    "        except tw.errors.TweepyException as e:\n",
    "            print(\"Going to sleep\")\n",
    "            print(e)\n",
    "            time.sleep(60*15)\n",
    "            continue\n",
    "    \n",
    "    #collection\n",
    "    while True:\n",
    "        try:\n",
    "            while (tmpTweets[-1].created_at > startDate) and (len(tmpTweets) != 1):\n",
    "                old_ID = tmpTweets[-1].id\n",
    "                tmpTweets = api.get_favorites(screen_name = sc_name, max_id = old_ID)\n",
    "                while(len(tmpTweets) == 0):\n",
    "                    print(\"empty list error_2, please try again\")\n",
    "                    print(old_ID)\n",
    "                    time.sleep(15)\n",
    "                    tmpTweets = api.get_favorites(screen_name = sc_name, max_id = old_ID)\n",
    "                    #print(\"1: \", {tmpTweets[0].created_at})\n",
    "                for tweet in tmpTweets:\n",
    "                    if tweet.created_at < endDate and tweet.created_at > startDate:\n",
    "                        tweets.append(tweet)\n",
    "                        num_of_tweets += 1\n",
    "                if(len(tmpTweets) == 1):\n",
    "                    print(\"it's the end of the limit which is: \", len(tweets))\n",
    "            break\n",
    "        except tw.errors.TweepyException as e:\n",
    "            print(e)\n",
    "            print(\"Going to sleep\")\n",
    "            time.sleep(60*15)\n",
    "            continue\n",
    "    \n",
    "    #return        \n",
    "    end = time.time()\n",
    "    print(sc_name)\n",
    "    print(end-start)\n",
    "    return tweets"
   ]
  },
  {
   "cell_type": "code",
   "execution_count": 11,
   "metadata": {},
   "outputs": [],
   "source": [
    "columns = [\"Tweet_id\", \"Name\", \"Screen_name\", \"Tweet\", \"Date\", \"Category\", \"N_of_RT\", \"N_of_fav\"]\n",
    "columns_2 = [\"Tweet_id\", \"Name\", \"Screen_name\", \"Tweet\", \"Date\", \"Category\", \"N_of_RT\", \"N_of_fav\", \"Related_account\"]"
   ]
  },
  {
   "cell_type": "code",
   "execution_count": 12,
   "metadata": {},
   "outputs": [],
   "source": [
    "def categorize_liked_tweets(liked_tweets):\n",
    "\n",
    "    data = []\n",
    "    term_rt = \"RT\"\n",
    "    for tweet in liked_tweets:\n",
    "\n",
    "        #for consecutive tweets, next one is shown primaryly in data frame, I can check with using hours and minutes if necessary\n",
    "        date = tweet.created_at\n",
    "        #date = date.strftime('%Y-%m-%d')\n",
    "\n",
    "        #retweet and favorite counts\n",
    "        number_of_retweet = tweet.retweet_count\n",
    "        number_of_favorite = tweet.favorite_count\n",
    "\n",
    "\n",
    "        #it's gonna be direct tweet if all the checks below fail\n",
    "        category_specified = \"direct\"\n",
    "\n",
    "        #retweet check\n",
    "        if term_rt in tweet.text.split():\n",
    "\n",
    "            category_specified = \"retweet\"\n",
    "\n",
    "        #quote(rt with comment) check\n",
    "        elif tweet.is_quote_status is True:\n",
    "            category_specified = \"quote\"\n",
    "\n",
    "        #reply check\n",
    "        elif tweet.in_reply_to_status_id is not None:\n",
    "            category_specified = \"reply\"\n",
    "\n",
    "        data.append([tweet.id, tweet.user.name, tweet.user.screen_name, tweet.text, date, category_specified, number_of_retweet, number_of_favorite])\n",
    "    \n",
    "    df_met = pd.DataFrame(data, columns = columns)\n",
    "    return df_met "
   ]
  },
  {
   "cell_type": "code",
   "execution_count": 13,
   "metadata": {},
   "outputs": [],
   "source": [
    "def LikedTweetCollector(user_df):\n",
    "    df = pd.DataFrame(columns = columns_2)\n",
    "    index_counter_1 = 0;\n",
    "    \n",
    "    for x in user_df.Screen_name:\n",
    "    \n",
    "        taken_tweets = get_liked_tweets_2(x)\n",
    "        df_met_2 = categorize_liked_tweets(taken_tweets)\n",
    "\n",
    "        df_met_2[\"Related_account\"] = user_df[\"Screen_name\"][index_counter_1]\n",
    "        index_counter_1 += 1\n",
    "        \n",
    "        df = df.append(df_met_2)\n",
    "    \n",
    "    return df"
   ]
  },
  {
   "cell_type": "code",
   "execution_count": 14,
   "metadata": {},
   "outputs": [
    {
     "data": {
      "text/plain": [
       "'df = pd.DataFrame(columns = columns)\\nfor x in user_df.Screen_name:\\n    \\n    taken_liked_tweets = get_liked_tweets_2(x)\\n    df_met_2 = categorize_liked_tweets(taken_liked_tweets)\\n    df_met_2[\"Related_account\"] = sc_name\\n    df = df.append(df_met_2)'"
      ]
     },
     "execution_count": 14,
     "metadata": {},
     "output_type": "execute_result"
    }
   ],
   "source": [
    "#manuel collection of liked tweets\n",
    "\"\"\"df = pd.DataFrame(columns = columns)\n",
    "for x in user_df.Screen_name:\n",
    "    \n",
    "    taken_liked_tweets = get_liked_tweets_2(x)\n",
    "    df_met_2 = categorize_liked_tweets(taken_liked_tweets)\n",
    "    df_met_2[\"Related_account\"] = sc_name\n",
    "    df = df.append(df_met_2)\"\"\""
   ]
  },
  {
   "cell_type": "code",
   "execution_count": 15,
   "metadata": {
    "scrolled": false
   },
   "outputs": [
    {
     "name": "stderr",
     "output_type": "stream",
     "text": [
      "Rate limit reached. Sleeping for: 578\n",
      "Rate limit reached. Sleeping for: 868\n"
     ]
    },
    {
     "name": "stdout",
     "output_type": "stream",
     "text": [
      "VitalikButerin\n",
      "1501.712229013443\n"
     ]
    },
    {
     "name": "stderr",
     "output_type": "stream",
     "text": [
      "Rate limit reached. Sleeping for: 869\n",
      "Rate limit reached. Sleeping for: 869\n"
     ]
    },
    {
     "name": "stdout",
     "output_type": "stream",
     "text": [
      "cz_binance\n",
      "1798.3292999267578\n",
      "bgarlinghouse\n",
      "7.09185266494751\n"
     ]
    },
    {
     "name": "stderr",
     "output_type": "stream",
     "text": [
      "Rate limit reached. Sleeping for: 869\n",
      "Rate limit reached. Sleeping for: 868\n"
     ]
    },
    {
     "name": "stdout",
     "output_type": "stream",
     "text": [
      "IOHK_Charles\n",
      "1799.9736680984497\n"
     ]
    },
    {
     "name": "stderr",
     "output_type": "stream",
     "text": [
      "Rate limit reached. Sleeping for: 869\n",
      "Rate limit reached. Sleeping for: 870\n"
     ]
    },
    {
     "name": "stdout",
     "output_type": "stream",
     "text": [
      "it's the end of the limit which is:  3351\n",
      "elonmusk\n",
      "1814.35893368721\n"
     ]
    },
    {
     "name": "stderr",
     "output_type": "stream",
     "text": [
      "Rate limit reached. Sleeping for: 869\n",
      "Rate limit reached. Sleeping for: 871\n"
     ]
    },
    {
     "name": "stdout",
     "output_type": "stream",
     "text": [
      "it's the end of the limit which is:  3392\n",
      "sandeepnailwal\n",
      "1816.2327604293823\n",
      "Web3foundation\n",
      "0.42421531677246094\n"
     ]
    },
    {
     "name": "stderr",
     "output_type": "stream",
     "text": [
      "Rate limit reached. Sleeping for: 869\n",
      "Rate limit reached. Sleeping for: 870\n",
      "Rate limit reached. Sleeping for: 868\n"
     ]
    },
    {
     "name": "stdout",
     "output_type": "stream",
     "text": [
      "it's the end of the limit which is:  3184\n",
      "RichardHeartWin\n",
      "2685.890332221985\n"
     ]
    },
    {
     "name": "stderr",
     "output_type": "stream",
     "text": [
      "Rate limit reached. Sleeping for: 869\n",
      "Rate limit reached. Sleeping for: 867\n"
     ]
    },
    {
     "name": "stdout",
     "output_type": "stream",
     "text": [
      "it's the end of the limit which is:  3346\n",
      "solana\n",
      "1813.194104194641\n"
     ]
    },
    {
     "name": "stderr",
     "output_type": "stream",
     "text": [
      "Rate limit reached. Sleeping for: 868\n",
      "Rate limit reached. Sleeping for: 866\n"
     ]
    },
    {
     "name": "stdout",
     "output_type": "stream",
     "text": [
      "justinsuntron\n",
      "1804.1726417541504\n",
      "Uniswap\n",
      "12.692451000213623\n"
     ]
    },
    {
     "name": "stderr",
     "output_type": "stream",
     "text": [
      "Rate limit reached. Sleeping for: 866\n",
      "Rate limit reached. Sleeping for: 866\n"
     ]
    },
    {
     "name": "stdout",
     "output_type": "stream",
     "text": [
      "SatoshiLite\n",
      "1792.3032910823822\n"
     ]
    },
    {
     "name": "stderr",
     "output_type": "stream",
     "text": [
      "Rate limit reached. Sleeping for: 866\n",
      "Rate limit reached. Sleeping for: 867\n"
     ]
    },
    {
     "name": "stdout",
     "output_type": "stream",
     "text": [
      "it's the end of the limit which is:  3353\n",
      "el33th4xor\n",
      "1809.7572214603424\n",
      "SergeyNazarov\n",
      "0.39121055603027344\n"
     ]
    },
    {
     "name": "stderr",
     "output_type": "stream",
     "text": [
      "Rate limit reached. Sleeping for: 868\n",
      "Rate limit reached. Sleeping for: 868\n",
      "Rate limit reached. Sleeping for: 868\n"
     ]
    },
    {
     "name": "stdout",
     "output_type": "stream",
     "text": [
      "empty list error_2, please try again\n",
      "1590778160232398848\n",
      "it's the end of the limit which is:  3235\n",
      "buchmanster\n",
      "2697.4084525108337\n",
      "21354.500738620758\n"
     ]
    }
   ],
   "source": [
    "start = time.time()\n",
    "df = LikedTweetCollector(user_df)\n",
    "end = time.time()\n",
    "print(end - start)"
   ]
  },
  {
   "cell_type": "code",
   "execution_count": 16,
   "metadata": {},
   "outputs": [],
   "source": [
    "df.drop_duplicates(inplace = True)\n",
    "df.reset_index(inplace = True, drop = True)"
   ]
  },
  {
   "cell_type": "code",
   "execution_count": 17,
   "metadata": {},
   "outputs": [
    {
     "data": {
      "text/plain": [
       "(31782, 9)"
      ]
     },
     "execution_count": 17,
     "metadata": {},
     "output_type": "execute_result"
    }
   ],
   "source": [
    "df.shape"
   ]
  },
  {
   "cell_type": "code",
   "execution_count": 18,
   "metadata": {},
   "outputs": [
    {
     "data": {
      "text/plain": [
       "False"
      ]
     },
     "execution_count": 18,
     "metadata": {},
     "output_type": "execute_result"
    }
   ],
   "source": [
    "#null check --> if it is \"False\", we all ok\n",
    "df.isna().any().any()"
   ]
  },
  {
   "cell_type": "code",
   "execution_count": 19,
   "metadata": {},
   "outputs": [
    {
     "name": "stdout",
     "output_type": "stream",
     "text": [
      "<class 'pandas.core.frame.DataFrame'>\n",
      "RangeIndex: 31782 entries, 0 to 31781\n",
      "Data columns (total 9 columns):\n",
      " #   Column           Non-Null Count  Dtype \n",
      "---  ------           --------------  ----- \n",
      " 0   Tweet_id         31782 non-null  object\n",
      " 1   Name             31782 non-null  object\n",
      " 2   Screen_name      31782 non-null  object\n",
      " 3   Tweet            31782 non-null  object\n",
      " 4   Date             31782 non-null  object\n",
      " 5   Category         31782 non-null  object\n",
      " 6   N_of_RT          31782 non-null  object\n",
      " 7   N_of_fav         31782 non-null  object\n",
      " 8   Related_account  31782 non-null  object\n",
      "dtypes: object(9)\n",
      "memory usage: 2.2+ MB\n"
     ]
    }
   ],
   "source": [
    "df.info()"
   ]
  },
  {
   "cell_type": "code",
   "execution_count": 20,
   "metadata": {},
   "outputs": [
    {
     "data": {
      "text/plain": [
       "0"
      ]
     },
     "execution_count": 20,
     "metadata": {},
     "output_type": "execute_result"
    }
   ],
   "source": [
    "#duplication check\n",
    "df[df.duplicated(keep=False)].shape[0]"
   ]
  },
  {
   "cell_type": "code",
   "execution_count": 21,
   "metadata": {},
   "outputs": [],
   "source": [
    "df['Date'] = df['Date'].dt.tz_localize(None)"
   ]
  },
  {
   "cell_type": "code",
   "execution_count": 22,
   "metadata": {},
   "outputs": [
    {
     "data": {
      "text/html": [
       "<div>\n",
       "<style scoped>\n",
       "    .dataframe tbody tr th:only-of-type {\n",
       "        vertical-align: middle;\n",
       "    }\n",
       "\n",
       "    .dataframe tbody tr th {\n",
       "        vertical-align: top;\n",
       "    }\n",
       "\n",
       "    .dataframe thead th {\n",
       "        text-align: right;\n",
       "    }\n",
       "</style>\n",
       "<table border=\"1\" class=\"dataframe\">\n",
       "  <thead>\n",
       "    <tr style=\"text-align: right;\">\n",
       "      <th></th>\n",
       "      <th>Tweet_id</th>\n",
       "      <th>Name</th>\n",
       "      <th>Screen_name</th>\n",
       "      <th>Tweet</th>\n",
       "      <th>Date</th>\n",
       "      <th>Category</th>\n",
       "      <th>N_of_RT</th>\n",
       "      <th>N_of_fav</th>\n",
       "      <th>Related_account</th>\n",
       "    </tr>\n",
       "  </thead>\n",
       "  <tbody>\n",
       "    <tr>\n",
       "      <th>0</th>\n",
       "      <td>1623742454372487168</td>\n",
       "      <td>Anka Relief</td>\n",
       "      <td>AnkaRelief</td>\n",
       "      <td>1/15 Welcome to Anka Relief!\\n\\n@AnkaRelief (🇹...</td>\n",
       "      <td>2023-02-09 17:55:43</td>\n",
       "      <td>direct</td>\n",
       "      <td>201</td>\n",
       "      <td>378</td>\n",
       "      <td>VitalikButerin</td>\n",
       "    </tr>\n",
       "    <tr>\n",
       "      <th>1</th>\n",
       "      <td>1622991509632040962</td>\n",
       "      <td>ETHGlobal</td>\n",
       "      <td>ETHGlobal</td>\n",
       "      <td>Türkiye 🇹🇷 &amp;amp; Syria 🇸🇾 are in a of state em...</td>\n",
       "      <td>2023-02-07 16:11:44</td>\n",
       "      <td>quote</td>\n",
       "      <td>799</td>\n",
       "      <td>1615</td>\n",
       "      <td>VitalikButerin</td>\n",
       "    </tr>\n",
       "    <tr>\n",
       "      <th>2</th>\n",
       "      <td>1622909158864617473</td>\n",
       "      <td>EDCON</td>\n",
       "      <td>EDCON2023</td>\n",
       "      <td>🎉Exciting news, EDCON 2023 is coming! Let's me...</td>\n",
       "      <td>2023-02-07 10:44:30</td>\n",
       "      <td>direct</td>\n",
       "      <td>13</td>\n",
       "      <td>41</td>\n",
       "      <td>VitalikButerin</td>\n",
       "    </tr>\n",
       "    <tr>\n",
       "      <th>3</th>\n",
       "      <td>1622197933025251328</td>\n",
       "      <td>StarkWare</td>\n",
       "      <td>StarkWareLtd</td>\n",
       "      <td>Open-Sourcing the Starknet Prover.\\n\\nEntire #...</td>\n",
       "      <td>2023-02-05 11:38:20</td>\n",
       "      <td>direct</td>\n",
       "      <td>309</td>\n",
       "      <td>1116</td>\n",
       "      <td>VitalikButerin</td>\n",
       "    </tr>\n",
       "    <tr>\n",
       "      <th>4</th>\n",
       "      <td>1618285309124575236</td>\n",
       "      <td>Reflexer</td>\n",
       "      <td>reflexerfinance</td>\n",
       "      <td>Check out @VitalikButerin's post in the Reflex...</td>\n",
       "      <td>2023-01-25 16:30:58</td>\n",
       "      <td>direct</td>\n",
       "      <td>182</td>\n",
       "      <td>668</td>\n",
       "      <td>VitalikButerin</td>\n",
       "    </tr>\n",
       "  </tbody>\n",
       "</table>\n",
       "</div>"
      ],
      "text/plain": [
       "              Tweet_id         Name      Screen_name  \\\n",
       "0  1623742454372487168  Anka Relief       AnkaRelief   \n",
       "1  1622991509632040962    ETHGlobal        ETHGlobal   \n",
       "2  1622909158864617473        EDCON        EDCON2023   \n",
       "3  1622197933025251328    StarkWare     StarkWareLtd   \n",
       "4  1618285309124575236     Reflexer  reflexerfinance   \n",
       "\n",
       "                                               Tweet                Date  \\\n",
       "0  1/15 Welcome to Anka Relief!\\n\\n@AnkaRelief (🇹... 2023-02-09 17:55:43   \n",
       "1  Türkiye 🇹🇷 &amp; Syria 🇸🇾 are in a of state em... 2023-02-07 16:11:44   \n",
       "2  🎉Exciting news, EDCON 2023 is coming! Let's me... 2023-02-07 10:44:30   \n",
       "3  Open-Sourcing the Starknet Prover.\\n\\nEntire #... 2023-02-05 11:38:20   \n",
       "4  Check out @VitalikButerin's post in the Reflex... 2023-01-25 16:30:58   \n",
       "\n",
       "  Category N_of_RT N_of_fav Related_account  \n",
       "0   direct     201      378  VitalikButerin  \n",
       "1    quote     799     1615  VitalikButerin  \n",
       "2   direct      13       41  VitalikButerin  \n",
       "3   direct     309     1116  VitalikButerin  \n",
       "4   direct     182      668  VitalikButerin  "
      ]
     },
     "execution_count": 22,
     "metadata": {},
     "output_type": "execute_result"
    }
   ],
   "source": [
    "pd.set_option(\"max_rows\", None)\n",
    "df.to_excel(r\"C:\\Users\\Kutay\\Desktop\\My Docs\\My Docs v2.0\\Data Science\\RA\\Cryptocurrency\\RA_Cryptocurrency\\Data\\Liked Tweet Data\\liked_tweets_1year.xlsx\")\n",
    "df.head()"
   ]
  },
  {
   "cell_type": "code",
   "execution_count": null,
   "metadata": {},
   "outputs": [],
   "source": [
    "#change it to_2year(in the doc) --> upper block"
   ]
  }
 ],
 "metadata": {
  "kernelspec": {
   "display_name": "Python 3",
   "language": "python",
   "name": "python3"
  },
  "language_info": {
   "codemirror_mode": {
    "name": "ipython",
    "version": 3
   },
   "file_extension": ".py",
   "mimetype": "text/x-python",
   "name": "python",
   "nbconvert_exporter": "python",
   "pygments_lexer": "ipython3",
   "version": "3.8.3"
  }
 },
 "nbformat": 4,
 "nbformat_minor": 4
}
