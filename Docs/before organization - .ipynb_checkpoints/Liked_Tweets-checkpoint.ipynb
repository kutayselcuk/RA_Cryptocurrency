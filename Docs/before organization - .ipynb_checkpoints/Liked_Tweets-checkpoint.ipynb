{
 "cells": [
  {
   "cell_type": "code",
   "execution_count": 2,
   "metadata": {},
   "outputs": [],
   "source": [
    "# Import Libraries\n",
    "import tweepy as tw\n",
    "import configparser\n",
    "import pandas as pd\n",
    "import numpy as np\n",
    "import matplotlib.pyplot as plt\n",
    "import seaborn as sns\n",
    "import sklearn\n",
    "import re\n",
    "import nltk\n",
    "import datetime\n",
    "import pytz\n",
    "from dateutil.relativedelta import relativedelta"
   ]
  },
  {
   "cell_type": "markdown",
   "metadata": {},
   "source": [
    "# Authentication"
   ]
  },
  {
   "cell_type": "code",
   "execution_count": 3,
   "metadata": {},
   "outputs": [],
   "source": [
    "keys = pd.read_csv(r\"C:\\Users\\Kutay\\Desktop\\Data Science\\RA\\RA Work\\Cryptocurrency\\API Keys\\apikeys.csv\")\n",
    "\n",
    "my_api_key = keys[\"Keys\"][0]\n",
    "my_api_secret = keys[\"Keys\"][1]\n",
    "\n",
    "my_access_token = keys[\"Keys\"][2]\n",
    "my_access_token_secret = keys[\"Keys\"][3]"
   ]
  },
  {
   "cell_type": "code",
   "execution_count": 4,
   "metadata": {},
   "outputs": [],
   "source": [
    "# your Twitter API key ans access token\n",
    "api_key = my_api_key\n",
    "api_secret = my_api_secret\n",
    "\n",
    "access_token = my_access_token\n",
    "access_token_secret = my_access_token_secret"
   ]
  },
  {
   "cell_type": "code",
   "execution_count": 5,
   "metadata": {},
   "outputs": [],
   "source": [
    "# authenticate\n",
    "auth = tw.OAuthHandler(my_api_key, my_api_secret)\n",
    "auth.set_access_token(access_token, access_token_secret)"
   ]
  },
  {
   "cell_type": "code",
   "execution_count": 6,
   "metadata": {},
   "outputs": [],
   "source": [
    "api = tw.API(auth, wait_on_rate_limit=True)"
   ]
  },
  {
   "cell_type": "markdown",
   "metadata": {},
   "source": [
    "## Variables"
   ]
  },
  {
   "cell_type": "markdown",
   "metadata": {},
   "source": [
    "sc_name = \"el33th4xor\""
   ]
  },
  {
   "cell_type": "code",
   "execution_count": 10,
   "metadata": {},
   "outputs": [],
   "source": [
    "user_df = pd.read_csv(\"Top 20 Cryptocurrencies and Related TW Accounts.csv\", encoding= 'unicode_escape')"
   ]
  },
  {
   "cell_type": "code",
   "execution_count": 22,
   "metadata": {},
   "outputs": [],
   "source": [
    "endDate = datetime.datetime.now()\n",
    "startDate = endDate - relativedelta(days = 1) #days, months, years can be used to calculate\n",
    "\n",
    "utc=pytz.UTC\n",
    "\n",
    "startDate = utc.localize(startDate) \n",
    "endDate = utc.localize(endDate)"
   ]
  },
  {
   "cell_type": "code",
   "execution_count": 12,
   "metadata": {},
   "outputs": [],
   "source": [
    "limit = 200"
   ]
  },
  {
   "cell_type": "markdown",
   "metadata": {},
   "source": [
    "# Getting Liked Tweets"
   ]
  },
  {
   "cell_type": "code",
   "execution_count": 24,
   "metadata": {},
   "outputs": [],
   "source": [
    "def get_liked_tweets(sc_name):\n",
    "    \n",
    "    liked_tweets = []\n",
    "    get_liked_tweets = api.get_favorites(screen_name = sc_name)\n",
    "    for tweet in get_liked_tweets:\n",
    "        if tweet.created_at < endDate and tweet.created_at > startDate:\n",
    "            liked_tweets.append(tweet)\n",
    "\n",
    "\n",
    "    while (get_liked_tweets[-1].created_at > startDate):\n",
    "        get_liked_tweets = api.get_favorites(screen_name = sc_name, max_id = get_liked_tweets[-1].id)\n",
    "        for tweet in get_liked_tweets:\n",
    "            if tweet.created_at < endDate and tweet.created_at > startDate:\n",
    "                liked_tweets.append(tweet)\n",
    "    return liked_tweets"
   ]
  },
  {
   "cell_type": "code",
   "execution_count": 25,
   "metadata": {},
   "outputs": [],
   "source": [
    "columns = [\"Tweet_id\", \"Name\", \"Screen_name\", \"Tweet\", \"Date\", \"Category\", \"N_of_RT\", \"N_of_fav\"]"
   ]
  },
  {
   "cell_type": "code",
   "execution_count": 28,
   "metadata": {},
   "outputs": [],
   "source": [
    "def categorize_liked_tweets(liked_tweets):\n",
    "\n",
    "    data = []\n",
    "    term_rt = \"RT\"\n",
    "    for tweet in liked_tweets:\n",
    "\n",
    "        #for consecutive tweets, next one is shown primaryly in data frame, I can check with using hours and minutes if necessary\n",
    "        date = tweet.created_at\n",
    "        date = date.strftime('%Y-%m-%d')\n",
    "\n",
    "        #retweet and favorite counts\n",
    "        number_of_retweet = tweet.retweet_count\n",
    "        number_of_favorite = tweet.favorite_count\n",
    "\n",
    "\n",
    "        #it's gonna be direct tweet if all the checks below fail\n",
    "        category_specified = \"direct\"\n",
    "\n",
    "        #retweet check\n",
    "        if term_rt in tweet.text.split():\n",
    "\n",
    "            category_specified = \"retweet\"\n",
    "\n",
    "        #quote(rt with comment) check\n",
    "        elif tweet.is_quote_status is True:\n",
    "            category_specified = \"quote\"\n",
    "\n",
    "        #reply check\n",
    "        elif tweet.in_reply_to_status_id is not None:\n",
    "            category_specified = \"reply\"\n",
    "\n",
    "        data.append([tweet.id, tweet.user.name, tweet.user.screen_name, tweet.text, date, category_specified, number_of_retweet, number_of_favorite])\n",
    "    \n",
    "    df_met = pd.DataFrame(data, columns = columns)\n",
    "    return df_met "
   ]
  },
  {
   "cell_type": "code",
   "execution_count": 29,
   "metadata": {},
   "outputs": [],
   "source": [
    "df = pd.DataFrame(columns = columns)\n",
    "for x in user_df.Screen_name:\n",
    "    \n",
    "    taken_liked_tweets = get_liked_tweets(x)\n",
    "    df_met_2 = categorize_liked_tweets(taken_liked_tweets)\n",
    "    df = df.append(df_met_2)"
   ]
  },
  {
   "cell_type": "code",
   "execution_count": 32,
   "metadata": {},
   "outputs": [],
   "source": [
    "df.drop_duplicates(inplace = True)\n",
    "df.reset_index(inplace = True, drop = True)"
   ]
  },
  {
   "cell_type": "code",
   "execution_count": 33,
   "metadata": {},
   "outputs": [
    {
     "data": {
      "text/plain": [
       "(137, 8)"
      ]
     },
     "execution_count": 33,
     "metadata": {},
     "output_type": "execute_result"
    }
   ],
   "source": [
    "df.shape"
   ]
  },
  {
   "cell_type": "code",
   "execution_count": 34,
   "metadata": {},
   "outputs": [
    {
     "data": {
      "text/plain": [
       "False"
      ]
     },
     "execution_count": 34,
     "metadata": {},
     "output_type": "execute_result"
    }
   ],
   "source": [
    "#null check --> if it is \"False\", we all ok\n",
    "df.isna().any().any()"
   ]
  },
  {
   "cell_type": "code",
   "execution_count": 35,
   "metadata": {},
   "outputs": [
    {
     "name": "stdout",
     "output_type": "stream",
     "text": [
      "<class 'pandas.core.frame.DataFrame'>\n",
      "RangeIndex: 137 entries, 0 to 136\n",
      "Data columns (total 8 columns):\n",
      " #   Column       Non-Null Count  Dtype \n",
      "---  ------       --------------  ----- \n",
      " 0   Tweet_id     137 non-null    object\n",
      " 1   Name         137 non-null    object\n",
      " 2   Screen_name  137 non-null    object\n",
      " 3   Tweet        137 non-null    object\n",
      " 4   Date         137 non-null    object\n",
      " 5   Category     137 non-null    object\n",
      " 6   N_of_RT      137 non-null    object\n",
      " 7   N_of_fav     137 non-null    object\n",
      "dtypes: object(8)\n",
      "memory usage: 8.7+ KB\n"
     ]
    }
   ],
   "source": [
    "df.info()"
   ]
  },
  {
   "cell_type": "code",
   "execution_count": 36,
   "metadata": {},
   "outputs": [
    {
     "data": {
      "text/plain": [
       "0"
      ]
     },
     "execution_count": 36,
     "metadata": {},
     "output_type": "execute_result"
    }
   ],
   "source": [
    "#duplication check\n",
    "df[df.duplicated(keep=False)].shape[0]"
   ]
  },
  {
   "cell_type": "code",
   "execution_count": 37,
   "metadata": {},
   "outputs": [
    {
     "data": {
      "text/html": [
       "<div>\n",
       "<style scoped>\n",
       "    .dataframe tbody tr th:only-of-type {\n",
       "        vertical-align: middle;\n",
       "    }\n",
       "\n",
       "    .dataframe tbody tr th {\n",
       "        vertical-align: top;\n",
       "    }\n",
       "\n",
       "    .dataframe thead th {\n",
       "        text-align: right;\n",
       "    }\n",
       "</style>\n",
       "<table border=\"1\" class=\"dataframe\">\n",
       "  <thead>\n",
       "    <tr style=\"text-align: right;\">\n",
       "      <th></th>\n",
       "      <th>Tweet_id</th>\n",
       "      <th>Name</th>\n",
       "      <th>Screen_name</th>\n",
       "      <th>Tweet</th>\n",
       "      <th>Date</th>\n",
       "      <th>Category</th>\n",
       "      <th>N_of_RT</th>\n",
       "      <th>N_of_fav</th>\n",
       "    </tr>\n",
       "  </thead>\n",
       "  <tbody>\n",
       "    <tr>\n",
       "      <th>0</th>\n",
       "      <td>1594835418117451776</td>\n",
       "      <td>Elon Musk</td>\n",
       "      <td>elonmusk</td>\n",
       "      <td>Starlink now works for high latitudes https://...</td>\n",
       "      <td>2022-11-21</td>\n",
       "      <td>quote</td>\n",
       "      <td>5471</td>\n",
       "      <td>68167</td>\n",
       "    </tr>\n",
       "    <tr>\n",
       "      <th>1</th>\n",
       "      <td>1594743348572848129</td>\n",
       "      <td>Stuart Alderoty</td>\n",
       "      <td>s_alderoty</td>\n",
       "      <td>To be clear, the SEC hasn’t labeled XRP a secu...</td>\n",
       "      <td>2022-11-21</td>\n",
       "      <td>quote</td>\n",
       "      <td>967</td>\n",
       "      <td>3183</td>\n",
       "    </tr>\n",
       "    <tr>\n",
       "      <th>2</th>\n",
       "      <td>1595007450343964672</td>\n",
       "      <td>Simon Sällström</td>\n",
       "      <td>SimonSallstrom</td>\n",
       "      <td>I invited @IOHK_Charles to come and visit Oxfo...</td>\n",
       "      <td>2022-11-22</td>\n",
       "      <td>direct</td>\n",
       "      <td>85</td>\n",
       "      <td>459</td>\n",
       "    </tr>\n",
       "    <tr>\n",
       "      <th>3</th>\n",
       "      <td>1594978325780484098</td>\n",
       "      <td>Mr.Telecom</td>\n",
       "      <td>MrTelecoms</td>\n",
       "      <td>@CloverNodes @IOHK_Charles Vasil! Looking forw...</td>\n",
       "      <td>2022-11-22</td>\n",
       "      <td>reply</td>\n",
       "      <td>0</td>\n",
       "      <td>13</td>\n",
       "    </tr>\n",
       "    <tr>\n",
       "      <th>4</th>\n",
       "      <td>1594819168200794124</td>\n",
       "      <td>Esat Sibay</td>\n",
       "      <td>esatsibay</td>\n",
       "      <td>Great to meet @IOHK_Charles and Tamara Haasen ...</td>\n",
       "      <td>2022-11-21</td>\n",
       "      <td>direct</td>\n",
       "      <td>0</td>\n",
       "      <td>26</td>\n",
       "    </tr>\n",
       "  </tbody>\n",
       "</table>\n",
       "</div>"
      ],
      "text/plain": [
       "              Tweet_id             Name     Screen_name  \\\n",
       "0  1594835418117451776        Elon Musk        elonmusk   \n",
       "1  1594743348572848129  Stuart Alderoty      s_alderoty   \n",
       "2  1595007450343964672  Simon Sällström  SimonSallstrom   \n",
       "3  1594978325780484098       Mr.Telecom      MrTelecoms   \n",
       "4  1594819168200794124       Esat Sibay       esatsibay   \n",
       "\n",
       "                                               Tweet        Date Category  \\\n",
       "0  Starlink now works for high latitudes https://...  2022-11-21    quote   \n",
       "1  To be clear, the SEC hasn’t labeled XRP a secu...  2022-11-21    quote   \n",
       "2  I invited @IOHK_Charles to come and visit Oxfo...  2022-11-22   direct   \n",
       "3  @CloverNodes @IOHK_Charles Vasil! Looking forw...  2022-11-22    reply   \n",
       "4  Great to meet @IOHK_Charles and Tamara Haasen ...  2022-11-21   direct   \n",
       "\n",
       "  N_of_RT N_of_fav  \n",
       "0    5471    68167  \n",
       "1     967     3183  \n",
       "2      85      459  \n",
       "3       0       13  \n",
       "4       0       26  "
      ]
     },
     "execution_count": 37,
     "metadata": {},
     "output_type": "execute_result"
    }
   ],
   "source": [
    "pd.set_option(\"max_rows\", None)\n",
    "df.to_excel(r\"liked_tweets.xlsx\")\n",
    "df.head()"
   ]
  }
 ],
 "metadata": {
  "kernelspec": {
   "display_name": "Python 3",
   "language": "python",
   "name": "python3"
  },
  "language_info": {
   "codemirror_mode": {
    "name": "ipython",
    "version": 3
   },
   "file_extension": ".py",
   "mimetype": "text/x-python",
   "name": "python",
   "nbconvert_exporter": "python",
   "pygments_lexer": "ipython3",
   "version": "3.8.3"
  }
 },
 "nbformat": 4,
 "nbformat_minor": 4
}
