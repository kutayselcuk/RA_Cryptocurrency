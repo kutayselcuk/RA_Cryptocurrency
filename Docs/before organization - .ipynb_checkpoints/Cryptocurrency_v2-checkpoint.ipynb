{
 "cells": [
  {
   "cell_type": "code",
   "execution_count": 1,
   "metadata": {},
   "outputs": [],
   "source": [
    "# Import Libraries\n",
    "import tweepy as tw\n",
    "import configparser\n",
    "import pandas as pd\n",
    "import numpy as np\n",
    "import matplotlib.pyplot as plt\n",
    "import seaborn as sns\n",
    "import sklearn\n",
    "import re\n",
    "import nltk\n",
    "import datetime\n",
    "import pytz\n",
    "from dateutil.relativedelta import relativedelta"
   ]
  },
  {
   "cell_type": "markdown",
   "metadata": {},
   "source": [
    "# Authentication for API"
   ]
  },
  {
   "cell_type": "code",
   "execution_count": 2,
   "metadata": {},
   "outputs": [],
   "source": [
    "keys = pd.read_csv(r\"C:\\Users\\Kutay\\Desktop\\Data Science\\RA\\RA Work\\Cryptocurrency\\API Keys\\apikeys.csv\")\n",
    "\n",
    "my_api_key = keys[\"Keys\"][0]\n",
    "my_api_secret = keys[\"Keys\"][1]\n",
    "\n",
    "my_access_token = keys[\"Keys\"][2]\n",
    "my_access_token_secret = keys[\"Keys\"][3]"
   ]
  },
  {
   "cell_type": "code",
   "execution_count": 3,
   "metadata": {},
   "outputs": [],
   "source": [
    "# your Twitter API key ans access token\n",
    "api_key = my_api_key\n",
    "api_secret = my_api_secret\n",
    "\n",
    "access_token = my_access_token\n",
    "access_token_secret = my_access_token_secret"
   ]
  },
  {
   "cell_type": "code",
   "execution_count": 4,
   "metadata": {},
   "outputs": [],
   "source": [
    "# authenticate\n",
    "auth = tw.OAuthHandler(my_api_key, my_api_secret)\n",
    "auth.set_access_token(access_token, access_token_secret)"
   ]
  },
  {
   "cell_type": "code",
   "execution_count": 5,
   "metadata": {},
   "outputs": [],
   "source": [
    "api = tw.API(auth, wait_on_rate_limit=True)"
   ]
  },
  {
   "cell_type": "markdown",
   "metadata": {},
   "source": [
    "# Taking a Spesific User's Tweets"
   ]
  },
  {
   "cell_type": "code",
   "execution_count": 6,
   "metadata": {},
   "outputs": [],
   "source": [
    "user = \"el33th4xor\"\n",
    "limit = 300"
   ]
  },
  {
   "cell_type": "code",
   "execution_count": 7,
   "metadata": {},
   "outputs": [],
   "source": [
    "endDate = datetime.datetime.now()\n",
    "startDate = endDate - relativedelta(months = 1) #days, months, years can be used to calculate\n",
    "\n",
    "utc=pytz.UTC\n",
    "\n",
    "startDate = utc.localize(startDate) \n",
    "endDate = utc.localize(endDate)"
   ]
  },
  {
   "cell_type": "markdown",
   "metadata": {},
   "source": [
    "--old version of taking tweets\n",
    "#cursor can be used for just one time, be careful about that, save and use use data frame/s for next steps\n",
    "tweets = tw.Cursor(api.user_timeline, \n",
    "                   screen_name = user, count = 200, \n",
    "                   tweet_mode = \"extended\").items(limit)"
   ]
  },
  {
   "cell_type": "code",
   "execution_count": 8,
   "metadata": {},
   "outputs": [],
   "source": [
    "tweets = []\n",
    "tmpTweets = api.user_timeline(screen_name = user)\n",
    "for tweet in tmpTweets:\n",
    "    if tweet.created_at < endDate and tweet.created_at > startDate:\n",
    "        tweets.append(tweet)\n",
    "\n",
    "        \n",
    "while (tmpTweets[-1].created_at > startDate):\n",
    "    tmpTweets = api.user_timeline(screen_name = user, max_id = tmpTweets[-1].id)\n",
    "    for tweet in tmpTweets:\n",
    "        if tweet.created_at < endDate and tweet.created_at > startDate:\n",
    "            tweets.append(tweet)"
   ]
  },
  {
   "cell_type": "code",
   "execution_count": 9,
   "metadata": {},
   "outputs": [
    {
     "data": {
      "text/plain": [
       "85"
      ]
     },
     "execution_count": 9,
     "metadata": {},
     "output_type": "execute_result"
    }
   ],
   "source": [
    "len(tweets)"
   ]
  },
  {
   "cell_type": "code",
   "execution_count": 10,
   "metadata": {},
   "outputs": [
    {
     "data": {
      "text/plain": [
       "20"
      ]
     },
     "execution_count": 10,
     "metadata": {},
     "output_type": "execute_result"
    }
   ],
   "source": [
    "len(tmpTweets)"
   ]
  },
  {
   "cell_type": "raw",
   "metadata": {},
   "source": [
    "\"\"\" example code \"\"\"\n",
    "this is the way take tweets with limit which is 200\n",
    "tweets = api.user_timeline(screen_name = user,\n",
    "                           count = limit,\n",
    "                           include_rts = True,\n",
    "                           tweet_mode = \"extended\")\n",
    "\"\"\"                           "
   ]
  },
  {
   "cell_type": "code",
   "execution_count": 11,
   "metadata": {},
   "outputs": [],
   "source": [
    "columns = [\"Tweet_id\", \"Name\", \"Screen_name\", \"Tweet\", \"Date\", \"Category\", \"N_of_RT\", \"N_of_fav\"]\n",
    "data = []"
   ]
  },
  {
   "cell_type": "code",
   "execution_count": 12,
   "metadata": {},
   "outputs": [],
   "source": [
    "term_rt = \"RT\"\n",
    "\n",
    "for tweet in tweets:\n",
    "    \n",
    "    #for consecutive tweets, next one is shown primaryly in data frame, I can check with using hours and minutes if necessary\n",
    "    date = tweet.created_at\n",
    "    date = date.strftime('%Y-%m-%d')\n",
    "    \n",
    "    #retweet and favorite counts\n",
    "    number_of_retweet = tweet.retweet_count\n",
    "    number_of_favorite = tweet.favorite_count\n",
    "    \n",
    "    \n",
    "    #it's gonna be direct tweet if all the checks below fail\n",
    "    category_specified = \"direct\"\n",
    "   \n",
    "    #retweet check\n",
    "    if term_rt in tweet.text.split():\n",
    "        \n",
    "        category_specified = \"retweet\"\n",
    "    \n",
    "    #quote(rt with comment) check\n",
    "    elif tweet.is_quote_status is True:\n",
    "        category_specified = \"quote\"\n",
    "    \n",
    "    #reply check\n",
    "    elif tweet.in_reply_to_status_id is not None:\n",
    "        category_specified = \"reply\"\n",
    "    \n",
    "    data.append([tweet.id, tweet.user.name, tweet.user.screen_name, tweet.text, date, category_specified, number_of_retweet, number_of_favorite])"
   ]
  },
  {
   "cell_type": "code",
   "execution_count": 13,
   "metadata": {},
   "outputs": [],
   "source": [
    "#creatin df, removing duplications, reseting index\n",
    "df = pd.DataFrame(data, columns = columns)\n",
    "df.drop_duplicates(inplace = True)\n",
    "df.reset_index(inplace = True, drop = True)"
   ]
  },
  {
   "cell_type": "code",
   "execution_count": 14,
   "metadata": {},
   "outputs": [],
   "source": [
    "#seperating dat-month-year\n",
    "df['Day'] = pd.DatetimeIndex(df['Date']).day\n",
    "df['Month'] = pd.DatetimeIndex(df['Date']).month\n",
    "df['Year'] = pd.DatetimeIndex(df['Date']).year"
   ]
  },
  {
   "cell_type": "code",
   "execution_count": 15,
   "metadata": {
    "scrolled": false
   },
   "outputs": [
    {
     "data": {
      "text/html": [
       "<div>\n",
       "<style scoped>\n",
       "    .dataframe tbody tr th:only-of-type {\n",
       "        vertical-align: middle;\n",
       "    }\n",
       "\n",
       "    .dataframe tbody tr th {\n",
       "        vertical-align: top;\n",
       "    }\n",
       "\n",
       "    .dataframe thead th {\n",
       "        text-align: right;\n",
       "    }\n",
       "</style>\n",
       "<table border=\"1\" class=\"dataframe\">\n",
       "  <thead>\n",
       "    <tr style=\"text-align: right;\">\n",
       "      <th></th>\n",
       "      <th>Tweet_id</th>\n",
       "      <th>Name</th>\n",
       "      <th>Screen_name</th>\n",
       "      <th>Tweet</th>\n",
       "      <th>Date</th>\n",
       "      <th>Category</th>\n",
       "      <th>N_of_RT</th>\n",
       "      <th>N_of_fav</th>\n",
       "      <th>Day</th>\n",
       "      <th>Month</th>\n",
       "      <th>Year</th>\n",
       "    </tr>\n",
       "  </thead>\n",
       "  <tbody>\n",
       "    <tr>\n",
       "      <th>0</th>\n",
       "      <td>1572227275780771842</td>\n",
       "      <td>Emin Gün Sirer🔺</td>\n",
       "      <td>el33th4xor</td>\n",
       "      <td>The hidden benefits of being an #Avalanche val...</td>\n",
       "      <td>2022-09-20</td>\n",
       "      <td>quote</td>\n",
       "      <td>17</td>\n",
       "      <td>65</td>\n",
       "      <td>20</td>\n",
       "      <td>9</td>\n",
       "      <td>2022</td>\n",
       "    </tr>\n",
       "    <tr>\n",
       "      <th>1</th>\n",
       "      <td>1571880120809562112</td>\n",
       "      <td>Emin Gün Sirer🔺</td>\n",
       "      <td>el33th4xor</td>\n",
       "      <td>There's only one chain that identified this as...</td>\n",
       "      <td>2022-09-19</td>\n",
       "      <td>quote</td>\n",
       "      <td>149</td>\n",
       "      <td>528</td>\n",
       "      <td>19</td>\n",
       "      <td>9</td>\n",
       "      <td>2022</td>\n",
       "    </tr>\n",
       "    <tr>\n",
       "      <th>2</th>\n",
       "      <td>1571879455898963972</td>\n",
       "      <td>Emin Gün Sirer🔺</td>\n",
       "      <td>el33th4xor</td>\n",
       "      <td>#Avalanche is about to hit another all time hi...</td>\n",
       "      <td>2022-09-19</td>\n",
       "      <td>quote</td>\n",
       "      <td>94</td>\n",
       "      <td>384</td>\n",
       "      <td>19</td>\n",
       "      <td>9</td>\n",
       "      <td>2022</td>\n",
       "    </tr>\n",
       "    <tr>\n",
       "      <th>3</th>\n",
       "      <td>1571866276569534467</td>\n",
       "      <td>Emin Gün Sirer🔺</td>\n",
       "      <td>el33th4xor</td>\n",
       "      <td>This got lost amidst the CPI announcement last...</td>\n",
       "      <td>2022-09-19</td>\n",
       "      <td>quote</td>\n",
       "      <td>74</td>\n",
       "      <td>402</td>\n",
       "      <td>19</td>\n",
       "      <td>9</td>\n",
       "      <td>2022</td>\n",
       "    </tr>\n",
       "    <tr>\n",
       "      <th>4</th>\n",
       "      <td>1571865858926063616</td>\n",
       "      <td>Emin Gün Sirer🔺</td>\n",
       "      <td>el33th4xor</td>\n",
       "      <td>RT @RaoulGMI: A great conversation with my fri...</td>\n",
       "      <td>2022-09-19</td>\n",
       "      <td>retweet</td>\n",
       "      <td>71</td>\n",
       "      <td>0</td>\n",
       "      <td>19</td>\n",
       "      <td>9</td>\n",
       "      <td>2022</td>\n",
       "    </tr>\n",
       "  </tbody>\n",
       "</table>\n",
       "</div>"
      ],
      "text/plain": [
       "              Tweet_id             Name Screen_name  \\\n",
       "0  1572227275780771842  Emin Gün Sirer🔺  el33th4xor   \n",
       "1  1571880120809562112  Emin Gün Sirer🔺  el33th4xor   \n",
       "2  1571879455898963972  Emin Gün Sirer🔺  el33th4xor   \n",
       "3  1571866276569534467  Emin Gün Sirer🔺  el33th4xor   \n",
       "4  1571865858926063616  Emin Gün Sirer🔺  el33th4xor   \n",
       "\n",
       "                                               Tweet        Date Category  \\\n",
       "0  The hidden benefits of being an #Avalanche val...  2022-09-20    quote   \n",
       "1  There's only one chain that identified this as...  2022-09-19    quote   \n",
       "2  #Avalanche is about to hit another all time hi...  2022-09-19    quote   \n",
       "3  This got lost amidst the CPI announcement last...  2022-09-19    quote   \n",
       "4  RT @RaoulGMI: A great conversation with my fri...  2022-09-19  retweet   \n",
       "\n",
       "   N_of_RT  N_of_fav  Day  Month  Year  \n",
       "0       17        65   20      9  2022  \n",
       "1      149       528   19      9  2022  \n",
       "2       94       384   19      9  2022  \n",
       "3       74       402   19      9  2022  \n",
       "4       71         0   19      9  2022  "
      ]
     },
     "execution_count": 15,
     "metadata": {},
     "output_type": "execute_result"
    }
   ],
   "source": [
    "pd.set_option(\"max_rows\", None)\n",
    "df.to_excel(r\"tweets.xlsx\")\n",
    "df.head()"
   ]
  },
  {
   "cell_type": "code",
   "execution_count": 16,
   "metadata": {
    "scrolled": true
   },
   "outputs": [
    {
     "name": "stdout",
     "output_type": "stream",
     "text": [
      "<class 'pandas.core.frame.DataFrame'>\n",
      "RangeIndex: 81 entries, 0 to 80\n",
      "Data columns (total 11 columns):\n",
      " #   Column       Non-Null Count  Dtype \n",
      "---  ------       --------------  ----- \n",
      " 0   Tweet_id     81 non-null     int64 \n",
      " 1   Name         81 non-null     object\n",
      " 2   Screen_name  81 non-null     object\n",
      " 3   Tweet        81 non-null     object\n",
      " 4   Date         81 non-null     object\n",
      " 5   Category     81 non-null     object\n",
      " 6   N_of_RT      81 non-null     int64 \n",
      " 7   N_of_fav     81 non-null     int64 \n",
      " 8   Day          81 non-null     int64 \n",
      " 9   Month        81 non-null     int64 \n",
      " 10  Year         81 non-null     int64 \n",
      "dtypes: int64(6), object(5)\n",
      "memory usage: 7.1+ KB\n"
     ]
    }
   ],
   "source": [
    "df.info()"
   ]
  },
  {
   "cell_type": "code",
   "execution_count": 17,
   "metadata": {},
   "outputs": [
    {
     "data": {
      "text/plain": [
       "(81, 11)"
      ]
     },
     "execution_count": 17,
     "metadata": {},
     "output_type": "execute_result"
    }
   ],
   "source": [
    "df.shape"
   ]
  },
  {
   "cell_type": "code",
   "execution_count": 18,
   "metadata": {},
   "outputs": [
    {
     "data": {
      "text/plain": [
       "False"
      ]
     },
     "execution_count": 18,
     "metadata": {},
     "output_type": "execute_result"
    }
   ],
   "source": [
    "#null check --> if it is \"False\", we all ok\n",
    "df.isna().any().any()"
   ]
  },
  {
   "cell_type": "code",
   "execution_count": 19,
   "metadata": {},
   "outputs": [
    {
     "data": {
      "text/plain": [
       "0"
      ]
     },
     "execution_count": 19,
     "metadata": {},
     "output_type": "execute_result"
    }
   ],
   "source": [
    "#duplication check\n",
    "df[df.duplicated(keep=False)].shape[0]"
   ]
  },
  {
   "cell_type": "code",
   "execution_count": 20,
   "metadata": {
    "scrolled": true
   },
   "outputs": [
    {
     "data": {
      "text/html": [
       "<div>\n",
       "<style scoped>\n",
       "    .dataframe tbody tr th:only-of-type {\n",
       "        vertical-align: middle;\n",
       "    }\n",
       "\n",
       "    .dataframe tbody tr th {\n",
       "        vertical-align: top;\n",
       "    }\n",
       "\n",
       "    .dataframe thead th {\n",
       "        text-align: right;\n",
       "    }\n",
       "</style>\n",
       "<table border=\"1\" class=\"dataframe\">\n",
       "  <thead>\n",
       "    <tr style=\"text-align: right;\">\n",
       "      <th></th>\n",
       "      <th>Tweet_id</th>\n",
       "      <th>Name</th>\n",
       "      <th>Screen_name</th>\n",
       "      <th>Tweet</th>\n",
       "      <th>Date</th>\n",
       "      <th>Category</th>\n",
       "      <th>N_of_RT</th>\n",
       "      <th>N_of_fav</th>\n",
       "      <th>Day</th>\n",
       "      <th>Month</th>\n",
       "      <th>Year</th>\n",
       "    </tr>\n",
       "  </thead>\n",
       "  <tbody>\n",
       "    <tr>\n",
       "      <th>0</th>\n",
       "      <td>1571865858926063616</td>\n",
       "      <td>Emin Gün Sirer🔺</td>\n",
       "      <td>el33th4xor</td>\n",
       "      <td>RT @RaoulGMI: A great conversation with my fri...</td>\n",
       "      <td>2022-09-19</td>\n",
       "      <td>retweet</td>\n",
       "      <td>71</td>\n",
       "      <td>0</td>\n",
       "      <td>19</td>\n",
       "      <td>9</td>\n",
       "      <td>2022</td>\n",
       "    </tr>\n",
       "    <tr>\n",
       "      <th>1</th>\n",
       "      <td>1570566440499187712</td>\n",
       "      <td>Emin Gün Sirer🔺</td>\n",
       "      <td>el33th4xor</td>\n",
       "      <td>RT @avalancheavax: Since launching in June 202...</td>\n",
       "      <td>2022-09-16</td>\n",
       "      <td>retweet</td>\n",
       "      <td>243</td>\n",
       "      <td>0</td>\n",
       "      <td>16</td>\n",
       "      <td>9</td>\n",
       "      <td>2022</td>\n",
       "    </tr>\n",
       "    <tr>\n",
       "      <th>2</th>\n",
       "      <td>1570038348722348038</td>\n",
       "      <td>Emin Gün Sirer🔺</td>\n",
       "      <td>el33th4xor</td>\n",
       "      <td>RT @coopernicus01: 2/3 https://t.co/qphQ4fIVsg</td>\n",
       "      <td>2022-09-14</td>\n",
       "      <td>retweet</td>\n",
       "      <td>23</td>\n",
       "      <td>0</td>\n",
       "      <td>14</td>\n",
       "      <td>9</td>\n",
       "      <td>2022</td>\n",
       "    </tr>\n",
       "    <tr>\n",
       "      <th>3</th>\n",
       "      <td>1567951483718737921</td>\n",
       "      <td>Emin Gün Sirer🔺</td>\n",
       "      <td>el33th4xor</td>\n",
       "      <td>RT @azzabazazz: At the🔺 Barcelona Summit the f...</td>\n",
       "      <td>2022-09-08</td>\n",
       "      <td>retweet</td>\n",
       "      <td>18</td>\n",
       "      <td>0</td>\n",
       "      <td>8</td>\n",
       "      <td>9</td>\n",
       "      <td>2022</td>\n",
       "    </tr>\n",
       "    <tr>\n",
       "      <th>4</th>\n",
       "      <td>1567877473114652673</td>\n",
       "      <td>Emin Gün Sirer🔺</td>\n",
       "      <td>el33th4xor</td>\n",
       "      <td>RT @wellsda2: Very excited to finally announce...</td>\n",
       "      <td>2022-09-08</td>\n",
       "      <td>retweet</td>\n",
       "      <td>26</td>\n",
       "      <td>0</td>\n",
       "      <td>8</td>\n",
       "      <td>9</td>\n",
       "      <td>2022</td>\n",
       "    </tr>\n",
       "  </tbody>\n",
       "</table>\n",
       "</div>"
      ],
      "text/plain": [
       "              Tweet_id             Name Screen_name  \\\n",
       "0  1571865858926063616  Emin Gün Sirer🔺  el33th4xor   \n",
       "1  1570566440499187712  Emin Gün Sirer🔺  el33th4xor   \n",
       "2  1570038348722348038  Emin Gün Sirer🔺  el33th4xor   \n",
       "3  1567951483718737921  Emin Gün Sirer🔺  el33th4xor   \n",
       "4  1567877473114652673  Emin Gün Sirer🔺  el33th4xor   \n",
       "\n",
       "                                               Tweet        Date Category  \\\n",
       "0  RT @RaoulGMI: A great conversation with my fri...  2022-09-19  retweet   \n",
       "1  RT @avalancheavax: Since launching in June 202...  2022-09-16  retweet   \n",
       "2     RT @coopernicus01: 2/3 https://t.co/qphQ4fIVsg  2022-09-14  retweet   \n",
       "3  RT @azzabazazz: At the🔺 Barcelona Summit the f...  2022-09-08  retweet   \n",
       "4  RT @wellsda2: Very excited to finally announce...  2022-09-08  retweet   \n",
       "\n",
       "   N_of_RT  N_of_fav  Day  Month  Year  \n",
       "0       71         0   19      9  2022  \n",
       "1      243         0   16      9  2022  \n",
       "2       23         0   14      9  2022  \n",
       "3       18         0    8      9  2022  \n",
       "4       26         0    8      9  2022  "
      ]
     },
     "execution_count": 20,
     "metadata": {},
     "output_type": "execute_result"
    }
   ],
   "source": [
    "#seperation according to categories \n",
    "retweet_df = df[df[\"Category\"] == \"retweet\"]\n",
    "retweet_df.reset_index(inplace = True, drop=True)\n",
    "quote_df = df[df[\"Category\"] == \"quote\"]\n",
    "quote_df.reset_index(inplace = True, drop=True)\n",
    "reply_df = df[df[\"Category\"] == \"reply\"]\n",
    "reply_df.reset_index(inplace = True, drop=True)\n",
    "direct_df = df[df[\"Category\"] == \"direct\"]\n",
    "direct_df.reset_index(inplace = True, drop=True)\n",
    "retweet_df.head()"
   ]
  },
  {
   "cell_type": "markdown",
   "metadata": {},
   "source": [
    "# Taking User Object"
   ]
  },
  {
   "cell_type": "code",
   "execution_count": 21,
   "metadata": {},
   "outputs": [
    {
     "data": {
      "text/plain": [
       "'Emin Gün Sirer🔺'"
      ]
     },
     "execution_count": 21,
     "metadata": {},
     "output_type": "execute_result"
    }
   ],
   "source": [
    "user_try = api.get_user(screen_name = \"el33th4xor\")\n",
    "user_try.name"
   ]
  },
  {
   "cell_type": "markdown",
   "metadata": {},
   "source": [
    "# Statistics and Visualization"
   ]
  },
  {
   "cell_type": "code",
   "execution_count": 22,
   "metadata": {},
   "outputs": [
    {
     "data": {
      "text/html": [
       "<div>\n",
       "<style scoped>\n",
       "    .dataframe tbody tr th:only-of-type {\n",
       "        vertical-align: middle;\n",
       "    }\n",
       "\n",
       "    .dataframe tbody tr th {\n",
       "        vertical-align: top;\n",
       "    }\n",
       "\n",
       "    .dataframe thead th {\n",
       "        text-align: right;\n",
       "    }\n",
       "</style>\n",
       "<table border=\"1\" class=\"dataframe\">\n",
       "  <thead>\n",
       "    <tr style=\"text-align: right;\">\n",
       "      <th></th>\n",
       "      <th>Tweet_id</th>\n",
       "      <th>N_of_RT</th>\n",
       "      <th>N_of_fav</th>\n",
       "      <th>Day</th>\n",
       "      <th>Month</th>\n",
       "      <th>Year</th>\n",
       "    </tr>\n",
       "  </thead>\n",
       "  <tbody>\n",
       "    <tr>\n",
       "      <th>Tweet_id</th>\n",
       "      <td>1.000000</td>\n",
       "      <td>-0.042656</td>\n",
       "      <td>-0.036671</td>\n",
       "      <td>-0.441511</td>\n",
       "      <td>0.876350</td>\n",
       "      <td>NaN</td>\n",
       "    </tr>\n",
       "    <tr>\n",
       "      <th>N_of_RT</th>\n",
       "      <td>-0.042656</td>\n",
       "      <td>1.000000</td>\n",
       "      <td>0.890602</td>\n",
       "      <td>0.147114</td>\n",
       "      <td>-0.107116</td>\n",
       "      <td>NaN</td>\n",
       "    </tr>\n",
       "    <tr>\n",
       "      <th>N_of_fav</th>\n",
       "      <td>-0.036671</td>\n",
       "      <td>0.890602</td>\n",
       "      <td>1.000000</td>\n",
       "      <td>0.121129</td>\n",
       "      <td>-0.090990</td>\n",
       "      <td>NaN</td>\n",
       "    </tr>\n",
       "    <tr>\n",
       "      <th>Day</th>\n",
       "      <td>-0.441511</td>\n",
       "      <td>0.147114</td>\n",
       "      <td>0.121129</td>\n",
       "      <td>1.000000</td>\n",
       "      <td>-0.818954</td>\n",
       "      <td>NaN</td>\n",
       "    </tr>\n",
       "    <tr>\n",
       "      <th>Month</th>\n",
       "      <td>0.876350</td>\n",
       "      <td>-0.107116</td>\n",
       "      <td>-0.090990</td>\n",
       "      <td>-0.818954</td>\n",
       "      <td>1.000000</td>\n",
       "      <td>NaN</td>\n",
       "    </tr>\n",
       "    <tr>\n",
       "      <th>Year</th>\n",
       "      <td>NaN</td>\n",
       "      <td>NaN</td>\n",
       "      <td>NaN</td>\n",
       "      <td>NaN</td>\n",
       "      <td>NaN</td>\n",
       "      <td>NaN</td>\n",
       "    </tr>\n",
       "  </tbody>\n",
       "</table>\n",
       "</div>"
      ],
      "text/plain": [
       "          Tweet_id   N_of_RT  N_of_fav       Day     Month  Year\n",
       "Tweet_id  1.000000 -0.042656 -0.036671 -0.441511  0.876350   NaN\n",
       "N_of_RT  -0.042656  1.000000  0.890602  0.147114 -0.107116   NaN\n",
       "N_of_fav -0.036671  0.890602  1.000000  0.121129 -0.090990   NaN\n",
       "Day      -0.441511  0.147114  0.121129  1.000000 -0.818954   NaN\n",
       "Month     0.876350 -0.107116 -0.090990 -0.818954  1.000000   NaN\n",
       "Year           NaN       NaN       NaN       NaN       NaN   NaN"
      ]
     },
     "execution_count": 22,
     "metadata": {},
     "output_type": "execute_result"
    }
   ],
   "source": [
    "df.corr()"
   ]
  },
  {
   "cell_type": "code",
   "execution_count": 23,
   "metadata": {},
   "outputs": [
    {
     "data": {
      "image/png": "[encoded data removed]",
      "text/plain": [
       "<Figure size 1008x504 with 1 Axes>"
      ]
     },
     "metadata": {
      "needs_background": "light"
     },
     "output_type": "display_data"
    }
   ],
   "source": [
    "plot1 = retweet_df.groupby(\"Day\")[\"Tweet_id\"].count()\n",
    "plot2 = quote_df.groupby(\"Day\")[\"Tweet_id\"].count()\n",
    "plot3 = reply_df.groupby(\"Day\")[\"Tweet_id\"].count()\n",
    "plot4 = direct_df.groupby(\"Day\")[\"Tweet_id\"].count()\n",
    "plt.figure(figsize = (14,7))\n",
    "ax= plt.subplot()\n",
    "ax.bar(plot1.index-0.3, plot1.values, width = 0.2, color = \"pink\", align = \"center\", label = \"Retweet\")\n",
    "ax.bar(plot2.index-0.1, plot2.values, width = 0.2, color = \"yellow\", align = \"center\", label = \"Quote\")\n",
    "ax.bar(plot3.index+0.1, plot3.values, width = 0.2, color = \"purple\", align = \"center\", label = \"Reply\")\n",
    "ax.bar(plot4.index+0.3, plot4.values, width = 0.2, color = \"grey\", align = \"center\", label = \"Direct\")\n",
    "plt.title(\"Number of Tweets According to Category per Day\")\n",
    "plt.ylabel(\"Number of Tweets\")\n",
    "plt.xlabel(\"Days\")\n",
    "#they are not sorted from 1 to 30 or 31, last they is today and first day is one month earlier. There is need for a solution also.\n",
    "plt.xticks([1,2,3,4,5,6,7,8,9,10,11,12,13,14,15,16,17,18,19,20,21,22,23,24,25,26,27,28,29,30,31]) #find a solution for changes of number of days in a month\n",
    "plt.legend()\n",
    "plt.show()"
   ]
  },
  {
   "cell_type": "code",
   "execution_count": null,
   "metadata": {},
   "outputs": [],
   "source": []
  },
  {
   "cell_type": "code",
   "execution_count": null,
   "metadata": {},
   "outputs": [],
   "source": []
  }
 ],
 "metadata": {
  "kernelspec": {
   "display_name": "Python 3",
   "language": "python",
   "name": "python3"
  },
  "language_info": {
   "codemirror_mode": {
    "name": "ipython",
    "version": 3
   },
   "file_extension": ".py",
   "mimetype": "text/x-python",
   "name": "python",
   "nbconvert_exporter": "python",
   "pygments_lexer": "ipython3",
   "version": "3.8.3"
  }
 },
 "nbformat": 4,
 "nbformat_minor": 4
}
