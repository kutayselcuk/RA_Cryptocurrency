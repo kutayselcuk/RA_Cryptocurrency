{
 "cells": [
  {
   "cell_type": "code",
   "execution_count": 1,
   "metadata": {},
   "outputs": [],
   "source": [
    "# Import Libraries\n",
    "import tweepy as tw\n",
    "import configparser\n",
    "import pandas as pd\n",
    "import numpy as np\n",
    "import matplotlib.pyplot as plt\n",
    "import seaborn as sns\n",
    "import sklearn\n",
    "import re\n",
    "import nltk\n",
    "import datetime\n",
    "from datetime import datetime as datetime_price\n",
    "import pytz\n",
    "from dateutil.relativedelta import relativedelta\n",
    "import time"
   ]
  },
  {
   "cell_type": "markdown",
   "metadata": {},
   "source": [
    "# Authentication for API"
   ]
  },
  {
   "cell_type": "code",
   "execution_count": 2,
   "metadata": {},
   "outputs": [],
   "source": [
    "keys = pd.read_csv(r\"C:\\Users\\Kutay\\Desktop\\My Docs\\My Docs v2.0\\Data Science\\RA\\RA Work\\Cryptocurrency\\Input\\TW API Keys\\apikeys.csv\")\n",
    "\n",
    "my_api_key = keys[\"Keys\"][0]\n",
    "my_api_secret = keys[\"Keys\"][1]\n",
    "\n",
    "my_access_token = keys[\"Keys\"][2]\n",
    "my_access_token_secret = keys[\"Keys\"][3]"
   ]
  },
  {
   "cell_type": "code",
   "execution_count": 3,
   "metadata": {},
   "outputs": [],
   "source": [
    "# your Twitter API key ans access token\n",
    "api_key = my_api_key\n",
    "api_secret = my_api_secret\n",
    "\n",
    "access_token = my_access_token\n",
    "access_token_secret = my_access_token_secret"
   ]
  },
  {
   "cell_type": "code",
   "execution_count": 4,
   "metadata": {},
   "outputs": [],
   "source": [
    "# authenticate\n",
    "auth = tw.OAuthHandler(my_api_key, my_api_secret)\n",
    "auth.set_access_token(access_token, access_token_secret)"
   ]
  },
  {
   "cell_type": "code",
   "execution_count": 5,
   "metadata": {},
   "outputs": [],
   "source": [
    "api = tw.API(auth, wait_on_rate_limit=True)"
   ]
  },
  {
   "cell_type": "markdown",
   "metadata": {},
   "source": [
    "# Insert the List of Users"
   ]
  },
  {
   "cell_type": "code",
   "execution_count": 6,
   "metadata": {},
   "outputs": [
    {
     "data": {
      "text/html": [
       "<div>\n",
       "<style scoped>\n",
       "    .dataframe tbody tr th:only-of-type {\n",
       "        vertical-align: middle;\n",
       "    }\n",
       "\n",
       "    .dataframe tbody tr th {\n",
       "        vertical-align: top;\n",
       "    }\n",
       "\n",
       "    .dataframe thead th {\n",
       "        text-align: right;\n",
       "    }\n",
       "</style>\n",
       "<table border=\"1\" class=\"dataframe\">\n",
       "  <thead>\n",
       "    <tr style=\"text-align: right;\">\n",
       "      <th></th>\n",
       "      <th>Coin</th>\n",
       "      <th>ID</th>\n",
       "      <th>Owner/Influence</th>\n",
       "      <th>Name</th>\n",
       "      <th>Screen_name</th>\n",
       "      <th>Status</th>\n",
       "      <th>Why did I choose this person?</th>\n",
       "    </tr>\n",
       "  </thead>\n",
       "  <tbody>\n",
       "    <tr>\n",
       "      <th>0</th>\n",
       "      <td>Ethereum</td>\n",
       "      <td>ethereum</td>\n",
       "      <td>Vitalik Buterin</td>\n",
       "      <td>vitalik.eth</td>\n",
       "      <td>VitalikButerin</td>\n",
       "      <td>co-founder</td>\n",
       "      <td>he is also known in crypto world</td>\n",
       "    </tr>\n",
       "    <tr>\n",
       "      <th>1</th>\n",
       "      <td>BNB</td>\n",
       "      <td>binancecoin</td>\n",
       "      <td>Changpeng Zhao</td>\n",
       "      <td>CZ ??Binance</td>\n",
       "      <td>cz_binance</td>\n",
       "      <td>CEO</td>\n",
       "      <td>NaN</td>\n",
       "    </tr>\n",
       "    <tr>\n",
       "      <th>2</th>\n",
       "      <td>XRP</td>\n",
       "      <td>ripple</td>\n",
       "      <td>Brad Garlinghouse</td>\n",
       "      <td>Brad Garlinghouse</td>\n",
       "      <td>bgarlinghouse</td>\n",
       "      <td>CEO</td>\n",
       "      <td>NaN</td>\n",
       "    </tr>\n",
       "    <tr>\n",
       "      <th>3</th>\n",
       "      <td>ADA(Cardano)</td>\n",
       "      <td>cardano</td>\n",
       "      <td>Charles Hoskinson</td>\n",
       "      <td>Charles Hoskinson</td>\n",
       "      <td>IOHK_Charles</td>\n",
       "      <td>CEO/co-founder</td>\n",
       "      <td>NaN</td>\n",
       "    </tr>\n",
       "    <tr>\n",
       "      <th>4</th>\n",
       "      <td>DOGE</td>\n",
       "      <td>dogecoin</td>\n",
       "      <td>Elon Musk</td>\n",
       "      <td>Elon Musk</td>\n",
       "      <td>elonmusk</td>\n",
       "      <td>influencer</td>\n",
       "      <td>as a popular figure, highly interested in this...</td>\n",
       "    </tr>\n",
       "    <tr>\n",
       "      <th>5</th>\n",
       "      <td>MATIC(Polygon)</td>\n",
       "      <td>matic-network</td>\n",
       "      <td>Sandeep Nailwal</td>\n",
       "      <td>Sandeep | Polygon ????3??</td>\n",
       "      <td>sandeepnailwal</td>\n",
       "      <td>co-founder</td>\n",
       "      <td>he seems more active than other co-founders</td>\n",
       "    </tr>\n",
       "    <tr>\n",
       "      <th>6</th>\n",
       "      <td>DOT(Polkadot)</td>\n",
       "      <td>polkadot</td>\n",
       "      <td>WEB3 Foundation</td>\n",
       "      <td>Web3 Foundation</td>\n",
       "      <td>Web3foundation</td>\n",
       "      <td>foundation</td>\n",
       "      <td>there is no account of CEO or sth</td>\n",
       "    </tr>\n",
       "    <tr>\n",
       "      <th>7</th>\n",
       "      <td>HEX</td>\n",
       "      <td>hex</td>\n",
       "      <td>Richard Heart</td>\n",
       "      <td>Richard Heart</td>\n",
       "      <td>RichardHeartWin</td>\n",
       "      <td>CEO</td>\n",
       "      <td>NaN</td>\n",
       "    </tr>\n",
       "    <tr>\n",
       "      <th>8</th>\n",
       "      <td>WTRX</td>\n",
       "      <td>wrapped-tron</td>\n",
       "      <td>Justin Sun</td>\n",
       "      <td>H.E. Justin Sun</td>\n",
       "      <td>justinsuntron</td>\n",
       "      <td>founder</td>\n",
       "      <td>same with TRX!</td>\n",
       "    </tr>\n",
       "    <tr>\n",
       "      <th>9</th>\n",
       "      <td>SHIB</td>\n",
       "      <td>shiba-inu</td>\n",
       "      <td>Elon Musk</td>\n",
       "      <td>Elon Musk</td>\n",
       "      <td>elonmusk</td>\n",
       "      <td>influencer</td>\n",
       "      <td>as a popular figure, highly interested in this...</td>\n",
       "    </tr>\n",
       "    <tr>\n",
       "      <th>10</th>\n",
       "      <td>SOL</td>\n",
       "      <td>solana</td>\n",
       "      <td>Solana</td>\n",
       "      <td>Solana</td>\n",
       "      <td>solana</td>\n",
       "      <td>company</td>\n",
       "      <td>there is no account of CEO or sth</td>\n",
       "    </tr>\n",
       "    <tr>\n",
       "      <th>11</th>\n",
       "      <td>TRX</td>\n",
       "      <td>tron</td>\n",
       "      <td>Justin Sun</td>\n",
       "      <td>H.E. Justin Sun</td>\n",
       "      <td>justinsuntron</td>\n",
       "      <td>founder</td>\n",
       "      <td>same with WTRX!</td>\n",
       "    </tr>\n",
       "    <tr>\n",
       "      <th>12</th>\n",
       "      <td>UNI</td>\n",
       "      <td>uniswap</td>\n",
       "      <td>Uniswap</td>\n",
       "      <td>Uniswap Labs ??</td>\n",
       "      <td>Uniswap</td>\n",
       "      <td>company</td>\n",
       "      <td>there is no account of CEO or sth</td>\n",
       "    </tr>\n",
       "    <tr>\n",
       "      <th>13</th>\n",
       "      <td>LTC</td>\n",
       "      <td>litecoin</td>\n",
       "      <td>Charlie Lee</td>\n",
       "      <td>Charlie Lee ?????</td>\n",
       "      <td>SatoshiLite</td>\n",
       "      <td>founder</td>\n",
       "      <td>NaN</td>\n",
       "    </tr>\n",
       "    <tr>\n",
       "      <th>14</th>\n",
       "      <td>AVAX</td>\n",
       "      <td>avalanche-2</td>\n",
       "      <td>Emin Gün Sirer</td>\n",
       "      <td>Emin Gün Sirer??</td>\n",
       "      <td>el33th4xor</td>\n",
       "      <td>CEO</td>\n",
       "      <td>NaN</td>\n",
       "    </tr>\n",
       "    <tr>\n",
       "      <th>15</th>\n",
       "      <td>LINK</td>\n",
       "      <td>chainlink</td>\n",
       "      <td>Sergey Nazarov</td>\n",
       "      <td>Sergey Nazarov</td>\n",
       "      <td>SergeyNazarov</td>\n",
       "      <td>founder</td>\n",
       "      <td>NaN</td>\n",
       "    </tr>\n",
       "    <tr>\n",
       "      <th>16</th>\n",
       "      <td>ATOM</td>\n",
       "      <td>cosmos</td>\n",
       "      <td>Ethan Buchman</td>\n",
       "      <td>Ethan Buchman</td>\n",
       "      <td>buchmanster</td>\n",
       "      <td>co-founder</td>\n",
       "      <td>NaN</td>\n",
       "    </tr>\n",
       "  </tbody>\n",
       "</table>\n",
       "</div>"
      ],
      "text/plain": [
       "              Coin             ID    Owner/Influence  \\\n",
       "0         Ethereum       ethereum    Vitalik Buterin   \n",
       "1              BNB    binancecoin     Changpeng Zhao   \n",
       "2              XRP         ripple  Brad Garlinghouse   \n",
       "3     ADA(Cardano)        cardano  Charles Hoskinson   \n",
       "4             DOGE       dogecoin          Elon Musk   \n",
       "5   MATIC(Polygon)  matic-network    Sandeep Nailwal   \n",
       "6    DOT(Polkadot)       polkadot    WEB3 Foundation   \n",
       "7              HEX            hex      Richard Heart   \n",
       "8             WTRX   wrapped-tron         Justin Sun   \n",
       "9             SHIB      shiba-inu          Elon Musk   \n",
       "10             SOL         solana             Solana   \n",
       "11             TRX           tron         Justin Sun   \n",
       "12             UNI        uniswap            Uniswap   \n",
       "13             LTC       litecoin        Charlie Lee   \n",
       "14            AVAX    avalanche-2     Emin Gün Sirer   \n",
       "15            LINK      chainlink     Sergey Nazarov   \n",
       "16            ATOM         cosmos      Ethan Buchman   \n",
       "\n",
       "                         Name      Screen_name          Status  \\\n",
       "0                 vitalik.eth   VitalikButerin      co-founder   \n",
       "1                CZ ??Binance       cz_binance             CEO   \n",
       "2           Brad Garlinghouse    bgarlinghouse             CEO   \n",
       "3           Charles Hoskinson     IOHK_Charles  CEO/co-founder   \n",
       "4                   Elon Musk         elonmusk      influencer   \n",
       "5   Sandeep | Polygon ????3??   sandeepnailwal      co-founder   \n",
       "6             Web3 Foundation   Web3foundation      foundation   \n",
       "7               Richard Heart  RichardHeartWin             CEO   \n",
       "8             H.E. Justin Sun    justinsuntron         founder   \n",
       "9                   Elon Musk         elonmusk      influencer   \n",
       "10                     Solana           solana         company   \n",
       "11            H.E. Justin Sun    justinsuntron         founder   \n",
       "12            Uniswap Labs ??          Uniswap         company   \n",
       "13          Charlie Lee ?????      SatoshiLite         founder   \n",
       "14           Emin Gün Sirer??       el33th4xor             CEO   \n",
       "15             Sergey Nazarov    SergeyNazarov         founder   \n",
       "16              Ethan Buchman      buchmanster      co-founder   \n",
       "\n",
       "                        Why did I choose this person?  \n",
       "0                    he is also known in crypto world  \n",
       "1                                                 NaN  \n",
       "2                                                 NaN  \n",
       "3                                                 NaN  \n",
       "4   as a popular figure, highly interested in this...  \n",
       "5         he seems more active than other co-founders  \n",
       "6                  there is no account of CEO or sth   \n",
       "7                                                 NaN  \n",
       "8                                      same with TRX!  \n",
       "9   as a popular figure, highly interested in this...  \n",
       "10                 there is no account of CEO or sth   \n",
       "11                                    same with WTRX!  \n",
       "12                 there is no account of CEO or sth   \n",
       "13                                                NaN  \n",
       "14                                                NaN  \n",
       "15                                                NaN  \n",
       "16                                                NaN  "
      ]
     },
     "execution_count": 6,
     "metadata": {},
     "output_type": "execute_result"
    }
   ],
   "source": [
    "user_df = pd.read_csv(r\"C:\\Users\\Kutay\\Desktop\\My Docs\\My Docs v2.0\\Data Science\\RA\\RA Work\\Cryptocurrency\\Input/Top 20 Cryptocurrencies and Related TW Accounts.csv\", encoding= 'unicode_escape')\n",
    "user_df"
   ]
  },
  {
   "cell_type": "markdown",
   "metadata": {},
   "source": [
    "# Taking Tweets of List of Users"
   ]
  },
  {
   "cell_type": "markdown",
   "metadata": {},
   "source": [
    "user = \"el33th4xor\"\n",
    "limit = 300"
   ]
  },
  {
   "cell_type": "code",
   "execution_count": 43,
   "metadata": {},
   "outputs": [],
   "source": [
    "endDate = datetime.datetime.now()\n",
    "startDate = endDate - relativedelta(days = 1) #days, months, years can be used to calculate\n",
    "\n",
    "utc=pytz.UTC\n",
    "\n",
    "startDate = utc.localize(startDate) \n",
    "endDate = utc.localize(endDate)"
   ]
  },
  {
   "cell_type": "code",
   "execution_count": 8,
   "metadata": {},
   "outputs": [],
   "source": [
    "columns = [\"Tweet_id\", \"Name\", \"Screen_name\", \"Tweet\", \"Date\", \"Category\", \"N_of_RT\", \"N_of_fav\", \"Related_coin\"]"
   ]
  },
  {
   "cell_type": "markdown",
   "metadata": {},
   "source": [
    "--old version of taking tweets\n",
    "#cursor can be used for just one time, be careful about that, save and use use data frame/s for next steps\n",
    "tweets = tw.Cursor(api.user_timeline, \n",
    "                   screen_name = user, count = 200, \n",
    "                   tweet_mode = \"extended\").items(limit)"
   ]
  },
  {
   "cell_type": "code",
   "execution_count": 9,
   "metadata": {},
   "outputs": [],
   "source": [
    "def take_tweets(sc_name):\n",
    "    tweets = []\n",
    "    tmpTweets = api.user_timeline(screen_name = sc_name)\n",
    "    for tweet in tmpTweets:\n",
    "        if tweet.created_at < endDate and tweet.created_at > startDate:\n",
    "            tweets.append(tweet)\n",
    "\n",
    "        \n",
    "    while (tmpTweets[-1].created_at > startDate):\n",
    "        tmpTweets = api.user_timeline(screen_name = sc_name, max_id = tmpTweets[-1].id)\n",
    "        for tweet in tmpTweets:\n",
    "            if tweet.created_at < endDate and tweet.created_at > startDate:\n",
    "                tweets.append(tweet)\n",
    "    return tweets"
   ]
  },
  {
   "cell_type": "code",
   "execution_count": 10,
   "metadata": {},
   "outputs": [],
   "source": [
    "def categorize_tweets(tweets):\n",
    "    \n",
    "    data = []\n",
    "    term_rt = \"RT\"\n",
    "    for tweet in tweets:\n",
    "    \n",
    "        #for consecutive tweets, next one is shown primaryly in data frame, I can check with using hours and minutes if necessary\n",
    "        date = tweet.created_at\n",
    "        date = date.strftime('%Y-%m-%d')\n",
    "    \n",
    "        #retweet and favorite counts\n",
    "        number_of_retweet = tweet.retweet_count\n",
    "        number_of_favorite = tweet.favorite_count\n",
    "    \n",
    "    \n",
    "        #it's gonna be direct tweet if all the checks below fail\n",
    "        category_specified = \"direct\"\n",
    "\n",
    "        #retweet check\n",
    "        if term_rt in tweet.text.split():\n",
    "\n",
    "            category_specified = \"retweet\"\n",
    "\n",
    "        #quote(rt with comment) check\n",
    "        elif tweet.is_quote_status is True:\n",
    "            category_specified = \"quote\"\n",
    "\n",
    "        #reply check\n",
    "        elif tweet.in_reply_to_status_id is not None:\n",
    "            category_specified = \"reply\"\n",
    "\n",
    "        data.append([tweet.id, tweet.user.name, tweet.user.screen_name, tweet.text, date, category_specified, number_of_retweet, number_of_favorite, \"\"])\n",
    "    \n",
    "    df_met = pd.DataFrame(data, columns = columns)\n",
    "    return df_met"
   ]
  },
  {
   "cell_type": "code",
   "execution_count": 11,
   "metadata": {},
   "outputs": [],
   "source": [
    "df = pd.DataFrame(columns = columns)\n",
    "\n",
    "index_counter_1 = 0;\n",
    "for x in user_df.Screen_name:\n",
    "    \n",
    "    taken_tweets = take_tweets(x)\n",
    "    df_met_2 = categorize_tweets(taken_tweets)\n",
    "    \n",
    "    df_met_2[\"Related_coin\"] = user_df[\"ID\"][index_counter_1]\n",
    "    index_counter_1 += 1\n",
    "    \n",
    "    df = df.append(df_met_2)\n",
    "\n",
    "df = df[[\"Tweet_id\", \"Name\", \"Screen_name\", \"Related_coin\", \"Tweet\", \"Date\", \"Category\", \"N_of_RT\", \"N_of_fav\"]]"
   ]
  },
  {
   "cell_type": "code",
   "execution_count": 12,
   "metadata": {},
   "outputs": [
    {
     "data": {
      "text/html": [
       "<div>\n",
       "<style scoped>\n",
       "    .dataframe tbody tr th:only-of-type {\n",
       "        vertical-align: middle;\n",
       "    }\n",
       "\n",
       "    .dataframe tbody tr th {\n",
       "        vertical-align: top;\n",
       "    }\n",
       "\n",
       "    .dataframe thead th {\n",
       "        text-align: right;\n",
       "    }\n",
       "</style>\n",
       "<table border=\"1\" class=\"dataframe\">\n",
       "  <thead>\n",
       "    <tr style=\"text-align: right;\">\n",
       "      <th></th>\n",
       "      <th>Tweet_id</th>\n",
       "      <th>Name</th>\n",
       "      <th>Screen_name</th>\n",
       "      <th>Related_coin</th>\n",
       "      <th>Tweet</th>\n",
       "      <th>Date</th>\n",
       "      <th>Category</th>\n",
       "      <th>N_of_RT</th>\n",
       "      <th>N_of_fav</th>\n",
       "    </tr>\n",
       "  </thead>\n",
       "  <tbody>\n",
       "    <tr>\n",
       "      <th>0</th>\n",
       "      <td>1600207021810204672</td>\n",
       "      <td>vitalik.eth</td>\n",
       "      <td>VitalikButerin</td>\n",
       "      <td>ethereum</td>\n",
       "      <td>RT @optimismFND: Today, we’re incredibly excit...</td>\n",
       "      <td>2022-12-06</td>\n",
       "      <td>retweet</td>\n",
       "      <td>159</td>\n",
       "      <td>0</td>\n",
       "    </tr>\n",
       "    <tr>\n",
       "      <th>1</th>\n",
       "      <td>1600186648435650561</td>\n",
       "      <td>vitalik.eth</td>\n",
       "      <td>VitalikButerin</td>\n",
       "      <td>ethereum</td>\n",
       "      <td>@TheAtlantic makes a similar case, and expands...</td>\n",
       "      <td>2022-12-06</td>\n",
       "      <td>quote</td>\n",
       "      <td>2</td>\n",
       "      <td>11</td>\n",
       "    </tr>\n",
       "    <tr>\n",
       "      <th>2</th>\n",
       "      <td>1600182231934283776</td>\n",
       "      <td>vitalik.eth</td>\n",
       "      <td>VitalikButerin</td>\n",
       "      <td>ethereum</td>\n",
       "      <td>RT @mysticryuujin: ANOTHER non-censoring relay...</td>\n",
       "      <td>2022-12-06</td>\n",
       "      <td>retweet</td>\n",
       "      <td>37</td>\n",
       "      <td>0</td>\n",
       "    </tr>\n",
       "    <tr>\n",
       "      <th>3</th>\n",
       "      <td>1600177830683238405</td>\n",
       "      <td>vitalik.eth</td>\n",
       "      <td>VitalikButerin</td>\n",
       "      <td>ethereum</td>\n",
       "      <td>@CoinDesk @Bitstamp @EliBenSasson @dimahledba ...</td>\n",
       "      <td>2022-12-06</td>\n",
       "      <td>reply</td>\n",
       "      <td>17</td>\n",
       "      <td>128</td>\n",
       "    </tr>\n",
       "    <tr>\n",
       "      <th>4</th>\n",
       "      <td>1600138834196705280</td>\n",
       "      <td>vitalik.eth</td>\n",
       "      <td>VitalikButerin</td>\n",
       "      <td>ethereum</td>\n",
       "      <td>RT @VitalikButerin: @CoinDesk @Bitstamp Sure! ...</td>\n",
       "      <td>2022-12-06</td>\n",
       "      <td>retweet</td>\n",
       "      <td>120</td>\n",
       "      <td>0</td>\n",
       "    </tr>\n",
       "    <tr>\n",
       "      <th>...</th>\n",
       "      <td>...</td>\n",
       "      <td>...</td>\n",
       "      <td>...</td>\n",
       "      <td>...</td>\n",
       "      <td>...</td>\n",
       "      <td>...</td>\n",
       "      <td>...</td>\n",
       "      <td>...</td>\n",
       "      <td>...</td>\n",
       "    </tr>\n",
       "    <tr>\n",
       "      <th>12</th>\n",
       "      <td>1599970443166818304</td>\n",
       "      <td>Ethan Buchman (🐝,🦇)</td>\n",
       "      <td>buchmanster</td>\n",
       "      <td>cosmos</td>\n",
       "      <td>i think something really changed over the earl...</td>\n",
       "      <td>2022-12-06</td>\n",
       "      <td>reply</td>\n",
       "      <td>0</td>\n",
       "      <td>14</td>\n",
       "    </tr>\n",
       "    <tr>\n",
       "      <th>13</th>\n",
       "      <td>1599970440944177152</td>\n",
       "      <td>Ethan Buchman (🐝,🦇)</td>\n",
       "      <td>buchmanster</td>\n",
       "      <td>cosmos</td>\n",
       "      <td>you can call this \"doomsaying\", i'd prefer to ...</td>\n",
       "      <td>2022-12-06</td>\n",
       "      <td>reply</td>\n",
       "      <td>0</td>\n",
       "      <td>13</td>\n",
       "    </tr>\n",
       "    <tr>\n",
       "      <th>14</th>\n",
       "      <td>1599970439312605189</td>\n",
       "      <td>Ethan Buchman (🐝,🦇)</td>\n",
       "      <td>buchmanster</td>\n",
       "      <td>cosmos</td>\n",
       "      <td>we're effectively putting more of our future n...</td>\n",
       "      <td>2022-12-06</td>\n",
       "      <td>reply</td>\n",
       "      <td>0</td>\n",
       "      <td>12</td>\n",
       "    </tr>\n",
       "    <tr>\n",
       "      <th>15</th>\n",
       "      <td>1599970437600927744</td>\n",
       "      <td>Ethan Buchman (🐝,🦇)</td>\n",
       "      <td>buchmanster</td>\n",
       "      <td>cosmos</td>\n",
       "      <td>i dont know how to measure crises impact. but ...</td>\n",
       "      <td>2022-12-06</td>\n",
       "      <td>reply</td>\n",
       "      <td>0</td>\n",
       "      <td>17</td>\n",
       "    </tr>\n",
       "    <tr>\n",
       "      <th>16</th>\n",
       "      <td>1599970435323465728</td>\n",
       "      <td>Ethan Buchman (🐝,🦇)</td>\n",
       "      <td>buchmanster</td>\n",
       "      <td>cosmos</td>\n",
       "      <td>Responding in thread. \\n\\nFew things to unpack...</td>\n",
       "      <td>2022-12-06</td>\n",
       "      <td>quote</td>\n",
       "      <td>3</td>\n",
       "      <td>34</td>\n",
       "    </tr>\n",
       "  </tbody>\n",
       "</table>\n",
       "<p>149 rows × 9 columns</p>\n",
       "</div>"
      ],
      "text/plain": [
       "               Tweet_id                 Name     Screen_name Related_coin  \\\n",
       "0   1600207021810204672          vitalik.eth  VitalikButerin     ethereum   \n",
       "1   1600186648435650561          vitalik.eth  VitalikButerin     ethereum   \n",
       "2   1600182231934283776          vitalik.eth  VitalikButerin     ethereum   \n",
       "3   1600177830683238405          vitalik.eth  VitalikButerin     ethereum   \n",
       "4   1600138834196705280          vitalik.eth  VitalikButerin     ethereum   \n",
       "..                  ...                  ...             ...          ...   \n",
       "12  1599970443166818304  Ethan Buchman (🐝,🦇)     buchmanster       cosmos   \n",
       "13  1599970440944177152  Ethan Buchman (🐝,🦇)     buchmanster       cosmos   \n",
       "14  1599970439312605189  Ethan Buchman (🐝,🦇)     buchmanster       cosmos   \n",
       "15  1599970437600927744  Ethan Buchman (🐝,🦇)     buchmanster       cosmos   \n",
       "16  1599970435323465728  Ethan Buchman (🐝,🦇)     buchmanster       cosmos   \n",
       "\n",
       "                                                Tweet        Date Category  \\\n",
       "0   RT @optimismFND: Today, we’re incredibly excit...  2022-12-06  retweet   \n",
       "1   @TheAtlantic makes a similar case, and expands...  2022-12-06    quote   \n",
       "2   RT @mysticryuujin: ANOTHER non-censoring relay...  2022-12-06  retweet   \n",
       "3   @CoinDesk @Bitstamp @EliBenSasson @dimahledba ...  2022-12-06    reply   \n",
       "4   RT @VitalikButerin: @CoinDesk @Bitstamp Sure! ...  2022-12-06  retweet   \n",
       "..                                                ...         ...      ...   \n",
       "12  i think something really changed over the earl...  2022-12-06    reply   \n",
       "13  you can call this \"doomsaying\", i'd prefer to ...  2022-12-06    reply   \n",
       "14  we're effectively putting more of our future n...  2022-12-06    reply   \n",
       "15  i dont know how to measure crises impact. but ...  2022-12-06    reply   \n",
       "16  Responding in thread. \\n\\nFew things to unpack...  2022-12-06    quote   \n",
       "\n",
       "   N_of_RT N_of_fav  \n",
       "0      159        0  \n",
       "1        2       11  \n",
       "2       37        0  \n",
       "3       17      128  \n",
       "4      120        0  \n",
       "..     ...      ...  \n",
       "12       0       14  \n",
       "13       0       13  \n",
       "14       0       12  \n",
       "15       0       17  \n",
       "16       3       34  \n",
       "\n",
       "[149 rows x 9 columns]"
      ]
     },
     "execution_count": 12,
     "metadata": {},
     "output_type": "execute_result"
    }
   ],
   "source": [
    "df"
   ]
  },
  {
   "cell_type": "code",
   "execution_count": 13,
   "metadata": {},
   "outputs": [],
   "source": [
    "#removing duplications, reseting index\n",
    "df.drop_duplicates(inplace = True)\n",
    "df.reset_index(inplace = True, drop = True)"
   ]
  },
  {
   "cell_type": "raw",
   "metadata": {},
   "source": [
    "\"\"\" example code \"\"\"\n",
    "this is the way take tweets with limit which is 200\n",
    "tweets = api.user_timeline(screen_name = user,\n",
    "                           count = limit,\n",
    "                           include_rts = True,\n",
    "                           tweet_mode = \"extended\")\n",
    "\"\"\"                           "
   ]
  },
  {
   "cell_type": "code",
   "execution_count": 14,
   "metadata": {},
   "outputs": [],
   "source": [
    "#seperating dat-month-year\n",
    "df['Day'] = pd.DatetimeIndex(df['Date']).day\n",
    "df['Month'] = pd.DatetimeIndex(df['Date']).month\n",
    "df['Year'] = pd.DatetimeIndex(df['Date']).year"
   ]
  },
  {
   "cell_type": "code",
   "execution_count": 15,
   "metadata": {},
   "outputs": [
    {
     "data": {
      "text/plain": [
       "(147, 12)"
      ]
     },
     "execution_count": 15,
     "metadata": {},
     "output_type": "execute_result"
    }
   ],
   "source": [
    "df.shape"
   ]
  },
  {
   "cell_type": "code",
   "execution_count": 16,
   "metadata": {},
   "outputs": [
    {
     "data": {
      "text/plain": [
       "False"
      ]
     },
     "execution_count": 16,
     "metadata": {},
     "output_type": "execute_result"
    }
   ],
   "source": [
    "#null check --> if it is \"False\", we all ok\n",
    "df.isna().any().any()"
   ]
  },
  {
   "cell_type": "code",
   "execution_count": 17,
   "metadata": {},
   "outputs": [
    {
     "name": "stdout",
     "output_type": "stream",
     "text": [
      "<class 'pandas.core.frame.DataFrame'>\n",
      "RangeIndex: 147 entries, 0 to 146\n",
      "Data columns (total 12 columns):\n",
      " #   Column        Non-Null Count  Dtype \n",
      "---  ------        --------------  ----- \n",
      " 0   Tweet_id      147 non-null    object\n",
      " 1   Name          147 non-null    object\n",
      " 2   Screen_name   147 non-null    object\n",
      " 3   Related_coin  147 non-null    object\n",
      " 4   Tweet         147 non-null    object\n",
      " 5   Date          147 non-null    object\n",
      " 6   Category      147 non-null    object\n",
      " 7   N_of_RT       147 non-null    object\n",
      " 8   N_of_fav      147 non-null    object\n",
      " 9   Day           147 non-null    int64 \n",
      " 10  Month         147 non-null    int64 \n",
      " 11  Year          147 non-null    int64 \n",
      "dtypes: int64(3), object(9)\n",
      "memory usage: 13.9+ KB\n"
     ]
    }
   ],
   "source": [
    "df.info()"
   ]
  },
  {
   "cell_type": "code",
   "execution_count": 18,
   "metadata": {},
   "outputs": [
    {
     "data": {
      "text/plain": [
       "0"
      ]
     },
     "execution_count": 18,
     "metadata": {},
     "output_type": "execute_result"
    }
   ],
   "source": [
    "#duplication check\n",
    "df[df.duplicated(keep=False)].shape[0]"
   ]
  },
  {
   "cell_type": "code",
   "execution_count": 19,
   "metadata": {
    "scrolled": false
   },
   "outputs": [
    {
     "data": {
      "text/html": [
       "<div>\n",
       "<style scoped>\n",
       "    .dataframe tbody tr th:only-of-type {\n",
       "        vertical-align: middle;\n",
       "    }\n",
       "\n",
       "    .dataframe tbody tr th {\n",
       "        vertical-align: top;\n",
       "    }\n",
       "\n",
       "    .dataframe thead th {\n",
       "        text-align: right;\n",
       "    }\n",
       "</style>\n",
       "<table border=\"1\" class=\"dataframe\">\n",
       "  <thead>\n",
       "    <tr style=\"text-align: right;\">\n",
       "      <th></th>\n",
       "      <th>Tweet_id</th>\n",
       "      <th>Name</th>\n",
       "      <th>Screen_name</th>\n",
       "      <th>Related_coin</th>\n",
       "      <th>Tweet</th>\n",
       "      <th>Date</th>\n",
       "      <th>Category</th>\n",
       "      <th>N_of_RT</th>\n",
       "      <th>N_of_fav</th>\n",
       "      <th>Day</th>\n",
       "      <th>Month</th>\n",
       "      <th>Year</th>\n",
       "    </tr>\n",
       "  </thead>\n",
       "  <tbody>\n",
       "    <tr>\n",
       "      <th>0</th>\n",
       "      <td>1600207021810204672</td>\n",
       "      <td>vitalik.eth</td>\n",
       "      <td>VitalikButerin</td>\n",
       "      <td>ethereum</td>\n",
       "      <td>RT @optimismFND: Today, we’re incredibly excit...</td>\n",
       "      <td>2022-12-06</td>\n",
       "      <td>retweet</td>\n",
       "      <td>159</td>\n",
       "      <td>0</td>\n",
       "      <td>6</td>\n",
       "      <td>12</td>\n",
       "      <td>2022</td>\n",
       "    </tr>\n",
       "    <tr>\n",
       "      <th>1</th>\n",
       "      <td>1600186648435650561</td>\n",
       "      <td>vitalik.eth</td>\n",
       "      <td>VitalikButerin</td>\n",
       "      <td>ethereum</td>\n",
       "      <td>@TheAtlantic makes a similar case, and expands...</td>\n",
       "      <td>2022-12-06</td>\n",
       "      <td>quote</td>\n",
       "      <td>2</td>\n",
       "      <td>11</td>\n",
       "      <td>6</td>\n",
       "      <td>12</td>\n",
       "      <td>2022</td>\n",
       "    </tr>\n",
       "    <tr>\n",
       "      <th>2</th>\n",
       "      <td>1600182231934283776</td>\n",
       "      <td>vitalik.eth</td>\n",
       "      <td>VitalikButerin</td>\n",
       "      <td>ethereum</td>\n",
       "      <td>RT @mysticryuujin: ANOTHER non-censoring relay...</td>\n",
       "      <td>2022-12-06</td>\n",
       "      <td>retweet</td>\n",
       "      <td>37</td>\n",
       "      <td>0</td>\n",
       "      <td>6</td>\n",
       "      <td>12</td>\n",
       "      <td>2022</td>\n",
       "    </tr>\n",
       "    <tr>\n",
       "      <th>3</th>\n",
       "      <td>1600177830683238405</td>\n",
       "      <td>vitalik.eth</td>\n",
       "      <td>VitalikButerin</td>\n",
       "      <td>ethereum</td>\n",
       "      <td>@CoinDesk @Bitstamp @EliBenSasson @dimahledba ...</td>\n",
       "      <td>2022-12-06</td>\n",
       "      <td>reply</td>\n",
       "      <td>17</td>\n",
       "      <td>128</td>\n",
       "      <td>6</td>\n",
       "      <td>12</td>\n",
       "      <td>2022</td>\n",
       "    </tr>\n",
       "    <tr>\n",
       "      <th>4</th>\n",
       "      <td>1600138834196705280</td>\n",
       "      <td>vitalik.eth</td>\n",
       "      <td>VitalikButerin</td>\n",
       "      <td>ethereum</td>\n",
       "      <td>RT @VitalikButerin: @CoinDesk @Bitstamp Sure! ...</td>\n",
       "      <td>2022-12-06</td>\n",
       "      <td>retweet</td>\n",
       "      <td>120</td>\n",
       "      <td>0</td>\n",
       "      <td>6</td>\n",
       "      <td>12</td>\n",
       "      <td>2022</td>\n",
       "    </tr>\n",
       "  </tbody>\n",
       "</table>\n",
       "</div>"
      ],
      "text/plain": [
       "              Tweet_id         Name     Screen_name Related_coin  \\\n",
       "0  1600207021810204672  vitalik.eth  VitalikButerin     ethereum   \n",
       "1  1600186648435650561  vitalik.eth  VitalikButerin     ethereum   \n",
       "2  1600182231934283776  vitalik.eth  VitalikButerin     ethereum   \n",
       "3  1600177830683238405  vitalik.eth  VitalikButerin     ethereum   \n",
       "4  1600138834196705280  vitalik.eth  VitalikButerin     ethereum   \n",
       "\n",
       "                                               Tweet        Date Category  \\\n",
       "0  RT @optimismFND: Today, we’re incredibly excit...  2022-12-06  retweet   \n",
       "1  @TheAtlantic makes a similar case, and expands...  2022-12-06    quote   \n",
       "2  RT @mysticryuujin: ANOTHER non-censoring relay...  2022-12-06  retweet   \n",
       "3  @CoinDesk @Bitstamp @EliBenSasson @dimahledba ...  2022-12-06    reply   \n",
       "4  RT @VitalikButerin: @CoinDesk @Bitstamp Sure! ...  2022-12-06  retweet   \n",
       "\n",
       "  N_of_RT N_of_fav  Day  Month  Year  \n",
       "0     159        0    6     12  2022  \n",
       "1       2       11    6     12  2022  \n",
       "2      37        0    6     12  2022  \n",
       "3      17      128    6     12  2022  \n",
       "4     120        0    6     12  2022  "
      ]
     },
     "execution_count": 19,
     "metadata": {},
     "output_type": "execute_result"
    }
   ],
   "source": [
    "pd.set_option(\"max_rows\", None)\n",
    "df.to_excel(r\"tweets.xlsx\")\n",
    "df.head()"
   ]
  },
  {
   "cell_type": "code",
   "execution_count": 20,
   "metadata": {
    "scrolled": true
   },
   "outputs": [
    {
     "data": {
      "text/html": [
       "<div>\n",
       "<style scoped>\n",
       "    .dataframe tbody tr th:only-of-type {\n",
       "        vertical-align: middle;\n",
       "    }\n",
       "\n",
       "    .dataframe tbody tr th {\n",
       "        vertical-align: top;\n",
       "    }\n",
       "\n",
       "    .dataframe thead th {\n",
       "        text-align: right;\n",
       "    }\n",
       "</style>\n",
       "<table border=\"1\" class=\"dataframe\">\n",
       "  <thead>\n",
       "    <tr style=\"text-align: right;\">\n",
       "      <th></th>\n",
       "      <th>Tweet_id</th>\n",
       "      <th>Name</th>\n",
       "      <th>Screen_name</th>\n",
       "      <th>Related_coin</th>\n",
       "      <th>Tweet</th>\n",
       "      <th>Date</th>\n",
       "      <th>Category</th>\n",
       "      <th>N_of_RT</th>\n",
       "      <th>N_of_fav</th>\n",
       "      <th>Day</th>\n",
       "      <th>Month</th>\n",
       "      <th>Year</th>\n",
       "    </tr>\n",
       "  </thead>\n",
       "  <tbody>\n",
       "    <tr>\n",
       "      <th>0</th>\n",
       "      <td>1600207021810204672</td>\n",
       "      <td>vitalik.eth</td>\n",
       "      <td>VitalikButerin</td>\n",
       "      <td>ethereum</td>\n",
       "      <td>RT @optimismFND: Today, we’re incredibly excit...</td>\n",
       "      <td>2022-12-06</td>\n",
       "      <td>retweet</td>\n",
       "      <td>159</td>\n",
       "      <td>0</td>\n",
       "      <td>6</td>\n",
       "      <td>12</td>\n",
       "      <td>2022</td>\n",
       "    </tr>\n",
       "    <tr>\n",
       "      <th>1</th>\n",
       "      <td>1600182231934283776</td>\n",
       "      <td>vitalik.eth</td>\n",
       "      <td>VitalikButerin</td>\n",
       "      <td>ethereum</td>\n",
       "      <td>RT @mysticryuujin: ANOTHER non-censoring relay...</td>\n",
       "      <td>2022-12-06</td>\n",
       "      <td>retweet</td>\n",
       "      <td>37</td>\n",
       "      <td>0</td>\n",
       "      <td>6</td>\n",
       "      <td>12</td>\n",
       "      <td>2022</td>\n",
       "    </tr>\n",
       "    <tr>\n",
       "      <th>2</th>\n",
       "      <td>1600138834196705280</td>\n",
       "      <td>vitalik.eth</td>\n",
       "      <td>VitalikButerin</td>\n",
       "      <td>ethereum</td>\n",
       "      <td>RT @VitalikButerin: @CoinDesk @Bitstamp Sure! ...</td>\n",
       "      <td>2022-12-06</td>\n",
       "      <td>retweet</td>\n",
       "      <td>120</td>\n",
       "      <td>0</td>\n",
       "      <td>6</td>\n",
       "      <td>12</td>\n",
       "      <td>2022</td>\n",
       "    </tr>\n",
       "    <tr>\n",
       "      <th>3</th>\n",
       "      <td>1600074635164340224</td>\n",
       "      <td>CZ 🔶 Binance</td>\n",
       "      <td>cz_binance</td>\n",
       "      <td>binancecoin</td>\n",
       "      <td>RT @BinanceBCF: We believe Web3 education and ...</td>\n",
       "      <td>2022-12-06</td>\n",
       "      <td>retweet</td>\n",
       "      <td>299</td>\n",
       "      <td>0</td>\n",
       "      <td>6</td>\n",
       "      <td>12</td>\n",
       "      <td>2022</td>\n",
       "    </tr>\n",
       "    <tr>\n",
       "      <th>4</th>\n",
       "      <td>1599998444625543170</td>\n",
       "      <td>CZ 🔶 Binance</td>\n",
       "      <td>cz_binance</td>\n",
       "      <td>binancecoin</td>\n",
       "      <td>RT @Binance_AUS: We have concluded our first S...</td>\n",
       "      <td>2022-12-06</td>\n",
       "      <td>retweet</td>\n",
       "      <td>162</td>\n",
       "      <td>0</td>\n",
       "      <td>6</td>\n",
       "      <td>12</td>\n",
       "      <td>2022</td>\n",
       "    </tr>\n",
       "  </tbody>\n",
       "</table>\n",
       "</div>"
      ],
      "text/plain": [
       "              Tweet_id          Name     Screen_name Related_coin  \\\n",
       "0  1600207021810204672   vitalik.eth  VitalikButerin     ethereum   \n",
       "1  1600182231934283776   vitalik.eth  VitalikButerin     ethereum   \n",
       "2  1600138834196705280   vitalik.eth  VitalikButerin     ethereum   \n",
       "3  1600074635164340224  CZ 🔶 Binance      cz_binance  binancecoin   \n",
       "4  1599998444625543170  CZ 🔶 Binance      cz_binance  binancecoin   \n",
       "\n",
       "                                               Tweet        Date Category  \\\n",
       "0  RT @optimismFND: Today, we’re incredibly excit...  2022-12-06  retweet   \n",
       "1  RT @mysticryuujin: ANOTHER non-censoring relay...  2022-12-06  retweet   \n",
       "2  RT @VitalikButerin: @CoinDesk @Bitstamp Sure! ...  2022-12-06  retweet   \n",
       "3  RT @BinanceBCF: We believe Web3 education and ...  2022-12-06  retweet   \n",
       "4  RT @Binance_AUS: We have concluded our first S...  2022-12-06  retweet   \n",
       "\n",
       "  N_of_RT N_of_fav  Day  Month  Year  \n",
       "0     159        0    6     12  2022  \n",
       "1      37        0    6     12  2022  \n",
       "2     120        0    6     12  2022  \n",
       "3     299        0    6     12  2022  \n",
       "4     162        0    6     12  2022  "
      ]
     },
     "execution_count": 20,
     "metadata": {},
     "output_type": "execute_result"
    }
   ],
   "source": [
    "#seperation according to categories \n",
    "retweet_df = df[df[\"Category\"] == \"retweet\"]\n",
    "retweet_df.reset_index(inplace = True, drop=True)\n",
    "quote_df = df[df[\"Category\"] == \"quote\"]\n",
    "quote_df.reset_index(inplace = True, drop=True)\n",
    "reply_df = df[df[\"Category\"] == \"reply\"]\n",
    "reply_df.reset_index(inplace = True, drop=True)\n",
    "direct_df = df[df[\"Category\"] == \"direct\"]\n",
    "direct_df.reset_index(inplace = True, drop=True)\n",
    "retweet_df.head()"
   ]
  },
  {
   "cell_type": "markdown",
   "metadata": {},
   "source": [
    "# Taking User Object"
   ]
  },
  {
   "cell_type": "code",
   "execution_count": 21,
   "metadata": {},
   "outputs": [
    {
     "data": {
      "text/plain": [
       "'Emin Gün Sirer🔺'"
      ]
     },
     "execution_count": 21,
     "metadata": {},
     "output_type": "execute_result"
    }
   ],
   "source": [
    "user_try = api.get_user(screen_name = \"el33th4xor\")\n",
    "user_try.name"
   ]
  },
  {
   "cell_type": "markdown",
   "metadata": {},
   "source": [
    "# Follower - Followed"
   ]
  },
  {
   "cell_type": "markdown",
   "metadata": {},
   "source": [
    "check this part of code later??????????????? cursor object is not itterable?"
   ]
  },
  {
   "cell_type": "code",
   "execution_count": 22,
   "metadata": {},
   "outputs": [],
   "source": [
    "user = \"el33th4xor\"\n",
    "followers = []\n",
    "get_followers = api.get_followers(screen_name = user)\n",
    "#get_followers = tw.Cursor(api.get_followers, id = user)\n",
    "\n",
    "for user in get_followers:\n",
    "    followers.append(user)"
   ]
  },
  {
   "cell_type": "code",
   "execution_count": 23,
   "metadata": {},
   "outputs": [
    {
     "data": {
      "text/plain": [
       "20"
      ]
     },
     "execution_count": 23,
     "metadata": {},
     "output_type": "execute_result"
    }
   ],
   "source": [
    "len(followers)"
   ]
  },
  {
   "cell_type": "code",
   "execution_count": 24,
   "metadata": {},
   "outputs": [],
   "source": [
    "columns_follower = [\"User_id\", \"Name\", \"Screen_name\", \"Verification_st\", \"Followers_count\", \"Followed_count\"]\n",
    "data_followers = []"
   ]
  },
  {
   "cell_type": "code",
   "execution_count": 25,
   "metadata": {},
   "outputs": [],
   "source": [
    "for user in followers:\n",
    "    data_followers.append([user.id, user.name, user.screen_name, user.verified, user.followers_count, user.friends_count])"
   ]
  },
  {
   "cell_type": "code",
   "execution_count": 26,
   "metadata": {},
   "outputs": [
    {
     "data": {
      "text/html": [
       "<div>\n",
       "<style scoped>\n",
       "    .dataframe tbody tr th:only-of-type {\n",
       "        vertical-align: middle;\n",
       "    }\n",
       "\n",
       "    .dataframe tbody tr th {\n",
       "        vertical-align: top;\n",
       "    }\n",
       "\n",
       "    .dataframe thead th {\n",
       "        text-align: right;\n",
       "    }\n",
       "</style>\n",
       "<table border=\"1\" class=\"dataframe\">\n",
       "  <thead>\n",
       "    <tr style=\"text-align: right;\">\n",
       "      <th></th>\n",
       "      <th>User_id</th>\n",
       "      <th>Name</th>\n",
       "      <th>Screen_name</th>\n",
       "      <th>Verification_st</th>\n",
       "      <th>Followers_count</th>\n",
       "      <th>Followed_count</th>\n",
       "    </tr>\n",
       "  </thead>\n",
       "  <tbody>\n",
       "    <tr>\n",
       "      <th>0</th>\n",
       "      <td>1587495209423839239</td>\n",
       "      <td>Patrick Keane</td>\n",
       "      <td>PJKgb</td>\n",
       "      <td>False</td>\n",
       "      <td>12</td>\n",
       "      <td>105</td>\n",
       "    </tr>\n",
       "    <tr>\n",
       "      <th>1</th>\n",
       "      <td>1600216195411677211</td>\n",
       "      <td>Andjusticeforall</td>\n",
       "      <td>Andjust65192353</td>\n",
       "      <td>False</td>\n",
       "      <td>1</td>\n",
       "      <td>102</td>\n",
       "    </tr>\n",
       "    <tr>\n",
       "      <th>2</th>\n",
       "      <td>190417462</td>\n",
       "      <td>TB</td>\n",
       "      <td>myksas</td>\n",
       "      <td>False</td>\n",
       "      <td>130</td>\n",
       "      <td>699</td>\n",
       "    </tr>\n",
       "    <tr>\n",
       "      <th>3</th>\n",
       "      <td>1432556581384826886</td>\n",
       "      <td>787</td>\n",
       "      <td>7888787878o</td>\n",
       "      <td>False</td>\n",
       "      <td>117</td>\n",
       "      <td>713</td>\n",
       "    </tr>\n",
       "    <tr>\n",
       "      <th>4</th>\n",
       "      <td>2274685784</td>\n",
       "      <td>Dober Man</td>\n",
       "      <td>ky313</td>\n",
       "      <td>False</td>\n",
       "      <td>5</td>\n",
       "      <td>138</td>\n",
       "    </tr>\n",
       "    <tr>\n",
       "      <th>5</th>\n",
       "      <td>359176918</td>\n",
       "      <td>Gabriel</td>\n",
       "      <td>gabriel_7x7</td>\n",
       "      <td>False</td>\n",
       "      <td>283</td>\n",
       "      <td>616</td>\n",
       "    </tr>\n",
       "    <tr>\n",
       "      <th>6</th>\n",
       "      <td>4728283932</td>\n",
       "      <td>Arun Rajpurohit</td>\n",
       "      <td>ArunRajpurohi3</td>\n",
       "      <td>False</td>\n",
       "      <td>48</td>\n",
       "      <td>527</td>\n",
       "    </tr>\n",
       "    <tr>\n",
       "      <th>7</th>\n",
       "      <td>2835575204</td>\n",
       "      <td>Bruce Wayne</td>\n",
       "      <td>djbayne24</td>\n",
       "      <td>False</td>\n",
       "      <td>92</td>\n",
       "      <td>604</td>\n",
       "    </tr>\n",
       "    <tr>\n",
       "      <th>8</th>\n",
       "      <td>1600181030790565894</td>\n",
       "      <td>Sascha</td>\n",
       "      <td>TezSCORUs</td>\n",
       "      <td>False</td>\n",
       "      <td>1</td>\n",
       "      <td>56</td>\n",
       "    </tr>\n",
       "    <tr>\n",
       "      <th>9</th>\n",
       "      <td>1546142246357041154</td>\n",
       "      <td>T</td>\n",
       "      <td>gecersizyorum</td>\n",
       "      <td>False</td>\n",
       "      <td>20</td>\n",
       "      <td>791</td>\n",
       "    </tr>\n",
       "    <tr>\n",
       "      <th>10</th>\n",
       "      <td>1478007980201291778</td>\n",
       "      <td>Hakan Yılmaz</td>\n",
       "      <td>HakanxYlmazx</td>\n",
       "      <td>False</td>\n",
       "      <td>56</td>\n",
       "      <td>119</td>\n",
       "    </tr>\n",
       "    <tr>\n",
       "      <th>11</th>\n",
       "      <td>1599511729679089696</td>\n",
       "      <td>Nico</td>\n",
       "      <td>NicoIsTheGuy</td>\n",
       "      <td>False</td>\n",
       "      <td>10</td>\n",
       "      <td>180</td>\n",
       "    </tr>\n",
       "    <tr>\n",
       "      <th>12</th>\n",
       "      <td>1349494743387021314</td>\n",
       "      <td>abdullah taher</td>\n",
       "      <td>abdulla60135369</td>\n",
       "      <td>False</td>\n",
       "      <td>20</td>\n",
       "      <td>180</td>\n",
       "    </tr>\n",
       "    <tr>\n",
       "      <th>13</th>\n",
       "      <td>1598957768127356928</td>\n",
       "      <td>Rah aT</td>\n",
       "      <td>RahaT19348119</td>\n",
       "      <td>False</td>\n",
       "      <td>7</td>\n",
       "      <td>245</td>\n",
       "    </tr>\n",
       "    <tr>\n",
       "      <th>14</th>\n",
       "      <td>1598983184267595776</td>\n",
       "      <td>Presler</td>\n",
       "      <td>NetBurstPresler</td>\n",
       "      <td>False</td>\n",
       "      <td>7</td>\n",
       "      <td>781</td>\n",
       "    </tr>\n",
       "    <tr>\n",
       "      <th>15</th>\n",
       "      <td>1588996611744612353</td>\n",
       "      <td>Guinapolize</td>\n",
       "      <td>guinapolize</td>\n",
       "      <td>False</td>\n",
       "      <td>3</td>\n",
       "      <td>17</td>\n",
       "    </tr>\n",
       "    <tr>\n",
       "      <th>16</th>\n",
       "      <td>1394701665102667785</td>\n",
       "      <td>🔺Another Whitelist Hunter🕵️(💙,🧡)</td>\n",
       "      <td>hasxancrypto</td>\n",
       "      <td>False</td>\n",
       "      <td>116</td>\n",
       "      <td>502</td>\n",
       "    </tr>\n",
       "    <tr>\n",
       "      <th>17</th>\n",
       "      <td>1296451892344573958</td>\n",
       "      <td>cy63r6lrd</td>\n",
       "      <td>cy63r61rd</td>\n",
       "      <td>False</td>\n",
       "      <td>26</td>\n",
       "      <td>481</td>\n",
       "    </tr>\n",
       "    <tr>\n",
       "      <th>18</th>\n",
       "      <td>1519805267734634497</td>\n",
       "      <td>🏳️‍🌈Demonking1691🏳️‍🌈</td>\n",
       "      <td>DanielNations7</td>\n",
       "      <td>False</td>\n",
       "      <td>191</td>\n",
       "      <td>546</td>\n",
       "    </tr>\n",
       "    <tr>\n",
       "      <th>19</th>\n",
       "      <td>1600155486623596546</td>\n",
       "      <td>Bruna Konma</td>\n",
       "      <td>BrunaKonma</td>\n",
       "      <td>False</td>\n",
       "      <td>0</td>\n",
       "      <td>4</td>\n",
       "    </tr>\n",
       "  </tbody>\n",
       "</table>\n",
       "</div>"
      ],
      "text/plain": [
       "                User_id                              Name      Screen_name  \\\n",
       "0   1587495209423839239                     Patrick Keane            PJKgb   \n",
       "1   1600216195411677211                  Andjusticeforall  Andjust65192353   \n",
       "2             190417462                                TB           myksas   \n",
       "3   1432556581384826886                               787      7888787878o   \n",
       "4            2274685784                         Dober Man            ky313   \n",
       "5             359176918                           Gabriel      gabriel_7x7   \n",
       "6            4728283932                   Arun Rajpurohit   ArunRajpurohi3   \n",
       "7            2835575204                       Bruce Wayne        djbayne24   \n",
       "8   1600181030790565894                            Sascha        TezSCORUs   \n",
       "9   1546142246357041154                                 T    gecersizyorum   \n",
       "10  1478007980201291778                      Hakan Yılmaz     HakanxYlmazx   \n",
       "11  1599511729679089696                              Nico     NicoIsTheGuy   \n",
       "12  1349494743387021314                    abdullah taher  abdulla60135369   \n",
       "13  1598957768127356928                            Rah aT    RahaT19348119   \n",
       "14  1598983184267595776                           Presler  NetBurstPresler   \n",
       "15  1588996611744612353                       Guinapolize      guinapolize   \n",
       "16  1394701665102667785  🔺Another Whitelist Hunter🕵️(💙,🧡)     hasxancrypto   \n",
       "17  1296451892344573958                         cy63r6lrd        cy63r61rd   \n",
       "18  1519805267734634497             🏳️‍🌈Demonking1691🏳️‍🌈   DanielNations7   \n",
       "19  1600155486623596546                       Bruna Konma       BrunaKonma   \n",
       "\n",
       "    Verification_st  Followers_count  Followed_count  \n",
       "0             False               12             105  \n",
       "1             False                1             102  \n",
       "2             False              130             699  \n",
       "3             False              117             713  \n",
       "4             False                5             138  \n",
       "5             False              283             616  \n",
       "6             False               48             527  \n",
       "7             False               92             604  \n",
       "8             False                1              56  \n",
       "9             False               20             791  \n",
       "10            False               56             119  \n",
       "11            False               10             180  \n",
       "12            False               20             180  \n",
       "13            False                7             245  \n",
       "14            False                7             781  \n",
       "15            False                3              17  \n",
       "16            False              116             502  \n",
       "17            False               26             481  \n",
       "18            False              191             546  \n",
       "19            False                0               4  "
      ]
     },
     "execution_count": 26,
     "metadata": {},
     "output_type": "execute_result"
    }
   ],
   "source": [
    "df_follower = pd.DataFrame(data_followers, columns = columns_follower)\n",
    "df_follower"
   ]
  },
  {
   "cell_type": "code",
   "execution_count": 27,
   "metadata": {},
   "outputs": [],
   "source": [
    "df_follower.drop_duplicates(inplace = True)\n",
    "df_follower.reset_index(inplace = True, drop = True)"
   ]
  },
  {
   "cell_type": "markdown",
   "metadata": {},
   "source": [
    "# Statistics and Visualization"
   ]
  },
  {
   "cell_type": "markdown",
   "metadata": {},
   "source": [
    "Graph should be addepted to new version of df(with lots of users)"
   ]
  },
  {
   "cell_type": "code",
   "execution_count": 28,
   "metadata": {},
   "outputs": [
    {
     "data": {
      "text/html": [
       "<div>\n",
       "<style scoped>\n",
       "    .dataframe tbody tr th:only-of-type {\n",
       "        vertical-align: middle;\n",
       "    }\n",
       "\n",
       "    .dataframe tbody tr th {\n",
       "        vertical-align: top;\n",
       "    }\n",
       "\n",
       "    .dataframe thead th {\n",
       "        text-align: right;\n",
       "    }\n",
       "</style>\n",
       "<table border=\"1\" class=\"dataframe\">\n",
       "  <thead>\n",
       "    <tr style=\"text-align: right;\">\n",
       "      <th></th>\n",
       "      <th>Day</th>\n",
       "      <th>Month</th>\n",
       "      <th>Year</th>\n",
       "    </tr>\n",
       "  </thead>\n",
       "  <tbody>\n",
       "    <tr>\n",
       "      <th>Day</th>\n",
       "      <td>NaN</td>\n",
       "      <td>NaN</td>\n",
       "      <td>NaN</td>\n",
       "    </tr>\n",
       "    <tr>\n",
       "      <th>Month</th>\n",
       "      <td>NaN</td>\n",
       "      <td>NaN</td>\n",
       "      <td>NaN</td>\n",
       "    </tr>\n",
       "    <tr>\n",
       "      <th>Year</th>\n",
       "      <td>NaN</td>\n",
       "      <td>NaN</td>\n",
       "      <td>NaN</td>\n",
       "    </tr>\n",
       "  </tbody>\n",
       "</table>\n",
       "</div>"
      ],
      "text/plain": [
       "       Day  Month  Year\n",
       "Day    NaN    NaN   NaN\n",
       "Month  NaN    NaN   NaN\n",
       "Year   NaN    NaN   NaN"
      ]
     },
     "execution_count": 28,
     "metadata": {},
     "output_type": "execute_result"
    }
   ],
   "source": [
    "df.corr()"
   ]
  },
  {
   "cell_type": "code",
   "execution_count": 29,
   "metadata": {},
   "outputs": [
    {
     "data": {
      "image/png": "[encoded data removed]",
      "text/plain": [
       "<Figure size 1008x504 with 1 Axes>"
      ]
     },
     "metadata": {
      "needs_background": "light"
     },
     "output_type": "display_data"
    }
   ],
   "source": [
    "plot1 = retweet_df.groupby(\"Day\")[\"Tweet_id\"].count()\n",
    "plot2 = quote_df.groupby(\"Day\")[\"Tweet_id\"].count()\n",
    "plot3 = reply_df.groupby(\"Day\")[\"Tweet_id\"].count()\n",
    "plot4 = direct_df.groupby(\"Day\")[\"Tweet_id\"].count()\n",
    "plt.figure(figsize = (14,7))\n",
    "ax= plt.subplot()\n",
    "ax.bar(plot1.index-0.3, plot1.values, width = 0.2, color = \"pink\", align = \"center\", label = \"Retweet\")\n",
    "ax.bar(plot2.index-0.1, plot2.values, width = 0.2, color = \"yellow\", align = \"center\", label = \"Quote\")\n",
    "ax.bar(plot3.index+0.1, plot3.values, width = 0.2, color = \"purple\", align = \"center\", label = \"Reply\")\n",
    "ax.bar(plot4.index+0.3, plot4.values, width = 0.2, color = \"grey\", align = \"center\", label = \"Direct\")\n",
    "plt.title(\"Number of Tweets According to Category per Day\")\n",
    "plt.ylabel(\"Number of Tweets\")\n",
    "plt.xlabel(\"Days\")\n",
    "#they are not sorted from 1 to 30 or 31, last they is today and first day is one month earlier. There is need for a solution also.\n",
    "plt.xticks([1,2,3,4,5,6,7,8,9,10,11,12,13,14,15,16,17,18,19,20,21,22,23,24,25,26,27,28,29,30,31]) #find a solution for changes of number of days in a month\n",
    "plt.legend()\n",
    "plt.show()"
   ]
  },
  {
   "cell_type": "markdown",
   "metadata": {},
   "source": [
    "# Coin Data"
   ]
  },
  {
   "cell_type": "markdown",
   "metadata": {},
   "source": [
    "## example of getting price data"
   ]
  },
  {
   "cell_type": "code",
   "execution_count": 54,
   "metadata": {},
   "outputs": [],
   "source": [
    "from pycoingecko import CoinGeckoAPI\n",
    "cg = CoinGeckoAPI()"
   ]
  },
  {
   "cell_type": "code",
   "execution_count": 32,
   "metadata": {},
   "outputs": [
    {
     "data": {
      "text/plain": [
       "{'bitcoin': {'usd': 16982.65}}"
      ]
     },
     "execution_count": 32,
     "metadata": {},
     "output_type": "execute_result"
    }
   ],
   "source": [
    "cg.get_price(ids = \"bitcoin\", vs_currencies = \"usd\")"
   ]
  },
  {
   "cell_type": "code",
   "execution_count": 33,
   "metadata": {},
   "outputs": [
    {
     "data": {
      "text/plain": [
       "{'prices': [[1670361854000, 16979.960669803095]],\n",
       " 'market_caps': [[1670361854000, 326616216586.1723]],\n",
       " 'total_volumes': [[1670361854000, 20167917734.541286]]}"
      ]
     },
     "execution_count": 33,
     "metadata": {},
     "output_type": "execute_result"
    }
   ],
   "source": [
    "deneme = cg.get_coin_market_chart_by_id(id = \"bitcoin\", vs_currency = \"usd\", days = 0)\n",
    "deneme"
   ]
  },
  {
   "cell_type": "code",
   "execution_count": 34,
   "metadata": {},
   "outputs": [
    {
     "name": "stdout",
     "output_type": "stream",
     "text": [
      "1670361854000\n"
     ]
    }
   ],
   "source": [
    "deneme2 = deneme[\"prices\"][0][0]\n",
    "print(deneme2)"
   ]
  },
  {
   "cell_type": "code",
   "execution_count": 35,
   "metadata": {},
   "outputs": [
    {
     "name": "stdout",
     "output_type": "stream",
     "text": [
      "2022-12-07 00:24:14\n"
     ]
    }
   ],
   "source": [
    "deneme3 = datetime.fromtimestamp(deneme2/1000)\n",
    "print(deneme3)"
   ]
  },
  {
   "cell_type": "markdown",
   "metadata": {},
   "source": [
    "## example of getting historical data"
   ]
  },
  {
   "cell_type": "markdown",
   "metadata": {},
   "source": [
    "#by date\n",
    "cg.get_coin_history_by_id(id='bitcoin',date='10-11-2020', localization='false')"
   ]
  },
  {
   "cell_type": "markdown",
   "metadata": {},
   "source": [
    "price_data = cg.get_coin_market_chart_by_id(id='bitcoin',vs_currency='usd',days= 0)\n",
    "price_data"
   ]
  },
  {
   "cell_type": "markdown",
   "metadata": {},
   "source": [
    "price_df_columns = [\"timestamps\", \"price\" ]\n",
    "df_price = pd.DataFrame(price_data[\"prices\"], columns = price_df_columns)\n",
    "#df_price[\"timestamps\"] = df_price[\"timestamps\"]\n",
    "df_price"
   ]
  },
  {
   "cell_type": "markdown",
   "metadata": {},
   "source": [
    "#use it because of UNIX time format: unit='s'\n",
    "df_price['Datetime'] = pd.to_datetime(df_price['timestamps']/1000, unit='s')\n",
    "df_price = df_price[[\"timestamps\", \"Datetime\", \"price\"]]\n",
    "df_price"
   ]
  },
  {
   "cell_type": "markdown",
   "metadata": {},
   "source": [
    "#getting by timespant interval\n",
    "a = cg.get_coin_market_chart_range_by_id(id='bitcoin',vs_currency='usd',from_timestamp='1605096000',to_timestamp='1605099600')\n",
    "a"
   ]
  },
  {
   "cell_type": "markdown",
   "metadata": {},
   "source": [
    "# Getting Historical Price Data"
   ]
  },
  {
   "cell_type": "code",
   "execution_count": 44,
   "metadata": {},
   "outputs": [
    {
     "name": "stdout",
     "output_type": "stream",
     "text": [
      "1670361972.846948\n",
      "1670361372.846948\n"
     ]
    }
   ],
   "source": [
    "endDate_price = datetime.datetime.now()\n",
    "startDate_price = endDate_price- datetime.timedelta(minutes = 10)\n",
    "#startDate_price = endDate_price - relativedelta(days = 1) #days, months, years can be used to calculate\n",
    "\n",
    "\n",
    "ts_endDate_price = datetime_price.timestamp(endDate_price)\n",
    "ts_startDate_price = datetime_price.timestamp(startDate_price)"
   ]
  },
  {
   "cell_type": "code",
   "execution_count": 45,
   "metadata": {},
   "outputs": [],
   "source": [
    "def get_price(coin_ids):\n",
    "    \n",
    "    result = pd.DataFrame(columns = [\"ID\", \"timestamps\", \"date_time\", \"price\", \"market_caps\", \"volumes\"])\n",
    "    for x in coin_ids:\n",
    "        \n",
    "        current_coin_data = cg.get_coin_market_chart_range_by_id(id = x, vs_currency = 'usd', from_timestamp = ts_startDate_price, to_timestamp = ts_endDate_price)\n",
    "        \n",
    "        dummy_df = pd.DataFrame(current_coin_data[\"prices\"], columns = [\"timestamps\", \"price\" ])\n",
    "        dummy_marketcaps = pd.DataFrame(current_coin_data[\"market_caps\"], columns = [\"timestamps\", \"market_caps\" ])\n",
    "        dummy_volumes = pd.DataFrame(current_coin_data[\"total_volumes\"], columns = [\"timestamps\", \"volumes\" ])\n",
    "        \n",
    "        dummy_df = dummy_df.join(dummy_marketcaps[\"market_caps\"])\n",
    "        dummy_df = dummy_df.join(dummy_volumes[\"volumes\"])\n",
    "        \n",
    "        dummy_df[\"ID\"] = x\n",
    "        dummy_df[\"date_time\"] = pd.to_datetime(dummy_df['timestamps']/1000, unit='s')\n",
    "        \n",
    "        dummy_df = dummy_df[[\"ID\", \"timestamps\", \"date_time\", \"price\", \"market_caps\", \"volumes\"]]\n",
    "        \n",
    "        result = result.append(dummy_df)\n",
    "        \n",
    "    return result"
   ]
  },
  {
   "cell_type": "code",
   "execution_count": 46,
   "metadata": {
    "scrolled": true
   },
   "outputs": [],
   "source": [
    "price_data = get_price(user_df[\"ID\"])"
   ]
  },
  {
   "cell_type": "code",
   "execution_count": 47,
   "metadata": {},
   "outputs": [
    {
     "name": "stdout",
     "output_type": "stream",
     "text": [
      "<class 'pandas.core.frame.DataFrame'>\n",
      "Int64Index: 34 entries, 0 to 1\n",
      "Data columns (total 6 columns):\n",
      " #   Column       Non-Null Count  Dtype         \n",
      "---  ------       --------------  -----         \n",
      " 0   ID           34 non-null     object        \n",
      " 1   timestamps   34 non-null     object        \n",
      " 2   date_time    34 non-null     datetime64[ns]\n",
      " 3   price        34 non-null     float64       \n",
      " 4   market_caps  34 non-null     float64       \n",
      " 5   volumes      34 non-null     float64       \n",
      "dtypes: datetime64[ns](1), float64(3), object(2)\n",
      "memory usage: 1.9+ KB\n"
     ]
    }
   ],
   "source": [
    "price_data.info()"
   ]
  },
  {
   "cell_type": "code",
   "execution_count": 48,
   "metadata": {},
   "outputs": [
    {
     "data": {
      "text/plain": [
       "(34, 6)"
      ]
     },
     "execution_count": 48,
     "metadata": {},
     "output_type": "execute_result"
    }
   ],
   "source": [
    "price_data.shape"
   ]
  },
  {
   "cell_type": "code",
   "execution_count": 49,
   "metadata": {},
   "outputs": [
    {
     "data": {
      "text/plain": [
       "False"
      ]
     },
     "execution_count": 49,
     "metadata": {},
     "output_type": "execute_result"
    }
   ],
   "source": [
    "price_data.isna().any().any()"
   ]
  },
  {
   "cell_type": "code",
   "execution_count": 50,
   "metadata": {},
   "outputs": [
    {
     "data": {
      "text/plain": [
       "0"
      ]
     },
     "execution_count": 50,
     "metadata": {},
     "output_type": "execute_result"
    }
   ],
   "source": [
    "price_data[price_data.duplicated(keep=False)].shape[0]"
   ]
  },
  {
   "cell_type": "code",
   "execution_count": 51,
   "metadata": {
    "scrolled": true
   },
   "outputs": [
    {
     "data": {
      "text/html": [
       "<div>\n",
       "<style scoped>\n",
       "    .dataframe tbody tr th:only-of-type {\n",
       "        vertical-align: middle;\n",
       "    }\n",
       "\n",
       "    .dataframe tbody tr th {\n",
       "        vertical-align: top;\n",
       "    }\n",
       "\n",
       "    .dataframe thead th {\n",
       "        text-align: right;\n",
       "    }\n",
       "</style>\n",
       "<table border=\"1\" class=\"dataframe\">\n",
       "  <thead>\n",
       "    <tr style=\"text-align: right;\">\n",
       "      <th></th>\n",
       "      <th>ID</th>\n",
       "      <th>timestamps</th>\n",
       "      <th>date_time</th>\n",
       "      <th>price</th>\n",
       "      <th>market_caps</th>\n",
       "      <th>volumes</th>\n",
       "    </tr>\n",
       "  </thead>\n",
       "  <tbody>\n",
       "    <tr>\n",
       "      <th>0</th>\n",
       "      <td>ethereum</td>\n",
       "      <td>1670361599270</td>\n",
       "      <td>2022-12-06 21:19:59.269999981</td>\n",
       "      <td>1253.386147</td>\n",
       "      <td>1.511202e+11</td>\n",
       "      <td>4.468066e+09</td>\n",
       "    </tr>\n",
       "    <tr>\n",
       "      <th>1</th>\n",
       "      <td>ethereum</td>\n",
       "      <td>1670361899232</td>\n",
       "      <td>2022-12-06 21:24:59.232000113</td>\n",
       "      <td>1252.452175</td>\n",
       "      <td>1.510617e+11</td>\n",
       "      <td>4.465036e+09</td>\n",
       "    </tr>\n",
       "    <tr>\n",
       "      <th>0</th>\n",
       "      <td>binancecoin</td>\n",
       "      <td>1670361591578</td>\n",
       "      <td>2022-12-06 21:19:51.578000069</td>\n",
       "      <td>288.852693</td>\n",
       "      <td>4.716299e+10</td>\n",
       "      <td>3.323631e+08</td>\n",
       "    </tr>\n",
       "    <tr>\n",
       "      <th>1</th>\n",
       "      <td>binancecoin</td>\n",
       "      <td>1670361894869</td>\n",
       "      <td>2022-12-06 21:24:54.868999958</td>\n",
       "      <td>288.722625</td>\n",
       "      <td>4.716299e+10</td>\n",
       "      <td>5.853607e+08</td>\n",
       "    </tr>\n",
       "    <tr>\n",
       "      <th>0</th>\n",
       "      <td>ripple</td>\n",
       "      <td>1670361645574</td>\n",
       "      <td>2022-12-06 21:20:45.573999882</td>\n",
       "      <td>0.390349</td>\n",
       "      <td>1.964305e+10</td>\n",
       "      <td>9.506520e+08</td>\n",
       "    </tr>\n",
       "  </tbody>\n",
       "</table>\n",
       "</div>"
      ],
      "text/plain": [
       "            ID     timestamps                     date_time        price  \\\n",
       "0     ethereum  1670361599270 2022-12-06 21:19:59.269999981  1253.386147   \n",
       "1     ethereum  1670361899232 2022-12-06 21:24:59.232000113  1252.452175   \n",
       "0  binancecoin  1670361591578 2022-12-06 21:19:51.578000069   288.852693   \n",
       "1  binancecoin  1670361894869 2022-12-06 21:24:54.868999958   288.722625   \n",
       "0       ripple  1670361645574 2022-12-06 21:20:45.573999882     0.390349   \n",
       "\n",
       "    market_caps       volumes  \n",
       "0  1.511202e+11  4.468066e+09  \n",
       "1  1.510617e+11  4.465036e+09  \n",
       "0  4.716299e+10  3.323631e+08  \n",
       "1  4.716299e+10  5.853607e+08  \n",
       "0  1.964305e+10  9.506520e+08  "
      ]
     },
     "execution_count": 51,
     "metadata": {},
     "output_type": "execute_result"
    }
   ],
   "source": [
    "price_data.head()"
   ]
  },
  {
   "cell_type": "code",
   "execution_count": 52,
   "metadata": {},
   "outputs": [],
   "source": [
    "price_data.to_excel(r\"price_data.xlsx\")"
   ]
  },
  {
   "cell_type": "code",
   "execution_count": null,
   "metadata": {},
   "outputs": [],
   "source": []
  }
 ],
 "metadata": {
  "kernelspec": {
   "display_name": "Python 3",
   "language": "python",
   "name": "python3"
  },
  "language_info": {
   "codemirror_mode": {
    "name": "ipython",
    "version": 3
   },
   "file_extension": ".py",
   "mimetype": "text/x-python",
   "name": "python",
   "nbconvert_exporter": "python",
   "pygments_lexer": "ipython3",
   "version": "3.8.3"
  }
 },
 "nbformat": 4,
 "nbformat_minor": 4
}
